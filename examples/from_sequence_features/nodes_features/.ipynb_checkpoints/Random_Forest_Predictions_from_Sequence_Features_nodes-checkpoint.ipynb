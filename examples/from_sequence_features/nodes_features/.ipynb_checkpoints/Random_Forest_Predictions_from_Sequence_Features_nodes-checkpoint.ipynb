{
 "cells": [
  {
   "cell_type": "code",
   "execution_count": 1,
   "metadata": {
    "collapsed": false
   },
   "outputs": [
    {
     "name": "stderr",
     "output_type": "stream",
     "text": [
      "Using Theano backend.\n",
      "WARNING (theano.sandbox.cuda): The cuda backend is deprecated and will be removed in the next release (v0.10).  Please switch to the gpuarray backend. You can get more information about how to switch at this URL:\n",
      " https://github.com/Theano/Theano/wiki/Converting-to-the-new-gpu-back-end%28gpuarray%29\n",
      "\n",
      "WARNING (theano.gof.compilelock): Overriding existing lock by dead process '32413' (I am process '34316')\n",
      "Using gpu device 1: GeForce GTX TITAN X (CNMeM is disabled, cuDNN None)\n"
     ]
    }
   ],
   "source": [
    "%matplotlib inline\n",
    "%load_ext autoreload\n",
    "%autoreload 2\n",
    "\n",
    "import sys\n",
    "import numpy as np\n",
    "import copy\n",
    "import matplotlib.pyplot as plt\n",
    "from sklearn.preprocessing import MinMaxScaler, StandardScaler\n",
    "sys.path.append('/users/mtaranov/Genome3D/')\n",
    "from models_3d import Genome3D_RandomForest\n",
    "from metrics import ClassificationResult\n",
    "from utils import normalize_features_sampl_by_f, concat_motifs, get_features, get_labels, subsample_data, normalize_features, reconstruct_2d, printMatrix, binarize, zscore, get_2D, plot_prediction, change_scale "
   ]
  },
  {
   "cell_type": "code",
   "execution_count": 2,
   "metadata": {
    "collapsed": false
   },
   "outputs": [],
   "source": [
    "contacts='pe'\n",
    "path='/users/mtaranov/datasets_3d/by_chr_dist_matched_'+contacts+'/'\n",
    "day='d0'\n",
    "thres='10'\n",
    "\n",
    "X_train_node1 = path+'motifs/'+day+'_thres_'+thres+'_train_'+contacts+'_out_node1_3_0.0001/mat.npy'\n",
    "X_train_node2 = path+'motifs/'+day+'_thres_'+thres+'_train_'+contacts+'_out_node2_3_0.0001/mat.npy'\n",
    "X_train_window = path+'motifs/'+day+'_thres_'+thres+'_train_'+contacts+'_out_btw_nodes_3_0.0001/mat.npy'\n",
    "\n",
    "\n",
    "X_test_node1 = path+'motifs/'+day+'_thres_'+thres+'_test_'+contacts+'_out_node1_3_0.0001/mat.npy'\n",
    "X_test_node2 = path+'motifs/'+day+'_thres_'+thres+'_test_'+contacts+'_out_node2_3_0.0001/mat.npy'\n",
    "X_test_window = path+'motifs/'+day+'_thres_'+thres+'_test_'+contacts+'_out_btw_nodes_3_0.0001/mat.npy'\n",
    "\n",
    "X_valid_node1 = path+'motifs/'+day+'_thres_'+thres+'_valid_'+contacts+'_out_node1_3_0.0001/mat.npy'\n",
    "X_valid_node2 = path+'motifs/'+day+'_thres_'+thres+'_valid_'+contacts+'_out_node2_3_0.0001/mat.npy'\n",
    "X_valid_window = path+'motifs/'+day+'_thres_'+thres+'_valid_'+contacts+'_out_btw_nodes_3_0.0001/mat.npy'\n",
    "\n",
    "y_train = get_labels(path+day+'_y_train_thres_'+thres+'.npy')\n",
    "y_test = get_labels(path+day+'_y_test_thres_'+thres+'.npy')\n",
    "y_valid = get_labels(path+day+'_y_valid_thres_'+thres+'.npy')\n",
    "\n",
    "X_train=concat_motifs([X_train_node1, X_train_node2])\n",
    "X_test=concat_motifs([X_test_node1, X_test_node2])\n",
    "X_valid=concat_motifs([X_valid_node1, X_valid_node2])"
   ]
  },
  {
   "cell_type": "code",
   "execution_count": 4,
   "metadata": {
    "collapsed": false
   },
   "outputs": [],
   "source": [
    "X_train_normalized, X_valid_normalized, X_test_normalized = normalize_features_sampl_by_f(X_train, X_valid_pairs, X_test_pairs)"
   ]
  },
  {
   "cell_type": "markdown",
   "metadata": {},
   "source": [
    "# Random Forest"
   ]
  },
  {
   "cell_type": "markdown",
   "metadata": {},
   "source": [
    "### with motifs only"
   ]
  },
  {
   "cell_type": "markdown",
   "metadata": {},
   "source": [
    "# Estimating hyper-parameter using held out validation set"
   ]
  },
  {
   "cell_type": "code",
   "execution_count": 5,
   "metadata": {
    "collapsed": true
   },
   "outputs": [],
   "source": [
    "X_train_valid = np.concatenate((X_train_normalized, X_valid_normalized), axis=0)\n",
    "y_train_valid = np.concatenate((y_train, y_valid), axis=0)"
   ]
  },
  {
   "cell_type": "code",
   "execution_count": 6,
   "metadata": {
    "collapsed": true
   },
   "outputs": [],
   "source": [
    "# test_fold to 0 for all samples that are part of the validation set, and to -1 for all other samples.\n",
    "valid_index=[-1 for i in range(X_train_normalized.shape[0])]+[0 for i in range(X_valid_normalized.shape[0])]"
   ]
  },
  {
   "cell_type": "code",
   "execution_count": 7,
   "metadata": {
    "collapsed": true
   },
   "outputs": [],
   "source": [
    "param_grid = {'n_estimators': [100, 200, 500], 'criterion': ['gini', 'entropy'], 'max_features': ['auto', 'log2' ], 'max_depth': [None, 2, 3, 5], 'min_samples_split': [2, 3, 4], 'min_samples_leaf': [1, 2, 3], 'min_impurity_split': [0.0 , 0.1, 0.2]}"
   ]
  },
  {
   "cell_type": "code",
   "execution_count": 8,
   "metadata": {
    "collapsed": true
   },
   "outputs": [],
   "source": [
    "best_param={}"
   ]
  },
  {
   "cell_type": "code",
   "execution_count": 9,
   "metadata": {
    "collapsed": true
   },
   "outputs": [],
   "source": [
    "rf = Genome3D_RandomForest(best_param)"
   ]
  },
  {
   "cell_type": "code",
   "execution_count": 11,
   "metadata": {
    "collapsed": false
   },
   "outputs": [],
   "source": [
    "best_param = rf.train_cross_val(X_train_valid[:,:18], [i for i in y_train_valid[:,0]], valid_index, param_grid)"
   ]
  },
  {
   "cell_type": "code",
   "execution_count": 12,
   "metadata": {
    "collapsed": false
   },
   "outputs": [
    {
     "data": {
      "text/plain": [
       "{'criterion': 'entropy',\n",
       " 'max_depth': None,\n",
       " 'max_features': 'auto',\n",
       " 'min_impurity_split': 0.1,\n",
       " 'min_samples_leaf': 3,\n",
       " 'min_samples_split': 4,\n",
       " 'n_estimators': 100}"
      ]
     },
     "execution_count": 12,
     "metadata": {},
     "output_type": "execute_result"
    }
   ],
   "source": [
    "best_param"
   ]
  },
  {
   "cell_type": "markdown",
   "metadata": {},
   "source": [
    "# Random Forest Predictions"
   ]
  },
  {
   "cell_type": "code",
   "execution_count": 13,
   "metadata": {
    "collapsed": true
   },
   "outputs": [],
   "source": [
    "rf = Genome3D_RandomForest(best_param)"
   ]
  },
  {
   "cell_type": "code",
   "execution_count": 14,
   "metadata": {
    "collapsed": false
   },
   "outputs": [
    {
     "name": "stderr",
     "output_type": "stream",
     "text": [
      "/users/mtaranov/LongRange3D/models_3d.py:265: DataConversionWarning: A column-vector y was passed when a 1d array was expected. Please change the shape of y to (n_samples,), for example using ravel().\n",
      "  self.classifier.fit(X, y)\n"
     ]
    },
    {
     "name": "stdout",
     "output_type": "stream",
     "text": [
      "On Test:\n",
      "Balanced Accuracy: 63.56%\t auROC: 0.666\t auPRC: 0.635\t auPRG: 0.366\n",
      "Positve Accuracy: 75.30%\t Negative Accuracy: 51.82%\n",
      "Recall at 5%|10%|20% FDR: 2.4%|2.4%|2.4%\t Num Positives: 494\t Num Negatives: 494\t \n",
      "\n",
      "On Train:\n",
      "Balanced Accuracy: 100.00%\t auROC: 1.000\t auPRC: 1.000\t auPRG: 1.000\n",
      "Positve Accuracy: 100.00%\t Negative Accuracy: 100.00%\n",
      "Recall at 5%|10%|20% FDR: 100.0%|100.0%|100.0%\t Num Positives: 3355\t Num Negatives: 3355\t \n",
      "\n"
     ]
    }
   ],
   "source": [
    "rf.train(X_train_normalized, y_train)\n",
    "preds_test = rf.predict(X_test_normalized)\n",
    "preds_train = rf.predict(X_train_normalized)\n",
    "print ('On Test:\\n{}\\n'.format(ClassificationResult(y_test, preds_test)))\n",
    "print ('On Train:\\n{}\\n'.format(ClassificationResult(y_train, preds_train)))"
   ]
  },
  {
   "cell_type": "markdown",
   "metadata": {},
   "source": [
    "# Random Forest Feature Selection"
   ]
  },
  {
   "cell_type": "code",
   "execution_count": 15,
   "metadata": {
    "collapsed": true
   },
   "outputs": [],
   "source": [
    "scores=rf.ImportanceSelect()"
   ]
  },
  {
   "cell_type": "code",
   "execution_count": 16,
   "metadata": {
    "collapsed": false
   },
   "outputs": [
    {
     "data": {
      "text/plain": [
       "(5760,)"
      ]
     },
     "execution_count": 16,
     "metadata": {},
     "output_type": "execute_result"
    }
   ],
   "source": [
    "scores.shape"
   ]
  },
  {
   "cell_type": "code",
   "execution_count": 17,
   "metadata": {
    "collapsed": true
   },
   "outputs": [],
   "source": [
    "motif_names=np.loadtxt('/users/mtaranov/datasets_3d/dist_matched_PE/motifs/train_PE_out_btw_nodes_3_0.0001/motif_names.txt', dtype=str, delimiter='/')[:,6:].reshape(640,)\n",
    "top_3_hits_names=[]\n",
    "for i in motif_names:\n",
    "    for j in range(3):\n",
    "        top_3_hits_names.append(i)\n",
    "top_3_hits_names = np.array(top_3_hits_names)"
   ]
  },
  {
   "cell_type": "code",
   "execution_count": 18,
   "metadata": {
    "collapsed": false
   },
   "outputs": [],
   "source": [
    "score_per_feature_node1=scores[0:5760:3]\n",
    "score_per_feature_node2=scores[1:5761:3]\n",
    "score_per_feature_window=scores[2:5762:3]"
   ]
  },
  {
   "cell_type": "code",
   "execution_count": 19,
   "metadata": {
    "collapsed": true
   },
   "outputs": [],
   "source": [
    "RF_Importance_Motifs_node1=top_3_hits_names[score_per_feature_node1.argsort()[::-1]]\n",
    "RF_Importance_Motifs_node2=top_3_hits_names[score_per_feature_node2.argsort()[::-1]]\n",
    "RF_Importance_Motifs_window=top_3_hits_names[score_per_feature_window.argsort()[::-1]]"
   ]
  },
  {
   "cell_type": "code",
   "execution_count": 20,
   "metadata": {
    "collapsed": false
   },
   "outputs": [
    {
     "name": "stdout",
     "output_type": "stream",
     "text": [
      "(array([1078, 1270, 1711]),)\n",
      "(array([184, 337, 481]),)\n"
     ]
    }
   ],
   "source": [
    "print np.where(RF_Importance_Motifs_node1=='CTCF_HUMAN')\n",
    "print np.where(RF_Importance_Motifs_node1=='CTCFL_HUMAN')"
   ]
  },
  {
   "cell_type": "code",
   "execution_count": 21,
   "metadata": {
    "collapsed": false
   },
   "outputs": [
    {
     "name": "stdout",
     "output_type": "stream",
     "text": [
      "(array([ 314,  686, 1148]),)\n",
      "(array([178, 531, 573]),)\n"
     ]
    }
   ],
   "source": [
    "print np.where(RF_Importance_Motifs_node2=='CTCF_HUMAN')\n",
    "print np.where(RF_Importance_Motifs_node2=='CTCFL_HUMAN')"
   ]
  },
  {
   "cell_type": "code",
   "execution_count": 22,
   "metadata": {
    "collapsed": false
   },
   "outputs": [
    {
     "name": "stdout",
     "output_type": "stream",
     "text": [
      "(array([  89,  225, 1146]),)\n",
      "(array([ 30,  39, 549]),)\n"
     ]
    }
   ],
   "source": [
    "print np.where(RF_Importance_Motifs_window=='CTCF_HUMAN')\n",
    "print np.where(RF_Importance_Motifs_window=='CTCFL_HUMAN')"
   ]
  },
  {
   "cell_type": "code",
   "execution_count": 23,
   "metadata": {
    "collapsed": false
   },
   "outputs": [
    {
     "data": {
      "text/plain": [
       "array(['HXB6_HUMAN', 'ELF3_HUMAN', 'FOXJ2_HUMAN', 'RFX2_HUMAN',\n",
       "       'ARI5B_HUMAN', 'SOX15_HUMAN', 'IRF5_HUMAN', 'HMX3_HUMAN',\n",
       "       'ISX_HUMAN', 'P5F1B_HUMAN', 'ZN282_HUMAN', 'ARI5B_HUMAN',\n",
       "       'IRX2_HUMAN', 'ETV3_HUMAN', 'NFAC3_HUMAN', 'ZBTB4_HUMAN',\n",
       "       'VAX2_HUMAN', 'SP4_HUMAN', 'TBX15_HUMAN', 'TBX15_HUMAN',\n",
       "       'ZEB1_HUMAN', 'BHA15_HUMAN', 'SOX15_HUMAN', 'FOXD2_HUMAN',\n",
       "       'MEOX2_HUMAN', 'PLAG1_HUMAN', 'TBX20_HUMAN', 'HXC10_HUMAN',\n",
       "       'PROP1_HUMAN', 'DLX4_HUMAN', 'ARX_HUMAN', 'ARI5B_HUMAN',\n",
       "       'NKX28_HUMAN', 'TBP_HUMAN', 'HXA1_HUMAN', 'NFIL3_HUMAN',\n",
       "       'DLX2_HUMAN', 'MEIS2_HUMAN', 'GCR_HUMAN', 'PRGR_HUMAN',\n",
       "       'KLF3_HUMAN', 'GATA3_HUMAN', 'IRX2_HUMAN', 'VSX2_HUMAN',\n",
       "       'BATF_HUMAN', 'SP2_HUMAN', 'RFX1_HUMAN', 'MEIS2_HUMAN',\n",
       "       'HXC10_HUMAN', 'HMBX1_HUMAN', 'ETV3_HUMAN', 'HXC10_HUMAN',\n",
       "       'TBP_HUMAN', 'E4F1_HUMAN', 'PAX5_HUMAN', 'IKZF1_HUMAN',\n",
       "       'HXA1_HUMAN', 'FOXA1_HUMAN', 'TAL1_HUMAN', 'MAFG_HUMAN',\n",
       "       'SOX21_HUMAN', 'FOXA1_HUMAN', 'PEBB_HUMAN', 'AP2D_HUMAN',\n",
       "       'IRF4_HUMAN', 'RFX5_HUMAN', 'IRF5_HUMAN', 'IRF4_HUMAN',\n",
       "       'EOMES_HUMAN', 'AP2B_HUMAN', 'HLTF_HUMAN', 'SRBP2_HUMAN',\n",
       "       'IRF8_HUMAN', 'FOXJ2_HUMAN', 'VSX2_HUMAN', 'ISX_HUMAN',\n",
       "       'SMAD2_HUMAN', 'ZN639_HUMAN', 'HXD3_HUMAN', 'SOX5_HUMAN',\n",
       "       'ZN384_HUMAN', 'NFIA_HUMAN', 'ZN384_HUMAN', 'RFX4_HUMAN',\n",
       "       'GRHL1_HUMAN', 'ZBED1_HUMAN', 'SMAD2_HUMAN', 'FOXD2_HUMAN',\n",
       "       'SP4_HUMAN', 'PO5F1_HUMAN', 'ELF3_HUMAN', 'NKX28_HUMAN',\n",
       "       'BATF_HUMAN', 'IRF8_HUMAN', 'GCR_HUMAN', 'PO2F2_HUMAN',\n",
       "       'HXB8_HUMAN', 'KLF4_HUMAN', 'E2F5_HUMAN', 'GATA1_HUMAN'],\n",
       "      dtype='|S11')"
      ]
     },
     "execution_count": 23,
     "metadata": {},
     "output_type": "execute_result"
    }
   ],
   "source": [
    "RF_Importance_Motifs_node1[:100]"
   ]
  },
  {
   "cell_type": "code",
   "execution_count": 24,
   "metadata": {
    "collapsed": false
   },
   "outputs": [
    {
     "data": {
      "text/plain": [
       "array(['EOMES_HUMAN', 'TAL1_HUMAN', 'NFAC3_HUMAN', 'MAFG_HUMAN',\n",
       "       'TBP_HUMAN', 'ZBED1_HUMAN', 'FOXJ2_HUMAN', 'IRF4_HUMAN',\n",
       "       'HXA9_HUMAN', 'SMAD2_HUMAN', 'KLF4_HUMAN', 'IRF5_HUMAN',\n",
       "       'MAFG_HUMAN', 'IRF4_HUMAN', 'GATA6_HUMAN', 'FOXA1_HUMAN',\n",
       "       'SP1_HUMAN', 'BACH1_HUMAN', 'ZBTB4_HUMAN', 'BATF_HUMAN',\n",
       "       'ETV3_HUMAN', 'GRHL1_HUMAN', 'PAX5_HUMAN', 'ZN350_HUMAN',\n",
       "       'KLF4_HUMAN', 'TBX15_HUMAN', 'ISL1_HUMAN', 'MYCN_HUMAN',\n",
       "       'NOBOX_HUMAN', 'NKX28_HUMAN', 'VSX2_HUMAN', 'BATF_HUMAN',\n",
       "       'EHF_HUMAN', 'HME1_HUMAN', 'ATOH1_HUMAN', 'E2F4_HUMAN',\n",
       "       'ZSCA4_HUMAN', 'ATOH1_HUMAN', 'ARI5B_HUMAN', 'PO5F1_HUMAN',\n",
       "       'P5F1B_HUMAN', 'KLF4_HUMAN', 'HIF1A_HUMAN', 'BACH1_HUMAN',\n",
       "       'GATA6_HUMAN', 'HNF1A_HUMAN', 'HSF4_HUMAN', 'ZBTB4_HUMAN',\n",
       "       'OLIG3_HUMAN', 'BHA15_HUMAN', 'DDIT3_HUMAN', 'STA5A_HUMAN',\n",
       "       'ZN232_HUMAN', 'PO5F1_HUMAN', 'HXB7_HUMAN', 'SNAI1_HUMAN',\n",
       "       'BARX1_HUMAN', 'NKX31_HUMAN', 'DLX4_HUMAN', 'ZBED1_HUMAN',\n",
       "       'MBD2_HUMAN', 'OVOL1_HUMAN', 'PO3F3_HUMAN', 'STA5B_HUMAN',\n",
       "       'TBP_HUMAN', 'ZN589_HUMAN', 'ZBTB6_HUMAN', 'IKZF1_HUMAN',\n",
       "       'BACH1_HUMAN', 'MAFA_HUMAN', 'IRF5_HUMAN', 'STF1_HUMAN',\n",
       "       'SOX4_HUMAN', 'STAT4_HUMAN', 'SOX15_HUMAN', 'HXB8_HUMAN',\n",
       "       'GCR_HUMAN', 'NR2F6_HUMAN', 'IRX2_HUMAN', 'PKNX2_HUMAN',\n",
       "       'GABP1_HUMAN', 'NDF2_HUMAN', 'NR2C1_HUMAN', 'KLF13_HUMAN',\n",
       "       'MEF2C_HUMAN', 'ZN350_HUMAN', 'ELF3_HUMAN', 'RFX4_HUMAN',\n",
       "       'ZSC16_HUMAN', 'ERR3_HUMAN', 'HIC2_HUMAN', 'NFAC4_HUMAN',\n",
       "       'E4F1_HUMAN', 'TBX1_HUMAN', 'RXRG_HUMAN', 'FOXJ2_HUMAN',\n",
       "       'LEF1_HUMAN', 'P63_HUMAN', 'PO2F1_HUMAN', 'RORG_HUMAN'],\n",
       "      dtype='|S11')"
      ]
     },
     "execution_count": 24,
     "metadata": {},
     "output_type": "execute_result"
    }
   ],
   "source": [
    "RF_Importance_Motifs_node2[:100]"
   ]
  },
  {
   "cell_type": "code",
   "execution_count": 25,
   "metadata": {
    "collapsed": false
   },
   "outputs": [
    {
     "data": {
      "text/plain": [
       "array(['HXA7_HUMAN', 'E2F8_HUMAN', 'FOXD3_HUMAN', 'HXB6_HUMAN',\n",
       "       'LHX8_HUMAN', 'P63_HUMAN', 'HXB6_HUMAN', 'ZN524_HUMAN',\n",
       "       'BARX2_HUMAN', 'ELF3_HUMAN', 'ZBT18_HUMAN', 'CRX_HUMAN',\n",
       "       'ZN524_HUMAN', 'SPIC_HUMAN', 'OLIG3_HUMAN', 'KLF12_HUMAN',\n",
       "       'DUXA_HUMAN', 'HXB6_HUMAN', 'SRY_HUMAN', 'P63_HUMAN', 'GLI1_HUMAN',\n",
       "       'FOXI1_HUMAN', 'HXA7_HUMAN', 'ETV2_HUMAN', 'THAP1_HUMAN',\n",
       "       'SRY_HUMAN', 'EMX1_HUMAN', 'ETV3_HUMAN', 'SRY_HUMAN', 'GLI1_HUMAN',\n",
       "       'CTCFL_HUMAN', 'ZN740_HUMAN', 'DLX5_HUMAN', 'SOX11_HUMAN',\n",
       "       'ELF3_HUMAN', 'DDIT3_HUMAN', 'NFAC1_HUMAN', 'BARX2_HUMAN',\n",
       "       'EMX1_HUMAN', 'CTCFL_HUMAN', 'FOXC1_HUMAN', 'ALX4_HUMAN',\n",
       "       'PLAG1_HUMAN', 'PTF1A_HUMAN', 'ZKSC3_HUMAN', 'LHX2_HUMAN',\n",
       "       'LHX8_HUMAN', 'FLI1_HUMAN', 'ESX1_HUMAN', 'TEAD1_HUMAN',\n",
       "       'THAP1_HUMAN', 'BHE40_HUMAN', 'GFI1_HUMAN', 'NFAC1_HUMAN',\n",
       "       'NFYA_HUMAN', 'RARG_HUMAN', 'PAX6_HUMAN', 'JUND_HUMAN',\n",
       "       'ATF1_HUMAN', 'SMAD4_HUMAN', 'SMAD1_HUMAN', 'RARG_HUMAN',\n",
       "       'SOX13_HUMAN', 'ZKSC3_HUMAN', 'MEOX1_HUMAN', 'PKNX2_HUMAN',\n",
       "       'ZN423_HUMAN', 'FOXC2_HUMAN', 'ZN423_HUMAN', 'THA_HUMAN',\n",
       "       'GRHL1_HUMAN', 'MEF2C_HUMAN', 'ELK1_HUMAN', 'GCM2_HUMAN',\n",
       "       'BHE40_HUMAN', 'DUXA_HUMAN', 'TEAD4_HUMAN', 'LMX1A_HUMAN',\n",
       "       'PKNX2_HUMAN', 'GLI1_HUMAN', 'RARG_HUMAN', 'ALX4_HUMAN',\n",
       "       'ELK1_HUMAN', 'E2F4_HUMAN', 'FOXK1_HUMAN', 'DLX5_HUMAN',\n",
       "       'NKX62_HUMAN', 'HXD8_HUMAN', 'CREB3_HUMAN', 'CTCF_HUMAN',\n",
       "       'MEOX2_HUMAN', 'ZIC1_HUMAN', 'HXC8_HUMAN', 'NF2L1_HUMAN',\n",
       "       'MEF2B_HUMAN', 'RARG_HUMAN', 'JUND_HUMAN', 'NFAC1_HUMAN',\n",
       "       'PLAG1_HUMAN', 'EVX1_HUMAN'],\n",
       "      dtype='|S11')"
      ]
     },
     "execution_count": 25,
     "metadata": {},
     "output_type": "execute_result"
    }
   ],
   "source": [
    "RF_Importance_Motifs_window[:100]"
   ]
  },
  {
   "cell_type": "code",
   "execution_count": 26,
   "metadata": {
    "collapsed": false
   },
   "outputs": [
    {
     "name": "stderr",
     "output_type": "stream",
     "text": [
      "/users/mtaranov/local/anaconda2/lib/python2.7/site-packages/ipykernel/__main__.py:1: DeprecationWarning: the sets module is deprecated\n",
      "  if __name__ == '__main__':\n"
     ]
    }
   ],
   "source": [
    "from sets import Set\n",
    "uniq_RF_Importance_Motifs_node1 = Set(RF_Importance_Motifs_node1[:100])\n",
    "uniq_RF_Importance_Motifs_node2 = Set(RF_Importance_Motifs_node2[:100])\n",
    "uniq_RF_Importance_Motifs_window = Set(RF_Importance_Motifs_window[:100])\n"
   ]
  },
  {
   "cell_type": "code",
   "execution_count": 27,
   "metadata": {
    "collapsed": false
   },
   "outputs": [
    {
     "data": {
      "text/plain": [
       "Set(['GRHL1_HUMAN', 'ETV3_HUMAN', 'ELF3_HUMAN'])"
      ]
     },
     "execution_count": 27,
     "metadata": {},
     "output_type": "execute_result"
    }
   ],
   "source": [
    "uniq_RF_Importance_Motifs_node1 & uniq_RF_Importance_Motifs_node2 & uniq_RF_Importance_Motifs_window\n"
   ]
  },
  {
   "cell_type": "code",
   "execution_count": null,
   "metadata": {
    "collapsed": true
   },
   "outputs": [],
   "source": []
  }
 ],
 "metadata": {
  "anaconda-cloud": {},
  "kernelspec": {
   "display_name": "Python [default]",
   "language": "python",
   "name": "python2"
  },
  "language_info": {
   "codemirror_mode": {
    "name": "ipython",
    "version": 2
   },
   "file_extension": ".py",
   "mimetype": "text/x-python",
   "name": "python",
   "nbconvert_exporter": "python",
   "pygments_lexer": "ipython2",
   "version": "2.7.12"
  }
 },
 "nbformat": 4,
 "nbformat_minor": 0
}
