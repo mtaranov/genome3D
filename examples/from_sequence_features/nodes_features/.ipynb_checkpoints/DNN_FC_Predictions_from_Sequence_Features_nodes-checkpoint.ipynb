{
 "cells": [
  {
   "cell_type": "code",
   "execution_count": 1,
   "metadata": {
    "collapsed": false
   },
   "outputs": [
    {
     "name": "stderr",
     "output_type": "stream",
     "text": [
      "Using Theano backend.\n",
      "WARNING (theano.sandbox.cuda): The cuda backend is deprecated and will be removed in the next release (v0.10).  Please switch to the gpuarray backend. You can get more information about how to switch at this URL:\n",
      " https://github.com/Theano/Theano/wiki/Converting-to-the-new-gpu-back-end%28gpuarray%29\n",
      "\n",
      "Using gpu device 1: GeForce GTX TITAN X (CNMeM is disabled, cuDNN 5005)\n"
     ]
    }
   ],
   "source": [
    "%matplotlib inline\n",
    "%load_ext autoreload\n",
    "%autoreload 2\n",
    "\n",
    "import sys\n",
    "import numpy as np\n",
    "import matplotlib.pyplot as plt\n",
    "import pickle\n",
    "from sklearn.preprocessing import MinMaxScaler, StandardScaler\n",
    "sys.path.append('/users/mtaranov/genome3D/')\n",
    "from models_3d import Genome3D_DNN_FC\n",
    "from utils import normalize_features_sampl_by_f, concat_motifs, get_features, get_labels, subsample_data, normalize_features, reconstruct_2d, printMatrix, binarize, zscore, get_2D, plot_prediction, change_scale\n",
    "#from sklearn.preprocessing import MinMaxScaler, StandardScaler"
   ]
  },
  {
   "cell_type": "code",
   "execution_count": 2,
   "metadata": {
    "collapsed": false
   },
   "outputs": [],
   "source": [
    "contacts='pe'\n",
    "path='/users/mtaranov/datasets_3d/by_chr_dist_matched_'+contacts+'/'\n",
    "day='d0'\n",
    "thres='10'\n",
    "\n",
    "X_train_node1 = path+'motifs/train_'+contacts+'_out_node1_3_0.0001/mat.npy'\n",
    "X_train_node2 = path+'motifs/train_'+contacts+'_out_node2_3_0.0001/mat.npy'\n",
    "X_test_node1 = path+'motifs/test_'+contacts+'_out_node1_3_0.0001/mat.npy'\n",
    "X_test_node2 = path+'motifs/test_'+contacts+'_out_node2_3_0.0001/mat.npy'\n",
    "X_valid_node1 = path+'motifs/valid_'+contacts+'_out_node1_3_0.0001/mat.npy'\n",
    "X_valid_node2 = path+'motifs/valid_'+contacts+'_out_node2_3_0.0001/mat.npy'\n",
    "\n",
    "y_train = get_labels(path+'y_train_thres_10.npy')\n",
    "y_test = get_labels(path+'y_test_thres_10.npy')\n",
    "y_valid = get_labels(path+'y_valid_thres_10.npy')\n",
    "\n",
    "X_train=concat_motifs([X_train_node1, X_train_node2])\n",
    "X_test=concat_motifs([X_test_node1, X_test_node2])\n",
    "X_valid=concat_motifs([X_valid_node1, X_valid_node2])"
   ]
  },
  {
   "cell_type": "code",
   "execution_count": 3,
   "metadata": {
    "collapsed": false
   },
   "outputs": [],
   "source": [
    "X_train_normalized, X_valid_normalized, X_test_normalized = normalize_features(X_train, X_valid, X_test)\n",
    "\n",
    "#X_train_normalized_subsampled, y_train_subsampled = subsample_data(X_train_normalized, y_train)\n",
    "#X_valid_normalized_subsampled, y_valid_subsampled = subsample_data(X_valid_normalized, y_valid)\n",
    "#X_test_normalized_subsampled, y_test_subsampled = subsample_data(X_test_normalized, y_test)\n",
    "\n",
    "#X_train_scaled_subsampled, y_train_subsampled = subsample_data(X_train_scaled, y_train)\n",
    "#X_valid_scaled_subsampled, y_valid_subsampled = subsample_data(X_valid_scaled, y_valid)\n",
    "#X_test_scaled_subsampled, y_test_subsampled = subsample_data(X_test_scaled, y_test)\n"
   ]
  },
  {
   "cell_type": "code",
   "execution_count": 4,
   "metadata": {
    "collapsed": true
   },
   "outputs": [],
   "source": [
    "X_train_pairs = X_train_normalized.reshape(X_train_normalized.shape[0],X_train_normalized.shape[2]*X_train_normalized.shape[3])\n",
    "X_valid_pairs = X_valid_normalized.reshape(X_valid_normalized.shape[0],X_valid_normalized.shape[2]*X_valid_normalized.shape[3])\n",
    "X_test_pairs = X_test_normalized.reshape(X_test_normalized.shape[0],X_test_normalized.shape[2]*X_test_normalized.shape[3])"
   ]
  },
  {
   "cell_type": "code",
   "execution_count": 5,
   "metadata": {
    "collapsed": false,
    "scrolled": true
   },
   "outputs": [
    {
     "data": {
      "text/plain": [
       "(4824, 3840)"
      ]
     },
     "execution_count": 5,
     "metadata": {},
     "output_type": "execute_result"
    }
   ],
   "source": [
    "X_train_pairs.shape"
   ]
  },
  {
   "cell_type": "markdown",
   "metadata": {},
   "source": [
    "# from motifs"
   ]
  },
  {
   "cell_type": "code",
   "execution_count": 6,
   "metadata": {
    "collapsed": false
   },
   "outputs": [
    {
     "name": "stdout",
     "output_type": "stream",
     "text": [
      "Training model...\n",
      "Train on 4824 samples, validate on 2872 samples\n",
      "Epoch 1/100\n",
      "4750/4824 [============================>.] - ETA: 0s - loss: 3.5826Epoch 0: validation loss: 0.805\n",
      "Balanced Accuracy: 65.18%\t auROC: 0.719\t auPRC: 0.707\t auPRG: 0.441\n",
      "Recall at 5%|10%|20% FDR: 0.8%|2.8%|15.4%\t Num Positives: 1436\t Num Negatives: 1436\t \n",
      "\n",
      "4824/4824 [==============================] - 1s - loss: 3.5607 - val_loss: 0.8051\n",
      "Epoch 2/100\n",
      "4750/4824 [============================>.] - ETA: 0s - loss: 0.8540Epoch 1: validation loss: 0.578\n",
      "Balanced Accuracy: 71.14%\t auROC: 0.791\t auPRC: 0.791\t auPRG: 0.590\n",
      "Recall at 5%|10%|20% FDR: 6.5%|22.8%|51.2%\t Num Positives: 1436\t Num Negatives: 1436\t \n",
      "\n",
      "4824/4824 [==============================] - 1s - loss: 0.8537 - val_loss: 0.5784\n",
      "Epoch 3/100\n",
      "4750/4824 [============================>.] - ETA: 0s - loss: 0.3747Epoch 2: validation loss: 0.559\n",
      "Balanced Accuracy: 72.84%\t auROC: 0.808\t auPRC: 0.813\t auPRG: 0.634\n",
      "Recall at 5%|10%|20% FDR: 18.0%|28.5%|59.9%\t Num Positives: 1436\t Num Negatives: 1436\t \n",
      "\n",
      "4824/4824 [==============================] - 1s - loss: 0.3748 - val_loss: 0.5592\n",
      "Epoch 4/100\n",
      "4750/4824 [============================>.] - ETA: 0s - loss: 0.1952Epoch 3: validation loss: 0.549\n",
      "Balanced Accuracy: 73.75%\t auROC: 0.819\t auPRC: 0.828\t auPRG: 0.661\n",
      "Recall at 5%|10%|20% FDR: 18.5%|36.6%|63.7%\t Num Positives: 1436\t Num Negatives: 1436\t \n",
      "\n",
      "4824/4824 [==============================] - 1s - loss: 0.1951 - val_loss: 0.5489\n",
      "Epoch 5/100\n",
      "4750/4824 [============================>.] - ETA: 0s - loss: 0.1165Epoch 4: validation loss: 0.590\n",
      "Balanced Accuracy: 74.30%\t auROC: 0.819\t auPRC: 0.827\t auPRG: 0.664\n",
      "Recall at 5%|10%|20% FDR: 13.9%|35.3%|63.3%\t Num Positives: 1436\t Num Negatives: 1436\t \n",
      "\n",
      "4824/4824 [==============================] - 1s - loss: 0.1166 - val_loss: 0.5898\n",
      "Epoch 6/100\n",
      "4750/4824 [============================>.] - ETA: 0s - loss: 0.0782Epoch 5: validation loss: 0.570\n",
      "Balanced Accuracy: 74.79%\t auROC: 0.825\t auPRC: 0.833\t auPRG: 0.674\n",
      "Recall at 5%|10%|20% FDR: 15.3%|38.6%|64.6%\t Num Positives: 1436\t Num Negatives: 1436\t \n",
      "\n",
      "4824/4824 [==============================] - 1s - loss: 0.0778 - val_loss: 0.5697\n",
      "Epoch 7/100\n",
      "4750/4824 [============================>.] - ETA: 0s - loss: 0.0540Epoch 6: validation loss: 0.583\n",
      "Balanced Accuracy: 75.21%\t auROC: 0.826\t auPRC: 0.834\t auPRG: 0.677\n",
      "Recall at 5%|10%|20% FDR: 17.3%|37.8%|66.1%\t Num Positives: 1436\t Num Negatives: 1436\t \n",
      "\n",
      "4824/4824 [==============================] - 1s - loss: 0.0539 - val_loss: 0.5827\n",
      "Epoch 8/100\n",
      "4750/4824 [============================>.] - ETA: 0s - loss: 0.0405Epoch 7: validation loss: 0.598\n",
      "Balanced Accuracy: 74.90%\t auROC: 0.827\t auPRC: 0.835\t auPRG: 0.680\n",
      "Recall at 5%|10%|20% FDR: 16.7%|38.9%|66.8%\t Num Positives: 1436\t Num Negatives: 1436\t \n",
      "\n",
      "4824/4824 [==============================] - 1s - loss: 0.0404 - val_loss: 0.5981\n",
      "Epoch 9/100\n",
      "4750/4824 [============================>.] - ETA: 0s - loss: 0.0302Epoch 8: validation loss: 0.604\n",
      "Balanced Accuracy: 75.42%\t auROC: 0.828\t auPRC: 0.836\t auPRG: 0.682\n",
      "Recall at 5%|10%|20% FDR: 15.7%|39.9%|67.4%\t Num Positives: 1436\t Num Negatives: 1436\t \n",
      "\n",
      "4824/4824 [==============================] - 1s - loss: 0.0302 - val_loss: 0.6041\n",
      "Epoch 10/100\n",
      "4750/4824 [============================>.] - ETA: 0s - loss: 0.0246Epoch 9: validation loss: 0.626\n",
      "Balanced Accuracy: 74.90%\t auROC: 0.828\t auPRC: 0.835\t auPRG: 0.681\n",
      "Recall at 5%|10%|20% FDR: 16.6%|39.3%|66.9%\t Num Positives: 1436\t Num Negatives: 1436\t \n",
      "\n",
      "4824/4824 [==============================] - 1s - loss: 0.0246 - val_loss: 0.6256\n",
      "Epoch 11/100\n",
      "4750/4824 [============================>.] - ETA: 0s - loss: 0.0195Epoch 10: validation loss: 0.632\n",
      "Balanced Accuracy: 75.35%\t auROC: 0.829\t auPRC: 0.836\t auPRG: 0.683\n",
      "Recall at 5%|10%|20% FDR: 16.3%|39.2%|67.5%\t Num Positives: 1436\t Num Negatives: 1436\t \n",
      "\n",
      "4824/4824 [==============================] - 1s - loss: 0.0195 - val_loss: 0.6318\n",
      "Epoch 12/100\n",
      "4750/4824 [============================>.] - ETA: 0s - loss: 0.0159Epoch 11: validation loss: 0.649\n",
      "Balanced Accuracy: 75.03%\t auROC: 0.828\t auPRC: 0.835\t auPRG: 0.684\n",
      "Recall at 5%|10%|20% FDR: 16.4%|39.6%|67.6%\t Num Positives: 1436\t Num Negatives: 1436\t \n",
      "\n",
      "4824/4824 [==============================] - 1s - loss: 0.0159 - val_loss: 0.6488\n",
      "Epoch 13/100\n",
      "4750/4824 [============================>.] - ETA: 0s - loss: 0.0134Epoch 12: validation loss: 0.650\n",
      "Balanced Accuracy: 75.77%\t auROC: 0.828\t auPRC: 0.835\t auPRG: 0.683\n",
      "Recall at 5%|10%|20% FDR: 17.5%|40.3%|66.6%\t Num Positives: 1436\t Num Negatives: 1436\t \n",
      "\n",
      "4824/4824 [==============================] - 1s - loss: 0.0134 - val_loss: 0.6498\n",
      "Epoch 14/100\n",
      "4750/4824 [============================>.] - ETA: 0s - loss: 0.0112Epoch 13: validation loss: 0.668\n",
      "Balanced Accuracy: 75.00%\t auROC: 0.829\t auPRC: 0.835\t auPRG: 0.684\n",
      "Recall at 5%|10%|20% FDR: 17.5%|40.5%|67.5%\t Num Positives: 1436\t Num Negatives: 1436\t \n",
      "\n",
      "4824/4824 [==============================] - 1s - loss: 0.0113 - val_loss: 0.6683\n",
      "Epoch 15/100\n",
      "4750/4824 [============================>.] - ETA: 0s - loss: 0.0096Epoch 14: validation loss: 0.674\n",
      "Balanced Accuracy: 75.49%\t auROC: 0.829\t auPRC: 0.835\t auPRG: 0.685\n",
      "Recall at 5%|10%|20% FDR: 16.6%|40.3%|67.2%\t Num Positives: 1436\t Num Negatives: 1436\t \n",
      "\n",
      "4824/4824 [==============================] - 1s - loss: 0.0097 - val_loss: 0.6744\n",
      "Epoch 16/100\n",
      "4750/4824 [============================>.] - ETA: 0s - loss: 0.0084Epoch 15: validation loss: 0.694\n",
      "Balanced Accuracy: 74.90%\t auROC: 0.829\t auPRC: 0.835\t auPRG: 0.684\n",
      "Recall at 5%|10%|20% FDR: 16.3%|39.4%|67.4%\t Num Positives: 1436\t Num Negatives: 1436\t \n",
      "\n",
      "4824/4824 [==============================] - 1s - loss: 0.0084 - val_loss: 0.6943\n",
      "Epoch 17/100\n",
      "4750/4824 [============================>.] - ETA: 0s - loss: 0.0072Epoch 16: validation loss: 0.704\n",
      "Balanced Accuracy: 74.97%\t auROC: 0.829\t auPRC: 0.835\t auPRG: 0.685\n",
      "Recall at 5%|10%|20% FDR: 16.4%|40.3%|68.0%\t Num Positives: 1436\t Num Negatives: 1436\t \n",
      "\n",
      "4824/4824 [==============================] - 1s - loss: 0.0072 - val_loss: 0.7042\n",
      "Epoch 18/100\n",
      "4750/4824 [============================>.] - ETA: 0s - loss: 0.0063Epoch 17: validation loss: 0.706\n",
      "Balanced Accuracy: 75.38%\t auROC: 0.828\t auPRC: 0.834\t auPRG: 0.682\n",
      "Recall at 5%|10%|20% FDR: 17.0%|40.9%|66.4%\t Num Positives: 1436\t Num Negatives: 1436\t \n",
      "\n",
      "4824/4824 [==============================] - 1s - loss: 0.0063 - val_loss: 0.7063\n",
      "Epoch 19/100\n",
      "4750/4824 [============================>.] - ETA: 0s - loss: 0.0055Epoch 18: validation loss: 0.716\n",
      "Balanced Accuracy: 75.31%\t auROC: 0.829\t auPRC: 0.835\t auPRG: 0.685\n",
      "Recall at 5%|10%|20% FDR: 17.3%|40.7%|67.3%\t Num Positives: 1436\t Num Negatives: 1436\t \n",
      "\n",
      "4824/4824 [==============================] - 1s - loss: 0.0055 - val_loss: 0.7161\n",
      "Epoch 20/100\n",
      "4750/4824 [============================>.] - ETA: 0s - loss: 0.0049Epoch 19: validation loss: 0.725\n",
      "Balanced Accuracy: 75.14%\t auROC: 0.829\t auPRC: 0.835\t auPRG: 0.685\n",
      "Recall at 5%|10%|20% FDR: 15.3%|39.6%|68.1%\t Num Positives: 1436\t Num Negatives: 1436\t \n",
      "\n",
      "4824/4824 [==============================] - 1s - loss: 0.0049 - val_loss: 0.7252\n",
      "Epoch 21/100\n",
      "4750/4824 [============================>.] - ETA: 0s - loss: 0.0043Epoch 20: validation loss: 0.743\n",
      "Balanced Accuracy: 75.07%\t auROC: 0.828\t auPRC: 0.834\t auPRG: 0.684\n",
      "Recall at 5%|10%|20% FDR: 14.3%|39.8%|67.8%\t Num Positives: 1436\t Num Negatives: 1436\t \n",
      "\n",
      "4824/4824 [==============================] - 1s - loss: 0.0043 - val_loss: 0.7427\n",
      "Epoch 22/100\n",
      "4750/4824 [============================>.] - ETA: 0s - loss: 0.0038Epoch 21: validation loss: 0.749\n",
      "Balanced Accuracy: 75.49%\t auROC: 0.828\t auPRC: 0.834\t auPRG: 0.683\n",
      "Recall at 5%|10%|20% FDR: 14.6%|39.6%|67.5%\t Num Positives: 1436\t Num Negatives: 1436\t \n",
      "\n",
      "4824/4824 [==============================] - 1s - loss: 0.0038 - val_loss: 0.7491\n",
      "Epoch 23/100\n",
      "4750/4824 [============================>.] - ETA: 0s - loss: 0.0035Epoch 22: validation loss: 0.749\n",
      "Balanced Accuracy: 75.14%\t auROC: 0.828\t auPRC: 0.835\t auPRG: 0.684\n",
      "Recall at 5%|10%|20% FDR: 16.4%|39.4%|67.8%\t Num Positives: 1436\t Num Negatives: 1436\t \n",
      "\n",
      "4824/4824 [==============================] - 1s - loss: 0.0035 - val_loss: 0.7490\n",
      "Epoch 24/100\n",
      "4750/4824 [============================>.] - ETA: 0s - loss: 0.0031Epoch 23: validation loss: 0.759\n",
      "Balanced Accuracy: 75.49%\t auROC: 0.829\t auPRC: 0.835\t auPRG: 0.684\n",
      "Recall at 5%|10%|20% FDR: 16.4%|39.5%|67.3%\t Num Positives: 1436\t Num Negatives: 1436\t \n",
      "\n",
      "4824/4824 [==============================] - 1s - loss: 0.0031 - val_loss: 0.7589\n",
      "Epoch 25/100\n",
      "4750/4824 [============================>.] - ETA: 0s - loss: 0.0028Epoch 24: validation loss: 0.772\n",
      "Balanced Accuracy: 75.42%\t auROC: 0.828\t auPRC: 0.834\t auPRG: 0.684\n",
      "Recall at 5%|10%|20% FDR: 16.0%|39.3%|67.1%\t Num Positives: 1436\t Num Negatives: 1436\t \n",
      "\n",
      "4824/4824 [==============================] - 1s - loss: 0.0028 - val_loss: 0.7718\n"
     ]
    }
   ],
   "source": [
    "from models_motif import LongRangeDNN_FC\n",
    "dnn_normalized = LongRangeDNN_FC(num_features=3840, use_deep_CNN=False)\n",
    "validation_data = (X_valid_pairs, y_valid)\n",
    "dnn_normalized.train(X_train_pairs, y_train, validation_data)"
   ]
  },
  {
   "cell_type": "code",
   "execution_count": 7,
   "metadata": {
    "collapsed": false,
    "scrolled": true
   },
   "outputs": [
    {
     "name": "stdout",
     "output_type": "stream",
     "text": [
      "Balanced Accuracy: 75.72%\t auROC: 0.836\t auPRC: 0.850\t auPRG: 0.706\n",
      "Recall at 5%|10%|20% FDR: 32.0%|49.3%|69.5%\t Num Positives: 906\t Num Negatives: 906\t \n",
      "Balanced Accuracy: 100.00%\t auROC: 1.000\t auPRC: 1.000\t auPRG: 1.000\n",
      "Recall at 5%|10%|20% FDR: 100.0%|100.0%|100.0%\t Num Positives: 2412\t Num Negatives: 2412\t \n",
      "Balanced Accuracy: 75.42%\t auROC: 0.828\t auPRC: 0.834\t auPRG: 0.684\n",
      "Recall at 5%|10%|20% FDR: 16.0%|39.3%|67.1%\t Num Positives: 1436\t Num Negatives: 1436\t \n"
     ]
    }
   ],
   "source": [
    "print(dnn_normalized.test(X_test_pairs, y_test))\n",
    "print(dnn_normalized.test(X_train_pairs, y_train))\n",
    "print(dnn_normalized.test(X_valid_pairs, y_valid))"
   ]
  },
  {
   "cell_type": "code",
   "execution_count": 8,
   "metadata": {
    "collapsed": true
   },
   "outputs": [],
   "source": [
    "#save model and weights\n",
    "dnn_normalized.save(contacts+'_dnn_FC_nodes_motifs', '/users/mtaranov/LongRange3D/')"
   ]
  },
  {
   "cell_type": "markdown",
   "metadata": {},
   "source": [
    "# DeepLift"
   ]
  },
  {
   "cell_type": "code",
   "execution_count": 9,
   "metadata": {
    "collapsed": true
   },
   "outputs": [],
   "source": [
    "weights='/users/mtaranov/LongRange3D/weights/'+contacts+'_dnn_FC_nodes_motifs.weights.h5'\n",
    "json_model='/users/mtaranov/LongRange3D/models/'+contacts+'_dnn_FC_nodes_motifs.arch.json'"
   ]
  },
  {
   "cell_type": "code",
   "execution_count": 10,
   "metadata": {
    "collapsed": false
   },
   "outputs": [
    {
     "name": "stdout",
     "output_type": "stream",
     "text": [
      "True\n",
      "nonlinear_mxts_mode is set to: Gradient\n"
     ]
    }
   ],
   "source": [
    "scores = dnn_normalized.deeplift(X_valid_pairs, weights, json_model, batch_size=128)"
   ]
  },
  {
   "cell_type": "code",
   "execution_count": 11,
   "metadata": {
    "collapsed": true
   },
   "outputs": [],
   "source": [
    "np.save('/users/mtaranov/LongRange3D/deeplift_scores/'+contacts+'_scores_dnn_FC_nodes_motifs.npy', scores)"
   ]
  },
  {
   "cell_type": "code",
   "execution_count": 17,
   "metadata": {
    "collapsed": true
   },
   "outputs": [],
   "source": [
    "motif_names=np.loadtxt('/users/mtaranov/datasets_3d/dist_matched_PE/motifs/train_PE_out_btw_nodes_3_0.0001/motif_names.txt', dtype=str, delimiter='/')[:,6:].reshape(640,)\n",
    "top_3_hits_names=[]\n",
    "for i in motif_names:\n",
    "    for j in range(3):\n",
    "        top_3_hits_names.append(i)\n",
    "top_3_hits_names = np.array(top_3_hits_names)"
   ]
  },
  {
   "cell_type": "code",
   "execution_count": 12,
   "metadata": {
    "collapsed": false
   },
   "outputs": [
    {
     "data": {
      "text/plain": [
       "(2872, 3840)"
      ]
     },
     "execution_count": 12,
     "metadata": {},
     "output_type": "execute_result"
    }
   ],
   "source": [
    "scores.shape"
   ]
  },
  {
   "cell_type": "code",
   "execution_count": 18,
   "metadata": {
    "collapsed": true
   },
   "outputs": [],
   "source": [
    "score_per_feature_node1=np.mean(scores[:,0:3840:2], axis=0)"
   ]
  },
  {
   "cell_type": "code",
   "execution_count": 19,
   "metadata": {
    "collapsed": false
   },
   "outputs": [],
   "source": [
    "score_per_feature_node2=np.mean(scores[:,1:3841:2], axis=0)"
   ]
  },
  {
   "cell_type": "code",
   "execution_count": 20,
   "metadata": {
    "collapsed": true
   },
   "outputs": [],
   "source": [
    "DeepLift_Window_Motifs_node1=top_3_hits_names[score_per_feature_node1.argsort()[::-1]]"
   ]
  },
  {
   "cell_type": "code",
   "execution_count": 21,
   "metadata": {
    "collapsed": true
   },
   "outputs": [],
   "source": [
    "DeepLift_Window_Motifs_node2=top_3_hits_names[score_per_feature_node2.argsort()[::-1]]"
   ]
  },
  {
   "cell_type": "code",
   "execution_count": 28,
   "metadata": {
    "collapsed": false
   },
   "outputs": [
    {
     "name": "stdout",
     "output_type": "stream",
     "text": [
      "(array([ 44,  52, 385]),)\n",
      "(array([  51,  317, 1248]),)\n"
     ]
    }
   ],
   "source": [
    "print np.where(DeepLift_Window_Motifs_node1=='CTCF_HUMAN')\n",
    "print np.where(DeepLift_Window_Motifs_node1=='CTCFL_HUMAN')"
   ]
  },
  {
   "cell_type": "code",
   "execution_count": 30,
   "metadata": {
    "collapsed": false
   },
   "outputs": [
    {
     "name": "stdout",
     "output_type": "stream",
     "text": [
      "(array([ 315, 1376, 1894]),)\n",
      "(array([ 753, 1564, 1696]),)\n"
     ]
    }
   ],
   "source": [
    "print np.where(DeepLift_Window_Motifs_node2=='CTCF_HUMAN')\n",
    "print np.where(DeepLift_Window_Motifs_node2=='CTCFL_HUMAN')"
   ]
  },
  {
   "cell_type": "code",
   "execution_count": 31,
   "metadata": {
    "collapsed": false
   },
   "outputs": [
    {
     "data": {
      "text/plain": [
       "array(['TFDP1_HUMAN', 'RXRA_HUMAN', 'NR2E3_HUMAN', 'BC11A_HUMAN',\n",
       "       'FOXP2_HUMAN', 'HEY2_HUMAN', 'PROX1_HUMAN', 'CLOCK_HUMAN',\n",
       "       'REST_HUMAN', 'IKZF1_HUMAN', 'SP3_HUMAN', 'BPTF_HUMAN',\n",
       "       'FOXJ3_HUMAN', 'TBX2_HUMAN', 'HXC10_HUMAN', 'BC11A_HUMAN',\n",
       "       'KLF4_HUMAN', 'GLIS1_HUMAN', 'TBX15_HUMAN', 'ZBT7A_HUMAN',\n",
       "       'PPARD_HUMAN', 'RARG_HUMAN', 'GFI1_HUMAN', 'AP2D_HUMAN',\n",
       "       'UBIP1_HUMAN', 'NR2F6_HUMAN', 'ZSC16_HUMAN', 'ANDR_HUMAN',\n",
       "       'FOXO6_HUMAN', 'STF1_HUMAN', 'NFAC4_HUMAN', 'RORA_HUMAN',\n",
       "       'NOTO_HUMAN', 'MAZ_HUMAN', 'SP1_HUMAN', 'ERR2_HUMAN', 'BARX2_HUMAN',\n",
       "       'PURA_HUMAN', 'FOXD3_HUMAN', 'MEF2A_HUMAN', 'NFIC_HUMAN',\n",
       "       'NKX21_HUMAN', 'NR1I3_HUMAN', 'EVX2_HUMAN', 'CTCF_HUMAN',\n",
       "       'ARNT2_HUMAN', 'FOXH1_HUMAN', 'JUNB_HUMAN', 'NDF1_HUMAN',\n",
       "       'PBX3_HUMAN', 'ZN350_HUMAN', 'CTCFL_HUMAN', 'CTCF_HUMAN',\n",
       "       'BHE41_HUMAN', 'THB_HUMAN', 'NGN2_HUMAN', 'EHF_HUMAN', 'ALX3_HUMAN',\n",
       "       'COE1_HUMAN', 'JUND_HUMAN', 'RREB1_HUMAN', 'SP3_HUMAN',\n",
       "       'TBX4_HUMAN', 'DBP_HUMAN', 'SOX8_HUMAN', 'MSX1_HUMAN',\n",
       "       'STAT1_HUMAN', 'ZIC1_HUMAN', 'ZFHX3_HUMAN', 'ZN713_HUMAN',\n",
       "       'MEF2B_HUMAN', 'AP2C_HUMAN', 'RFX3_HUMAN', 'EMX2_HUMAN',\n",
       "       'FOXL1_HUMAN', 'SMAD4_HUMAN', 'KLF13_HUMAN', 'SHOX2_HUMAN',\n",
       "       'TGIF1_HUMAN', 'NKX25_HUMAN', 'HXD10_HUMAN', 'KLF6_HUMAN',\n",
       "       'GLI1_HUMAN', 'TEAD1_HUMAN', 'RUNX2_HUMAN', 'PLAG1_HUMAN',\n",
       "       'DLX4_HUMAN', 'GFI1_HUMAN', 'OLIG1_HUMAN', 'PPARD_HUMAN',\n",
       "       'PLAL1_HUMAN', 'EGR2_HUMAN', 'USF2_HUMAN', 'PAX5_HUMAN',\n",
       "       'RARA_HUMAN', 'MTF1_HUMAN', 'SRBP2_HUMAN', 'MYOD1_HUMAN',\n",
       "       'MAFG_HUMAN', 'MIXL1_HUMAN'], \n",
       "      dtype='|S11')"
      ]
     },
     "execution_count": 31,
     "metadata": {},
     "output_type": "execute_result"
    }
   ],
   "source": [
    "# for i, item in enumerate(DeepLift_Window_Motifs_node1[:100]):\n",
    "#     print i, item\n",
    "DeepLift_Window_Motifs_node1[:100]"
   ]
  },
  {
   "cell_type": "code",
   "execution_count": 25,
   "metadata": {
    "collapsed": false
   },
   "outputs": [
    {
     "data": {
      "text/plain": [
       "array(['PKNX2_HUMAN', 'NFAC1_HUMAN', 'PURA_HUMAN', 'PAX5_HUMAN',\n",
       "       'PITX1_HUMAN', 'ESR2_HUMAN', 'ZSC16_HUMAN', 'NR2E3_HUMAN',\n",
       "       'PROP1_HUMAN', 'NR0B1_HUMAN', 'TYY1_HUMAN', 'HIC2_HUMAN',\n",
       "       'PRDM4_HUMAN', 'THAP1_HUMAN', 'TBX2_HUMAN', 'HXA7_HUMAN',\n",
       "       'ETV7_HUMAN', 'AP2B_HUMAN', 'MAFA_HUMAN', 'FUBP1_HUMAN',\n",
       "       'KLF4_HUMAN', 'GATA6_HUMAN', 'ZIC2_HUMAN', 'ZBTB4_HUMAN',\n",
       "       'RARA_HUMAN', 'ZN219_HUMAN', 'P73_HUMAN', 'LMX1A_HUMAN',\n",
       "       'HTF4_HUMAN', 'HXD13_HUMAN', 'KLF6_HUMAN', 'COE1_HUMAN',\n",
       "       'BC11A_HUMAN', 'HES5_HUMAN', 'EHF_HUMAN', 'TBX1_HUMAN',\n",
       "       'SPI1_HUMAN', 'HXB13_HUMAN', 'ELF3_HUMAN', 'FOXB1_HUMAN',\n",
       "       'IKZF1_HUMAN', 'BC11A_HUMAN', 'FOXD2_HUMAN', 'ETV3_HUMAN',\n",
       "       'SUH_HUMAN', 'EVX1_HUMAN', 'IRF8_HUMAN', 'SPI1_HUMAN',\n",
       "       'ZN784_HUMAN', 'NFIC_HUMAN', 'SNAI2_HUMAN', 'GABP1_HUMAN',\n",
       "       'AP2A_HUMAN', 'NR1I3_HUMAN', 'GCR_HUMAN', 'ONEC2_HUMAN',\n",
       "       'ETV6_HUMAN', 'HXB2_HUMAN', 'FOXO6_HUMAN', 'ZBTB4_HUMAN',\n",
       "       'LMX1A_HUMAN', 'THB_HUMAN', 'SRBP2_HUMAN', 'GFI1B_HUMAN',\n",
       "       'NR1I3_HUMAN', 'NFIA_HUMAN', 'KLF14_HUMAN', 'STF1_HUMAN',\n",
       "       'HME1_HUMAN', 'GSX2_HUMAN', 'NR2F6_HUMAN', 'ARI3A_HUMAN',\n",
       "       'GCR_HUMAN', 'RREB1_HUMAN', 'ZBTB4_HUMAN', 'COT1_HUMAN',\n",
       "       'ATOH1_HUMAN', 'ZN740_HUMAN', 'ZN148_HUMAN', 'NR0B1_HUMAN',\n",
       "       'NFKB2_HUMAN', 'KLF15_HUMAN', 'RARG_HUMAN', 'HSF4_HUMAN',\n",
       "       'TGIF1_HUMAN', 'SHOX2_HUMAN', 'IRF1_HUMAN', 'ATOH1_HUMAN',\n",
       "       'REL_HUMAN', 'BACH1_HUMAN', 'CDX2_HUMAN', 'BMAL1_HUMAN',\n",
       "       'SPIB_HUMAN', 'COT2_HUMAN', 'FOXL1_HUMAN', 'GATA2_HUMAN',\n",
       "       'MAFB_HUMAN', 'GATA1_HUMAN', 'ZIC4_HUMAN', 'SP4_HUMAN'], \n",
       "      dtype='|S11')"
      ]
     },
     "execution_count": 25,
     "metadata": {},
     "output_type": "execute_result"
    }
   ],
   "source": [
    "DeepLift_Window_Motifs_node2[:100]"
   ]
  },
  {
   "cell_type": "code",
   "execution_count": null,
   "metadata": {
    "collapsed": true
   },
   "outputs": [],
   "source": []
  }
 ],
 "metadata": {
  "anaconda-cloud": {},
  "kernelspec": {
   "display_name": "Python [default]",
   "language": "python",
   "name": "python2"
  },
  "language_info": {
   "codemirror_mode": {
    "name": "ipython",
    "version": 2
   },
   "file_extension": ".py",
   "mimetype": "text/x-python",
   "name": "python",
   "nbconvert_exporter": "python",
   "pygments_lexer": "ipython2",
   "version": "2.7.12"
  }
 },
 "nbformat": 4,
 "nbformat_minor": 0
}
