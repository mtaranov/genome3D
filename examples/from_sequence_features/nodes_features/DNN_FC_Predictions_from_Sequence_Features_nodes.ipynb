{
 "cells": [
  {
   "cell_type": "code",
   "execution_count": 1,
   "metadata": {
    "collapsed": false
   },
   "outputs": [
    {
     "name": "stderr",
     "output_type": "stream",
     "text": [
      "Using Theano backend.\n",
      "WARNING (theano.sandbox.cuda): The cuda backend is deprecated and will be removed in the next release (v0.10).  Please switch to the gpuarray backend. You can get more information about how to switch at this URL:\n",
      " https://github.com/Theano/Theano/wiki/Converting-to-the-new-gpu-back-end%28gpuarray%29\n",
      "\n",
      "Using gpu device 1: GeForce GTX TITAN X (CNMeM is disabled, cuDNN 5005)\n"
     ]
    }
   ],
   "source": [
    "%matplotlib inline\n",
    "%load_ext autoreload\n",
    "%autoreload 2\n",
    "\n",
    "import sys\n",
    "import numpy as np\n",
    "import matplotlib.pyplot as plt\n",
    "import pickle\n",
    "from sklearn.preprocessing import MinMaxScaler, StandardScaler\n",
    "sys.path.append('/users/mtaranov/genome3D/')\n",
    "from models_3d import Genome3D_DNN_FC\n",
    "from utils import normalize_features_sampl_by_f, concat_motifs, get_features, get_labels, subsample_data, normalize_features, reconstruct_2d, printMatrix, binarize, zscore, get_2D, plot_prediction, change_scale\n",
    "#from sklearn.preprocessing import MinMaxScaler, StandardScaler"
   ]
  },
  {
   "cell_type": "code",
   "execution_count": 3,
   "metadata": {
    "collapsed": false
   },
   "outputs": [],
   "source": [
    "contacts='pe'\n",
    "path='/users/mtaranov/datasets_3d/by_chr_dist_matched_'+contacts+'/'\n",
    "day='d0'\n",
    "thres='10'\n",
    "\n",
    "X_train_node1 = path+'motifs/'+day+'_thres_'+thres+'_train_'+contacts+'_out_node1_3_0.0001/mat.npy'\n",
    "X_train_node2 = path+'motifs/'+day+'_thres_'+thres+'_train_'+contacts+'_out_node2_3_0.0001/mat.npy'\n",
    "\n",
    "X_test_node1 = path+'motifs/'+day+'_thres_'+thres+'_test_'+contacts+'_out_node1_3_0.0001/mat.npy'\n",
    "X_test_node2 = path+'motifs/'+day+'_thres_'+thres+'_test_'+contacts+'_out_node2_3_0.0001/mat.npy'\n",
    "\n",
    "X_valid_node1 = path+'motifs/'+day+'_thres_'+thres+'_valid_'+contacts+'_out_node1_3_0.0001/mat.npy'\n",
    "X_valid_node2 = path+'motifs/'+day+'_thres_'+thres+'_valid_'+contacts+'_out_node2_3_0.0001/mat.npy'\n",
    "\n",
    "y_train = get_labels(path+day+'_y_train_thres_'+thres+'.npy')\n",
    "y_test = get_labels(path+day+'_y_test_thres_'+thres+'.npy')\n",
    "y_valid = get_labels(path+day+'_y_valid_thres_'+thres+'.npy')\n",
    "\n",
    "X_train=concat_motifs([X_train_node1, X_train_node2])\n",
    "X_test=concat_motifs([X_test_node1, X_test_node2])\n",
    "X_valid=concat_motifs([X_valid_node1, X_valid_node2])"
   ]
  },
  {
   "cell_type": "code",
   "execution_count": 4,
   "metadata": {
    "collapsed": false
   },
   "outputs": [],
   "source": [
    "X_train_normalized, X_valid_normalized, X_test_normalized = normalize_features(X_train, X_valid, X_test)"
   ]
  },
  {
   "cell_type": "code",
   "execution_count": 5,
   "metadata": {
    "collapsed": true
   },
   "outputs": [],
   "source": [
    "X_train_pairs = X_train_normalized.reshape(X_train_normalized.shape[0],X_train_normalized.shape[2]*X_train_normalized.shape[3])\n",
    "X_valid_pairs = X_valid_normalized.reshape(X_valid_normalized.shape[0],X_valid_normalized.shape[2]*X_valid_normalized.shape[3])\n",
    "X_test_pairs = X_test_normalized.reshape(X_test_normalized.shape[0],X_test_normalized.shape[2]*X_test_normalized.shape[3])"
   ]
  },
  {
   "cell_type": "code",
   "execution_count": 6,
   "metadata": {
    "collapsed": false,
    "scrolled": true
   },
   "outputs": [
    {
     "data": {
      "text/plain": [
       "(6710, 3840)"
      ]
     },
     "execution_count": 6,
     "metadata": {},
     "output_type": "execute_result"
    }
   ],
   "source": [
    "X_train_pairs.shape"
   ]
  },
  {
   "cell_type": "markdown",
   "metadata": {},
   "source": [
    "# from motifs"
   ]
  },
  {
   "cell_type": "code",
   "execution_count": 8,
   "metadata": {
    "collapsed": false
   },
   "outputs": [
    {
     "name": "stdout",
     "output_type": "stream",
     "text": [
      "Training model...\n",
      "Train on 6710 samples, validate on 1796 samples\n",
      "Epoch 1/100\n",
      "6500/6710 [============================>.] - ETA: 0s - loss: 1.4296Epoch 0: validation loss: 0.733\n",
      "Balanced Accuracy: 57.02%\tauROC: 0.614\t auPRC: 0.595\n",
      "Positve Accuracy: 0.45%\t Negative Accuracy: 76.73%\n",
      "Recall at 5% | 10% | 25% | 50% FDR: 37.3% | 0.4% | 1.2% | 100.0%\tNum Positives: 898\t Num Negatives: 898\n",
      "\n",
      "\n",
      "6710/6710 [==============================] - 2s - loss: 1.4271 - val_loss: 0.7326\n",
      "Epoch 2/100\n",
      "6500/6710 [============================>.] - ETA: 0s - loss: 1.1957Epoch 1: validation loss: 0.709\n",
      "Balanced Accuracy: 57.41%\tauROC: 0.629\t auPRC: 0.616\n",
      "Positve Accuracy: 0.22%\t Negative Accuracy: 75.28%\n",
      "Recall at 5% | 10% | 25% | 50% FDR: 39.5% | 0.2% | 3.9% | 100.0%\tNum Positives: 898\t Num Negatives: 898\n",
      "\n",
      "\n",
      "6710/6710 [==============================] - 1s - loss: 1.1923 - val_loss: 0.7091\n",
      "Epoch 3/100\n",
      "6500/6710 [============================>.] - ETA: 0s - loss: 1.0580Epoch 2: validation loss: 0.690\n",
      "Balanced Accuracy: 58.57%\tauROC: 0.638\t auPRC: 0.629\n",
      "Positve Accuracy: 0.56%\t Negative Accuracy: 75.61%\n",
      "Recall at 5% | 10% | 25% | 50% FDR: 41.5% | 0.6% | 7.1% | 100.0%\tNum Positives: 898\t Num Negatives: 898\n",
      "\n",
      "\n",
      "6710/6710 [==============================] - 1s - loss: 1.0559 - val_loss: 0.6898\n",
      "Epoch 4/100\n",
      "6500/6710 [============================>.] - ETA: 0s - loss: 0.9506Epoch 3: validation loss: 0.680\n",
      "Balanced Accuracy: 59.58%\tauROC: 0.646\t auPRC: 0.636\n",
      "Positve Accuracy: 0.33%\t Negative Accuracy: 73.61%\n",
      "Recall at 5% | 10% | 25% | 50% FDR: 45.5% | 0.3% | 7.0% | 100.0%\tNum Positives: 898\t Num Negatives: 898\n",
      "\n",
      "\n",
      "6710/6710 [==============================] - 2s - loss: 0.9464 - val_loss: 0.6803\n",
      "Epoch 5/100\n",
      "6500/6710 [============================>.] - ETA: 0s - loss: 0.8414Epoch 4: validation loss: 0.677\n",
      "Balanced Accuracy: 60.86%\tauROC: 0.657\t auPRC: 0.648\n",
      "Positve Accuracy: 0.67%\t Negative Accuracy: 74.05%\n",
      "Recall at 5% | 10% | 25% | 50% FDR: 47.7% | 0.7% | 15.8% | 99.9%\tNum Positives: 898\t Num Negatives: 898\n",
      "\n",
      "\n",
      "6710/6710 [==============================] - 1s - loss: 0.8407 - val_loss: 0.6767\n",
      "Epoch 6/100\n",
      "6500/6710 [============================>.] - ETA: 0s - loss: 0.7624Epoch 5: validation loss: 0.686\n",
      "Balanced Accuracy: 60.30%\tauROC: 0.652\t auPRC: 0.644\n",
      "Positve Accuracy: 0.22%\t Negative Accuracy: 73.83%\n",
      "Recall at 5% | 10% | 25% | 50% FDR: 46.8% | 0.2% | 12.5% | 99.9%\tNum Positives: 898\t Num Negatives: 898\n",
      "\n",
      "\n",
      "6710/6710 [==============================] - 1s - loss: 0.7584 - val_loss: 0.6861\n",
      "Epoch 7/100\n",
      "6500/6710 [============================>.] - ETA: 0s - loss: 0.6728Epoch 6: validation loss: 0.690\n",
      "Balanced Accuracy: 60.80%\tauROC: 0.653\t auPRC: 0.645\n",
      "Positve Accuracy: 0.11%\t Negative Accuracy: 72.49%\n",
      "Recall at 5% | 10% | 25% | 50% FDR: 49.1% | 0.1% | 11.8% | 99.8%\tNum Positives: 898\t Num Negatives: 898\n",
      "\n",
      "\n",
      "6710/6710 [==============================] - 1s - loss: 0.6730 - val_loss: 0.6900\n",
      "Epoch 8/100\n",
      "6500/6710 [============================>.] - ETA: 0s - loss: 0.6081Epoch 7: validation loss: 0.694\n",
      "Balanced Accuracy: 59.58%\tauROC: 0.647\t auPRC: 0.643\n",
      "Positve Accuracy: 0.11%\t Negative Accuracy: 69.15%\n",
      "Recall at 5% | 10% | 25% | 50% FDR: 50.0% | 0.1% | 17.4% | 99.9%\tNum Positives: 898\t Num Negatives: 898\n",
      "\n",
      "\n",
      "6710/6710 [==============================] - 1s - loss: 0.6074 - val_loss: 0.6943\n",
      "Epoch 9/100\n",
      "6500/6710 [============================>.] - ETA: 0s - loss: 0.5457Epoch 8: validation loss: 0.701\n",
      "Balanced Accuracy: 60.63%\tauROC: 0.653\t auPRC: 0.646\n",
      "Positve Accuracy: 0.11%\t Negative Accuracy: 71.49%\n",
      "Recall at 5% | 10% | 25% | 50% FDR: 49.8% | 0.1% | 17.7% | 99.8%\tNum Positives: 898\t Num Negatives: 898\n",
      "\n",
      "\n",
      "6710/6710 [==============================] - 2s - loss: 0.5446 - val_loss: 0.7010\n",
      "Epoch 10/100\n",
      "6500/6710 [============================>.] - ETA: 0s - loss: 0.4881Epoch 9: validation loss: 0.718\n",
      "Balanced Accuracy: 60.19%\tauROC: 0.652\t auPRC: 0.639\n",
      "Positve Accuracy: 0.00%\t Negative Accuracy: 71.49%\n",
      "Recall at 5% | 10% | 25% | 50% FDR: 48.9% | 0.0% | 15.0% | 99.8%\tNum Positives: 898\t Num Negatives: 898\n",
      "\n",
      "\n",
      "6710/6710 [==============================] - 1s - loss: 0.4867 - val_loss: 0.7182\n",
      "Epoch 11/100\n",
      "6500/6710 [============================>.] - ETA: 0s - loss: 0.4327Epoch 10: validation loss: 0.723\n",
      "Balanced Accuracy: 60.58%\tauROC: 0.647\t auPRC: 0.638\n",
      "Positve Accuracy: 0.11%\t Negative Accuracy: 69.60%\n",
      "Recall at 5% | 10% | 25% | 50% FDR: 51.6% | 0.1% | 15.5% | 99.8%\tNum Positives: 898\t Num Negatives: 898\n",
      "\n",
      "\n",
      "6710/6710 [==============================] - 1s - loss: 0.4324 - val_loss: 0.7231\n",
      "Epoch 12/100\n",
      "6500/6710 [============================>.] - ETA: 0s - loss: 0.3864Epoch 11: validation loss: 0.747\n",
      "Balanced Accuracy: 59.91%\tauROC: 0.649\t auPRC: 0.637\n",
      "Positve Accuracy: 0.00%\t Negative Accuracy: 70.04%\n",
      "Recall at 5% | 10% | 25% | 50% FDR: 49.8% | 0.0% | 17.8% | 99.7%\tNum Positives: 898\t Num Negatives: 898\n",
      "\n",
      "\n",
      "6710/6710 [==============================] - 1s - loss: 0.3877 - val_loss: 0.7468\n",
      "Epoch 13/100\n",
      "6500/6710 [============================>.] - ETA: 0s - loss: 0.3536Epoch 12: validation loss: 0.751\n",
      "Balanced Accuracy: 59.74%\tauROC: 0.639\t auPRC: 0.632\n",
      "Positve Accuracy: 0.00%\t Negative Accuracy: 68.37%\n",
      "Recall at 5% | 10% | 25% | 50% FDR: 51.1% | 0.0% | 8.9% | 99.7%\tNum Positives: 898\t Num Negatives: 898\n",
      "\n",
      "\n",
      "6710/6710 [==============================] - 2s - loss: 0.3538 - val_loss: 0.7506\n",
      "Epoch 14/100\n",
      "6500/6710 [============================>.] - ETA: 0s - loss: 0.3138Epoch 13: validation loss: 0.773\n",
      "Balanced Accuracy: 59.30%\tauROC: 0.642\t auPRC: 0.633\n",
      "Positve Accuracy: 0.00%\t Negative Accuracy: 68.26%\n",
      "Recall at 5% | 10% | 25% | 50% FDR: 50.3% | 0.0% | 13.8% | 99.8%\tNum Positives: 898\t Num Negatives: 898\n",
      "\n",
      "\n",
      "6710/6710 [==============================] - 2s - loss: 0.3142 - val_loss: 0.7728\n",
      "Epoch 15/100\n",
      "6500/6710 [============================>.] - ETA: 0s - loss: 0.2774Epoch 14: validation loss: 0.786\n",
      "Balanced Accuracy: 59.47%\tauROC: 0.641\t auPRC: 0.629\n",
      "Positve Accuracy: 0.00%\t Negative Accuracy: 68.37%\n",
      "Recall at 5% | 10% | 25% | 50% FDR: 50.6% | 0.0% | 12.9% | 99.7%\tNum Positives: 898\t Num Negatives: 898\n",
      "\n",
      "\n",
      "6710/6710 [==============================] - 1s - loss: 0.2788 - val_loss: 0.7862\n",
      "Epoch 16/100\n",
      "6500/6710 [============================>.] - ETA: 0s - loss: 0.2526Epoch 15: validation loss: 0.793\n",
      "Balanced Accuracy: 59.13%\tauROC: 0.629\t auPRC: 0.624\n",
      "Positve Accuracy: 0.00%\t Negative Accuracy: 66.26%\n",
      "Recall at 5% | 10% | 25% | 50% FDR: 52.0% | 0.0% | 9.2% | 99.8%\tNum Positives: 898\t Num Negatives: 898\n",
      "\n",
      "\n",
      "6710/6710 [==============================] - 1s - loss: 0.2516 - val_loss: 0.7931\n",
      "Epoch 17/100\n",
      "6500/6710 [============================>.] - ETA: 0s - loss: 0.2278Epoch 16: validation loss: 0.813\n",
      "Balanced Accuracy: 59.58%\tauROC: 0.638\t auPRC: 0.627\n",
      "Positve Accuracy: 0.00%\t Negative Accuracy: 68.60%\n",
      "Recall at 5% | 10% | 25% | 50% FDR: 50.6% | 0.0% | 4.1% | 99.8%\tNum Positives: 898\t Num Negatives: 898\n",
      "\n",
      "\n",
      "6710/6710 [==============================] - 1s - loss: 0.2274 - val_loss: 0.8129\n",
      "Epoch 18/100\n",
      "6500/6710 [============================>.] - ETA: 0s - loss: 0.2075Epoch 17: validation loss: 0.827\n",
      "Balanced Accuracy: 58.80%\tauROC: 0.633\t auPRC: 0.625\n",
      "Positve Accuracy: 0.00%\t Negative Accuracy: 67.26%\n",
      "Recall at 5% | 10% | 25% | 50% FDR: 50.3% | 0.0% | 10.2% | 99.8%\tNum Positives: 898\t Num Negatives: 898\n",
      "\n",
      "\n",
      "6710/6710 [==============================] - 1s - loss: 0.2071 - val_loss: 0.8267\n",
      "Epoch 19/100\n",
      "6500/6710 [============================>.] - ETA: 0s - loss: 0.1877Epoch 18: validation loss: 0.842\n",
      "Balanced Accuracy: 58.13%\tauROC: 0.630\t auPRC: 0.619\n",
      "Positve Accuracy: 0.00%\t Negative Accuracy: 66.26%\n",
      "Recall at 5% | 10% | 25% | 50% FDR: 50.0% | 0.0% | 9.6% | 99.8%\tNum Positives: 898\t Num Negatives: 898\n",
      "\n",
      "\n",
      "6710/6710 [==============================] - 1s - loss: 0.1876 - val_loss: 0.8425\n",
      "Epoch 20/100\n",
      "6500/6710 [============================>.] - ETA: 0s - loss: 0.1682Epoch 19: validation loss: 0.862\n",
      "Balanced Accuracy: 58.74%\tauROC: 0.633\t auPRC: 0.622\n",
      "Positve Accuracy: 0.00%\t Negative Accuracy: 67.15%\n",
      "Recall at 5% | 10% | 25% | 50% FDR: 50.3% | 0.0% | 10.5% | 99.8%\tNum Positives: 898\t Num Negatives: 898\n",
      "\n",
      "\n",
      "6710/6710 [==============================] - 1s - loss: 0.1681 - val_loss: 0.8624\n",
      "Epoch 21/100\n",
      "6500/6710 [============================>.] - ETA: 0s - loss: 0.1547Epoch 20: validation loss: 0.867\n",
      "Balanced Accuracy: 58.02%\tauROC: 0.627\t auPRC: 0.617\n",
      "Positve Accuracy: 0.00%\t Negative Accuracy: 65.81%\n",
      "Recall at 5% | 10% | 25% | 50% FDR: 50.2% | 0.0% | 10.5% | 99.8%\tNum Positives: 898\t Num Negatives: 898\n",
      "\n",
      "\n",
      "6710/6710 [==============================] - 2s - loss: 0.1541 - val_loss: 0.8673\n",
      "Epoch 22/100\n",
      "6500/6710 [============================>.] - ETA: 0s - loss: 0.1393Epoch 21: validation loss: 0.879\n",
      "Balanced Accuracy: 58.18%\tauROC: 0.628\t auPRC: 0.620\n",
      "Positve Accuracy: 0.00%\t Negative Accuracy: 65.81%\n",
      "Recall at 5% | 10% | 25% | 50% FDR: 50.6% | 0.0% | 11.1% | 99.8%\tNum Positives: 898\t Num Negatives: 898\n",
      "\n",
      "\n",
      "6710/6710 [==============================] - 1s - loss: 0.1394 - val_loss: 0.8795\n",
      "Epoch 23/100\n",
      "6500/6710 [============================>.] - ETA: 0s - loss: 0.1258Epoch 22: validation loss: 0.892\n",
      "Balanced Accuracy: 58.69%\tauROC: 0.628\t auPRC: 0.618\n",
      "Positve Accuracy: 0.00%\t Negative Accuracy: 66.15%\n",
      "Recall at 5% | 10% | 25% | 50% FDR: 51.2% | 0.0% | 9.6% | 99.8%\tNum Positives: 898\t Num Negatives: 898\n",
      "\n",
      "\n",
      "6710/6710 [==============================] - 1s - loss: 0.1263 - val_loss: 0.8924\n",
      "Epoch 24/100\n",
      "6500/6710 [============================>.] - ETA: 0s - loss: 0.1162Epoch 23: validation loss: 0.909\n",
      "Balanced Accuracy: 58.24%\tauROC: 0.625\t auPRC: 0.613\n",
      "Positve Accuracy: 0.00%\t Negative Accuracy: 65.26%\n",
      "Recall at 5% | 10% | 25% | 50% FDR: 51.2% | 0.0% | 5.5% | 99.8%\tNum Positives: 898\t Num Negatives: 898\n",
      "\n",
      "\n",
      "6710/6710 [==============================] - 2s - loss: 0.1158 - val_loss: 0.9094\n",
      "Epoch 25/100\n",
      "6500/6710 [============================>.] - ETA: 0s - loss: 0.1075Epoch 24: validation loss: 0.930\n",
      "Balanced Accuracy: 58.80%\tauROC: 0.637\t auPRC: 0.626\n",
      "Positve Accuracy: 0.00%\t Negative Accuracy: 66.48%\n",
      "Recall at 5% | 10% | 25% | 50% FDR: 51.1% | 0.0% | 14.3% | 99.8%\tNum Positives: 898\t Num Negatives: 898\n",
      "\n",
      "\n",
      "6710/6710 [==============================] - 1s - loss: 0.1078 - val_loss: 0.9304\n",
      "Epoch 26/100\n",
      "6500/6710 [============================>.] - ETA: 0s - loss: 0.1011Epoch 25: validation loss: 0.937\n",
      "Balanced Accuracy: 58.24%\tauROC: 0.623\t auPRC: 0.615\n",
      "Positve Accuracy: 0.00%\t Negative Accuracy: 65.26%\n",
      "Recall at 5% | 10% | 25% | 50% FDR: 51.2% | 0.0% | 6.1% | 99.8%\tNum Positives: 898\t Num Negatives: 898\n",
      "\n",
      "\n",
      "6710/6710 [==============================] - 1s - loss: 0.1007 - val_loss: 0.9366\n"
     ]
    }
   ],
   "source": [
    "dnn_normalized = Genome3D_DNN_FC(num_features=3840, use_deep_CNN=False)\n",
    "validation_data = (X_valid_pairs, y_valid)\n",
    "dnn_normalized.train(X_train_pairs, y_train, validation_data)"
   ]
  },
  {
   "cell_type": "code",
   "execution_count": 9,
   "metadata": {
    "collapsed": false,
    "scrolled": true
   },
   "outputs": [
    {
     "name": "stdout",
     "output_type": "stream",
     "text": [
      "Balanced Accuracy: 60.43%\tauROC: 0.632\t auPRC: 0.611\n",
      "Positve Accuracy: 0.61%\t Negative Accuracy: 69.03%\n",
      "Recall at 5% | 10% | 25% | 50% FDR: 51.8% | 0.6% | 6.7% | 100.0%\tNum Positives: 494\t Num Negatives: 494\n",
      "\n",
      "Balanced Accuracy: 99.96%\tauROC: 1.000\t auPRC: 1.000\n",
      "Positve Accuracy: 100.00%\t Negative Accuracy: 100.00%\n",
      "Recall at 5% | 10% | 25% | 50% FDR: 99.9% | 100.0% | 100.0% | 100.0%\tNum Positives: 3355\t Num Negatives: 3355\n",
      "\n",
      "Balanced Accuracy: 58.24%\tauROC: 0.623\t auPRC: 0.615\n",
      "Positve Accuracy: 0.00%\t Negative Accuracy: 65.26%\n",
      "Recall at 5% | 10% | 25% | 50% FDR: 51.2% | 0.0% | 6.1% | 99.8%\tNum Positives: 898\t Num Negatives: 898\n",
      "\n"
     ]
    }
   ],
   "source": [
    "print(dnn_normalized.test(X_test_pairs, y_test))\n",
    "print(dnn_normalized.test(X_train_pairs, y_train))\n",
    "print(dnn_normalized.test(X_valid_pairs, y_valid))"
   ]
  },
  {
   "cell_type": "code",
   "execution_count": 10,
   "metadata": {
    "collapsed": true
   },
   "outputs": [],
   "source": [
    "#save model and weights\n",
    "dnn_normalized.save(contacts+'_dnn_FC_seq_features_nodes_'+'thres_'+thres, '/users/mtaranov/genome3D/')"
   ]
  }
 ],
 "metadata": {
  "anaconda-cloud": {},
  "kernelspec": {
   "display_name": "Python [default]",
   "language": "python",
   "name": "python2"
  },
  "language_info": {
   "codemirror_mode": {
    "name": "ipython",
    "version": 2
   },
   "file_extension": ".py",
   "mimetype": "text/x-python",
   "name": "python",
   "nbconvert_exporter": "python",
   "pygments_lexer": "ipython2",
   "version": "2.7.12"
  }
 },
 "nbformat": 4,
 "nbformat_minor": 0
}
