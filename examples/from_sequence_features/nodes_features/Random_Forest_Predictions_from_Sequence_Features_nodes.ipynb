{
 "cells": [
  {
   "cell_type": "code",
   "execution_count": 1,
   "metadata": {
    "collapsed": false
   },
   "outputs": [
    {
     "name": "stderr",
     "output_type": "stream",
     "text": [
      "Using Theano backend.\n",
      "WARNING (theano.sandbox.cuda): The cuda backend is deprecated and will be removed in the next release (v0.10).  Please switch to the gpuarray backend. You can get more information about how to switch at this URL:\n",
      " https://github.com/Theano/Theano/wiki/Converting-to-the-new-gpu-back-end%28gpuarray%29\n",
      "\n",
      "Using gpu device 1: GeForce GTX TITAN X (CNMeM is disabled, cuDNN 5005)\n"
     ]
    }
   ],
   "source": [
    "%matplotlib inline\n",
    "%load_ext autoreload\n",
    "%autoreload 2\n",
    "\n",
    "import pickle\n",
    "import sys\n",
    "import numpy as np\n",
    "import copy\n",
    "import matplotlib.pyplot as plt\n",
    "from sklearn.preprocessing import MinMaxScaler, StandardScaler\n",
    "sys.path.append('/users/mtaranov/genome3D/')\n",
    "from models_3d import Genome3D_RandomForest\n",
    "from metrics import ClassificationResult\n",
    "from utils import normalize_features_sampl_by_f, concat_motifs, get_features, get_labels, subsample_data, normalize_features, reconstruct_2d, printMatrix, binarize, zscore, get_2D, plot_prediction, change_scale "
   ]
  },
  {
   "cell_type": "code",
   "execution_count": 2,
   "metadata": {
    "collapsed": false
   },
   "outputs": [],
   "source": [
    "contacts='pe'\n",
    "path='/users/mtaranov/datasets_3d/by_chr_dist_matched_'+contacts+'/'\n",
    "day='d0'\n",
    "thres='10'\n",
    "\n",
    "X_train_node1 = path+'motifs/'+day+'_thres_'+thres+'_train_'+contacts+'_out_node1_3_0.0001/mat.npy'\n",
    "X_train_node2 = path+'motifs/'+day+'_thres_'+thres+'_train_'+contacts+'_out_node2_3_0.0001/mat.npy'\n",
    "X_train_window = path+'motifs/'+day+'_thres_'+thres+'_train_'+contacts+'_out_btw_nodes_3_0.0001/mat.npy'\n",
    "\n",
    "\n",
    "X_test_node1 = path+'motifs/'+day+'_thres_'+thres+'_test_'+contacts+'_out_node1_3_0.0001/mat.npy'\n",
    "X_test_node2 = path+'motifs/'+day+'_thres_'+thres+'_test_'+contacts+'_out_node2_3_0.0001/mat.npy'\n",
    "X_test_window = path+'motifs/'+day+'_thres_'+thres+'_test_'+contacts+'_out_btw_nodes_3_0.0001/mat.npy'\n",
    "\n",
    "X_valid_node1 = path+'motifs/'+day+'_thres_'+thres+'_valid_'+contacts+'_out_node1_3_0.0001/mat.npy'\n",
    "X_valid_node2 = path+'motifs/'+day+'_thres_'+thres+'_valid_'+contacts+'_out_node2_3_0.0001/mat.npy'\n",
    "X_valid_window = path+'motifs/'+day+'_thres_'+thres+'_valid_'+contacts+'_out_btw_nodes_3_0.0001/mat.npy'\n",
    "\n",
    "y_train = get_labels(path+day+'_y_train_thres_'+thres+'.npy')\n",
    "y_test = get_labels(path+day+'_y_test_thres_'+thres+'.npy')\n",
    "y_valid = get_labels(path+day+'_y_valid_thres_'+thres+'.npy')\n",
    "\n",
    "X_train=concat_motifs([X_train_node1, X_train_node2])\n",
    "X_test=concat_motifs([X_test_node1, X_test_node2])\n",
    "X_valid=concat_motifs([X_valid_node1, X_valid_node2])"
   ]
  },
  {
   "cell_type": "code",
   "execution_count": 3,
   "metadata": {
    "collapsed": false
   },
   "outputs": [],
   "source": [
    "X_train_normalized, X_valid_normalized, X_test_normalized = normalize_features(X_train, X_valid, X_test)"
   ]
  },
  {
   "cell_type": "code",
   "execution_count": 4,
   "metadata": {
    "collapsed": true
   },
   "outputs": [],
   "source": [
    "X_train_pairs = X_train_normalized.reshape(X_train_normalized.shape[0],X_train_normalized.shape[2]*X_train_normalized.shape[3])\n",
    "X_valid_pairs = X_valid_normalized.reshape(X_valid_normalized.shape[0],X_valid_normalized.shape[2]*X_valid_normalized.shape[3])\n",
    "X_test_pairs = X_test_normalized.reshape(X_test_normalized.shape[0],X_test_normalized.shape[2]*X_test_normalized.shape[3])"
   ]
  },
  {
   "cell_type": "code",
   "execution_count": 5,
   "metadata": {
    "collapsed": false
   },
   "outputs": [
    {
     "data": {
      "text/plain": [
       "(6710, 3840)"
      ]
     },
     "execution_count": 5,
     "metadata": {},
     "output_type": "execute_result"
    }
   ],
   "source": [
    "X_train_pairs.shape"
   ]
  },
  {
   "cell_type": "markdown",
   "metadata": {},
   "source": [
    "# Random Forest"
   ]
  },
  {
   "cell_type": "markdown",
   "metadata": {},
   "source": [
    "### with motifs only"
   ]
  },
  {
   "cell_type": "markdown",
   "metadata": {},
   "source": [
    "# Estimating hyper-parameter using held out validation set"
   ]
  },
  {
   "cell_type": "code",
   "execution_count": 6,
   "metadata": {
    "collapsed": false
   },
   "outputs": [],
   "source": [
    "# X_train_valid = np.concatenate((X_train_normalized, X_valid_normalized), axis=0)\n",
    "# y_train_valid = np.concatenate((y_train, y_valid), axis=0)\n",
    "# test_fold to 0 for all samples that are part of the validation set, and to -1 for all other samples.\n",
    "# valid_index=[-1 for i in range(X_train_normalized.shape[0])]+[0 for i in range(X_valid_normalized.shape[0])]\n",
    "# param_grid = {'n_estimators': [100, 200, 500], 'criterion': ['gini', 'entropy'], 'max_features': ['auto', 'log2' ], 'max_depth': [None, 2, 3, 5], 'min_samples_split': [2, 3, 4], 'min_samples_leaf': [1, 2, 3], 'min_impurity_split': [0.0 , 0.1, 0.2]}\n",
    "# best_param={}\n",
    "# rf = Genome3D_RandomForest(best_param)\n",
    "# best_param = rf.train_cross_val(X_train_valid[:,:], [i for i in y_train_valid[:,0]], valid_index, param_grid)"
   ]
  },
  {
   "cell_type": "markdown",
   "metadata": {},
   "source": [
    "# Random Forest Predictions"
   ]
  },
  {
   "cell_type": "code",
   "execution_count": 7,
   "metadata": {
    "collapsed": true
   },
   "outputs": [],
   "source": [
    "best_param = pickle.load(open('/users/mtaranov/genome3D/examples/from_sequence_features/nodes_features/best_param_rf.pkl', 'rb' ) )"
   ]
  },
  {
   "cell_type": "code",
   "execution_count": 8,
   "metadata": {
    "collapsed": true
   },
   "outputs": [],
   "source": [
    "rf = Genome3D_RandomForest(best_param)"
   ]
  },
  {
   "cell_type": "code",
   "execution_count": 9,
   "metadata": {
    "collapsed": false
   },
   "outputs": [
    {
     "name": "stderr",
     "output_type": "stream",
     "text": [
      "/users/mtaranov/genome3D/models_3d.py:269: DataConversionWarning: A column-vector y was passed when a 1d array was expected. Please change the shape of y to (n_samples,), for example using ravel().\n",
      "  self.classifier.fit(X, y)\n"
     ]
    },
    {
     "name": "stdout",
     "output_type": "stream",
     "text": [
      "On Test:\n",
      "Balanced Accuracy: 64.68%\t auROC: 0.671\t auPRC: 0.651\t auPRG: 0.349\n",
      "Positve Accuracy: 69.43%\t Negative Accuracy: 59.92%\n",
      "Recall at 5%|10%|20% FDR: 0.6%|2.8%|6.5%\t Num Positives: 494\t Num Negatives: 494\t \n",
      "\n",
      "On Train:\n",
      "Balanced Accuracy: 98.78%\t auROC: 0.999\t auPRC: 0.999\t auPRG: 0.999\n",
      "Positve Accuracy: 99.52%\t Negative Accuracy: 98.03%\n",
      "Recall at 5%|10%|20% FDR: 100.0%|100.0%|100.0%\t Num Positives: 3355\t Num Negatives: 3355\t \n",
      "\n"
     ]
    }
   ],
   "source": [
    "rf.train(X_train_pairs, y_train)\n",
    "preds_test = rf.predict(X_test_pairs)\n",
    "preds_train = rf.predict(X_train_pairs)\n",
    "print ('On Test:\\n{}\\n'.format(ClassificationResult(y_test, preds_test)))\n",
    "print ('On Train:\\n{}\\n'.format(ClassificationResult(y_train, preds_train)))"
   ]
  },
  {
   "cell_type": "markdown",
   "metadata": {},
   "source": [
    "# Random Forest Feature Selection"
   ]
  },
  {
   "cell_type": "code",
   "execution_count": 10,
   "metadata": {
    "collapsed": true
   },
   "outputs": [],
   "source": [
    "scores=rf.ImportanceSelect()"
   ]
  },
  {
   "cell_type": "code",
   "execution_count": 11,
   "metadata": {
    "collapsed": false
   },
   "outputs": [
    {
     "data": {
      "text/plain": [
       "(3840,)"
      ]
     },
     "execution_count": 11,
     "metadata": {},
     "output_type": "execute_result"
    }
   ],
   "source": [
    "scores.shape"
   ]
  },
  {
   "cell_type": "code",
   "execution_count": 12,
   "metadata": {
    "collapsed": true
   },
   "outputs": [],
   "source": [
    "motif_names=np.loadtxt('/users/mtaranov/datasets_3d/dist_matched_PE/motifs/train_PE_out_btw_nodes_3_0.0001/motif_names.txt', dtype=str, delimiter='/')[:,6:].reshape(640,)\n",
    "top_3_hits_names=[]\n",
    "for i in motif_names:\n",
    "    for j in range(3):\n",
    "        top_3_hits_names.append(i)\n",
    "top_3_hits_names = np.array(top_3_hits_names)"
   ]
  },
  {
   "cell_type": "code",
   "execution_count": 13,
   "metadata": {
    "collapsed": false
   },
   "outputs": [],
   "source": [
    "score_per_feature_node1=scores[0:5760:3]\n",
    "score_per_feature_node2=scores[1:5761:3]\n",
    "score_per_feature_window=scores[2:5762:3]"
   ]
  },
  {
   "cell_type": "code",
   "execution_count": 14,
   "metadata": {
    "collapsed": true
   },
   "outputs": [],
   "source": [
    "RF_Importance_Motifs_node1=top_3_hits_names[score_per_feature_node1.argsort()[::-1]]\n",
    "RF_Importance_Motifs_node2=top_3_hits_names[score_per_feature_node2.argsort()[::-1]]\n",
    "RF_Importance_Motifs_window=top_3_hits_names[score_per_feature_window.argsort()[::-1]]"
   ]
  },
  {
   "cell_type": "code",
   "execution_count": 15,
   "metadata": {
    "collapsed": false
   },
   "outputs": [
    {
     "name": "stdout",
     "output_type": "stream",
     "text": [
      "(array([], dtype=int64),)\n",
      "(array([], dtype=int64),)\n"
     ]
    }
   ],
   "source": [
    "print np.where(RF_Importance_Motifs_node1=='CTCF_HUMAN')\n",
    "print np.where(RF_Importance_Motifs_node1=='CTCFL_HUMAN')"
   ]
  },
  {
   "cell_type": "code",
   "execution_count": 16,
   "metadata": {
    "collapsed": false
   },
   "outputs": [
    {
     "name": "stdout",
     "output_type": "stream",
     "text": [
      "(array([], dtype=int64),)\n",
      "(array([], dtype=int64),)\n"
     ]
    }
   ],
   "source": [
    "print np.where(RF_Importance_Motifs_node2=='CTCF_HUMAN')\n",
    "print np.where(RF_Importance_Motifs_node2=='CTCFL_HUMAN')"
   ]
  },
  {
   "cell_type": "code",
   "execution_count": 17,
   "metadata": {
    "collapsed": false
   },
   "outputs": [
    {
     "name": "stdout",
     "output_type": "stream",
     "text": [
      "(array([], dtype=int64),)\n",
      "(array([], dtype=int64),)\n"
     ]
    }
   ],
   "source": [
    "print np.where(RF_Importance_Motifs_window=='CTCF_HUMAN')\n",
    "print np.where(RF_Importance_Motifs_window=='CTCFL_HUMAN')"
   ]
  },
  {
   "cell_type": "code",
   "execution_count": 18,
   "metadata": {
    "collapsed": false
   },
   "outputs": [
    {
     "data": {
      "text/plain": [
       "array(['GATA1_HUMAN', 'CUX2_HUMAN', 'USF1_HUMAN', 'CREB1_HUMAN',\n",
       "       'PKNX2_HUMAN', 'PKNX2_HUMAN', 'PURA_HUMAN', 'SP1_HUMAN',\n",
       "       'TLX1_HUMAN', 'ELF2_HUMAN', 'AP2C_HUMAN', 'NFKB2_HUMAN',\n",
       "       'BARH2_HUMAN', 'NFIA_HUMAN', 'PPARA_HUMAN', 'RARA_HUMAN',\n",
       "       'PRRX2_HUMAN', 'FOXK1_HUMAN', 'ID4_HUMAN', 'NR1I2_HUMAN',\n",
       "       'GATA1_HUMAN', 'RARA_HUMAN', 'MLX_HUMAN', 'NR2C1_HUMAN',\n",
       "       'ETV6_HUMAN', 'NFYA_HUMAN', 'JUND_HUMAN', 'RUNX1_HUMAN',\n",
       "       'HNF4G_HUMAN', 'SHOX2_HUMAN', 'LMX1B_HUMAN', 'RARB_HUMAN',\n",
       "       'HME2_HUMAN', 'KLF6_HUMAN', 'E4F1_HUMAN', 'CPEB1_HUMAN',\n",
       "       'HXD3_HUMAN', 'ELF2_HUMAN', 'CREM_HUMAN', 'SHOX_HUMAN',\n",
       "       'MAFK_HUMAN', 'ONEC2_HUMAN', 'EVX1_HUMAN', 'PO3F2_HUMAN',\n",
       "       'SNAI1_HUMAN', 'IRF7_HUMAN', 'PITX3_HUMAN', 'ETS2_HUMAN',\n",
       "       'PHX2A_HUMAN', 'OVOL1_HUMAN', 'HTF4_HUMAN', 'EMX2_HUMAN',\n",
       "       'IKZF1_HUMAN', 'FEV_HUMAN', 'GSC2_HUMAN', 'RUNX3_HUMAN',\n",
       "       'CPEB1_HUMAN', 'JUNB_HUMAN', 'SOX18_HUMAN', 'LMX1B_HUMAN',\n",
       "       'FOXH1_HUMAN', 'PO2F1_HUMAN', 'TBX20_HUMAN', 'ONEC3_HUMAN',\n",
       "       'HMX2_HUMAN', 'MEIS3_HUMAN', 'PLAG1_HUMAN', 'HXA13_HUMAN',\n",
       "       'SMAD1_HUMAN', 'GLIS2_HUMAN', 'KLF14_HUMAN', 'KAISO_HUMAN',\n",
       "       'ETV5_HUMAN', 'PO4F3_HUMAN', 'MYBB_HUMAN', 'NFIA_HUMAN',\n",
       "       'CXXC1_HUMAN', 'KLF16_HUMAN', 'USF1_HUMAN', 'MEF2D_HUMAN',\n",
       "       'ZN350_HUMAN', 'CXXC1_HUMAN', 'KLF15_HUMAN', 'NKX28_HUMAN',\n",
       "       'HXD13_HUMAN', 'KLF13_HUMAN', 'KLF16_HUMAN', 'MEIS1_HUMAN',\n",
       "       'NR1D1_HUMAN', 'ETV2_HUMAN', 'ATOH1_HUMAN', 'SOX8_HUMAN',\n",
       "       'NFYB_HUMAN', 'FOXD1_HUMAN', 'ZBT49_HUMAN', 'GBX1_HUMAN',\n",
       "       'NKX21_HUMAN', 'OLIG2_HUMAN', 'SOX18_HUMAN', 'ARNT_HUMAN'],\n",
       "      dtype='|S11')"
      ]
     },
     "execution_count": 18,
     "metadata": {},
     "output_type": "execute_result"
    }
   ],
   "source": [
    "RF_Importance_Motifs_node1[:100]"
   ]
  },
  {
   "cell_type": "code",
   "execution_count": 19,
   "metadata": {
    "collapsed": false
   },
   "outputs": [
    {
     "data": {
      "text/plain": [
       "array(['RREB1_HUMAN', 'USF1_HUMAN', 'ZN639_HUMAN', 'KLF16_HUMAN',\n",
       "       'NFIA_HUMAN', 'PKNX2_HUMAN', 'RXRG_HUMAN', 'PLAG1_HUMAN',\n",
       "       'GCM2_HUMAN', 'MAFK_HUMAN', 'ZN350_HUMAN', 'TFDP1_HUMAN',\n",
       "       'RHXF1_HUMAN', 'ZFX_HUMAN', 'LMX1B_HUMAN', 'RXRB_HUMAN',\n",
       "       'CEBPZ_HUMAN', 'DBP_HUMAN', 'USF1_HUMAN', 'KLF8_HUMAN',\n",
       "       'PKNX2_HUMAN', 'E2F8_HUMAN', 'OVOL1_HUMAN', 'CR3L2_HUMAN',\n",
       "       'CREM_HUMAN', 'CPEB1_HUMAN', 'NFIA_HUMAN', 'CUX2_HUMAN',\n",
       "       'SOX18_HUMAN', 'SOX2_HUMAN', 'MEIS1_HUMAN', 'HXD3_HUMAN',\n",
       "       'PO3F2_HUMAN', 'GATA2_HUMAN', 'PO4F1_HUMAN', 'GSC2_HUMAN',\n",
       "       'HXA7_HUMAN', 'NKX61_HUMAN', 'JUN_HUMAN', 'EMX2_HUMAN',\n",
       "       'HXA13_HUMAN', 'SMAD4_HUMAN', 'NFIA_HUMAN', 'ZN589_HUMAN',\n",
       "       'BHA15_HUMAN', 'PROP1_HUMAN', 'RXRB_HUMAN', 'ZN639_HUMAN',\n",
       "       'NFYB_HUMAN', 'RARA_HUMAN', 'PPARA_HUMAN', 'SHOX_HUMAN',\n",
       "       'MYBB_HUMAN', 'CEBPD_HUMAN', 'KLF14_HUMAN', 'GATA2_HUMAN',\n",
       "       'PO6F1_HUMAN', 'HTF4_HUMAN', 'NR0B1_HUMAN', 'GCM2_HUMAN',\n",
       "       'EMX2_HUMAN', 'FOXJ3_HUMAN', 'SHOX_HUMAN', 'SHOX2_HUMAN',\n",
       "       'GLIS2_HUMAN', 'TFAP4_HUMAN', 'PO4F3_HUMAN', 'FOXD1_HUMAN',\n",
       "       'MEIS3_HUMAN', 'STAT3_HUMAN', 'DRGX_HUMAN', 'KAISO_HUMAN',\n",
       "       'PO3F3_HUMAN', 'RARB_HUMAN', 'HEY1_HUMAN', 'HXD13_HUMAN',\n",
       "       'ZBTB4_HUMAN', 'ELF2_HUMAN', 'SRY_HUMAN', 'GSC2_HUMAN',\n",
       "       'MEOX1_HUMAN', 'GATA1_HUMAN', 'SOX4_HUMAN', 'STAT4_HUMAN',\n",
       "       'HXD10_HUMAN', 'E4F1_HUMAN', 'IRF7_HUMAN', 'PRRX2_HUMAN',\n",
       "       'THAP1_HUMAN', 'PO4F1_HUMAN', 'NFIL3_HUMAN', 'NKX28_HUMAN',\n",
       "       'BARH2_HUMAN', 'SOX3_HUMAN', 'ETV2_HUMAN', 'BARH1_HUMAN',\n",
       "       'E4F1_HUMAN', 'ELF5_HUMAN', 'ETV3_HUMAN', 'RHXF1_HUMAN'],\n",
       "      dtype='|S11')"
      ]
     },
     "execution_count": 19,
     "metadata": {},
     "output_type": "execute_result"
    }
   ],
   "source": [
    "RF_Importance_Motifs_node2[:100]"
   ]
  },
  {
   "cell_type": "code",
   "execution_count": 20,
   "metadata": {
    "collapsed": false
   },
   "outputs": [
    {
     "data": {
      "text/plain": [
       "array(['USF1_HUMAN', 'HEY1_HUMAN', 'FEV_HUMAN', 'MAFK_HUMAN',\n",
       "       'OVOL1_HUMAN', 'NFYA_HUMAN', 'ETV2_HUMAN', 'PLAG1_HUMAN',\n",
       "       'GBX1_HUMAN', 'TBX19_HUMAN', 'GATA1_HUMAN', 'ZFHX3_HUMAN',\n",
       "       'PHX2A_HUMAN', 'SHOX2_HUMAN', 'BARH2_HUMAN', 'FOXD1_HUMAN',\n",
       "       'LMX1B_HUMAN', 'CREB1_HUMAN', 'FUBP1_HUMAN', 'TBX20_HUMAN',\n",
       "       'ID4_HUMAN', 'CUX2_HUMAN', 'SP1_HUMAN', 'ONEC3_HUMAN',\n",
       "       'GATA1_HUMAN', 'RARA_HUMAN', 'IKZF1_HUMAN', 'PURA_HUMAN',\n",
       "       'PKNX2_HUMAN', 'SOX18_HUMAN', 'NFIA_HUMAN', 'MYBB_HUMAN',\n",
       "       'ZN639_HUMAN', 'PO4F1_HUMAN', 'KLF16_HUMAN', 'RUNX1_HUMAN',\n",
       "       'RARA_HUMAN', 'EMX2_HUMAN', 'GSC2_HUMAN', 'USF1_HUMAN',\n",
       "       'ELF2_HUMAN', 'OTX2_HUMAN', 'OLIG3_HUMAN', 'KLF15_HUMAN',\n",
       "       'ATF2_HUMAN', 'MEF2C_HUMAN', 'HNF4G_HUMAN', 'MLX_HUMAN',\n",
       "       'GSC2_HUMAN', 'E4F1_HUMAN', 'NFIA_HUMAN', 'BCL6_HUMAN',\n",
       "       'MAFK_HUMAN', 'GATA2_HUMAN', 'FOS_HUMAN', 'HXD13_HUMAN',\n",
       "       'LHX9_HUMAN', 'PO4F3_HUMAN', 'TFCP2_HUMAN', 'FOXI1_HUMAN',\n",
       "       'FOXH1_HUMAN', 'REST_HUMAN', 'TLX1_HUMAN', 'RUNX3_HUMAN',\n",
       "       'HXA13_HUMAN', 'NKX61_HUMAN', 'LHX2_HUMAN', 'TBR1_HUMAN',\n",
       "       'CEBPG_HUMAN', 'RHXF1_HUMAN', 'KLF8_HUMAN', 'HXD10_HUMAN',\n",
       "       'GSC2_HUMAN', 'CXXC1_HUMAN', 'SHOX_HUMAN', 'FOXD1_HUMAN',\n",
       "       'SRY_HUMAN', 'KLF14_HUMAN', 'DRGX_HUMAN', 'SOX11_HUMAN',\n",
       "       'MEIS3_HUMAN', 'DBP_HUMAN', 'EMX2_HUMAN', 'HXB13_HUMAN',\n",
       "       'ARNT_HUMAN', 'CPEB1_HUMAN', 'PKNX2_HUMAN', 'PAX5_HUMAN',\n",
       "       'NR6A1_HUMAN', 'PO3F2_HUMAN', 'E2F5_HUMAN', 'GLIS2_HUMAN',\n",
       "       'RXRG_HUMAN', 'ETS2_HUMAN', 'NFKB2_HUMAN', 'PPARD_HUMAN',\n",
       "       'PKNX2_HUMAN', 'CUX2_HUMAN', 'SP2_HUMAN', 'NR1I3_HUMAN'],\n",
       "      dtype='|S11')"
      ]
     },
     "execution_count": 20,
     "metadata": {},
     "output_type": "execute_result"
    }
   ],
   "source": [
    "RF_Importance_Motifs_window[:100]"
   ]
  },
  {
   "cell_type": "code",
   "execution_count": 21,
   "metadata": {
    "collapsed": false
   },
   "outputs": [
    {
     "name": "stderr",
     "output_type": "stream",
     "text": [
      "/users/mtaranov/local/anaconda2/lib/python2.7/site-packages/ipykernel/__main__.py:1: DeprecationWarning: the sets module is deprecated\n",
      "  if __name__ == '__main__':\n"
     ]
    }
   ],
   "source": [
    "from sets import Set\n",
    "uniq_RF_Importance_Motifs_node1 = Set(RF_Importance_Motifs_node1[:100])\n",
    "uniq_RF_Importance_Motifs_node2 = Set(RF_Importance_Motifs_node2[:100])\n",
    "uniq_RF_Importance_Motifs_window = Set(RF_Importance_Motifs_window[:100])\n"
   ]
  },
  {
   "cell_type": "code",
   "execution_count": 22,
   "metadata": {
    "collapsed": false
   },
   "outputs": [
    {
     "data": {
      "text/plain": [
       "Set(['GSC2_HUMAN', 'NFIA_HUMAN', 'LMX1B_HUMAN', 'OVOL1_HUMAN', 'MAFK_HUMAN', 'E4F1_HUMAN', 'PKNX2_HUMAN', 'GATA1_HUMAN', 'BARH2_HUMAN', 'KLF16_HUMAN', 'PO4F3_HUMAN', 'MYBB_HUMAN', 'ELF2_HUMAN', 'KLF14_HUMAN', 'CPEB1_HUMAN', 'USF1_HUMAN', 'GLIS2_HUMAN', 'EMX2_HUMAN', 'HXD13_HUMAN', 'MEIS3_HUMAN', 'PO3F2_HUMAN', 'SHOX_HUMAN', 'PLAG1_HUMAN', 'ETV2_HUMAN', 'RARA_HUMAN', 'HXA13_HUMAN', 'FOXD1_HUMAN', 'SOX18_HUMAN', 'CUX2_HUMAN', 'SHOX2_HUMAN'])"
      ]
     },
     "execution_count": 22,
     "metadata": {},
     "output_type": "execute_result"
    }
   ],
   "source": [
    "uniq_RF_Importance_Motifs_node1 & uniq_RF_Importance_Motifs_node2 & uniq_RF_Importance_Motifs_window\n"
   ]
  },
  {
   "cell_type": "code",
   "execution_count": null,
   "metadata": {
    "collapsed": true
   },
   "outputs": [],
   "source": []
  }
 ],
 "metadata": {
  "anaconda-cloud": {},
  "kernelspec": {
   "display_name": "Python [default]",
   "language": "python",
   "name": "python2"
  },
  "language_info": {
   "codemirror_mode": {
    "name": "ipython",
    "version": 2
   },
   "file_extension": ".py",
   "mimetype": "text/x-python",
   "name": "python",
   "nbconvert_exporter": "python",
   "pygments_lexer": "ipython2",
   "version": "2.7.12"
  }
 },
 "nbformat": 4,
 "nbformat_minor": 0
}
