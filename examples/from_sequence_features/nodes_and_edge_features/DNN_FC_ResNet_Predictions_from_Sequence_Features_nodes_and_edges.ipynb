{
 "cells": [
  {
   "cell_type": "code",
   "execution_count": 13,
   "metadata": {
    "collapsed": false
   },
   "outputs": [
    {
     "name": "stdout",
     "output_type": "stream",
     "text": [
      "The autoreload extension is already loaded. To reload it, use:\n",
      "  %reload_ext autoreload\n"
     ]
    }
   ],
   "source": [
    "%matplotlib inline\n",
    "%load_ext autoreload\n",
    "%autoreload 2\n",
    "\n",
    "import sys\n",
    "import numpy as np\n",
    "import matplotlib.pyplot as plt\n",
    "from sklearn.preprocessing import MinMaxScaler, StandardScaler\n",
    "import copy\n",
    "sys.path.append('/users/mtaranov/genome3D/')\n",
    "from models_3d import Genome3D_DNN_FC_ResNet\n",
    "from utils import normalize_features_sampl_by_f, concat_motifs,get_features, get_labels, subsample_data, normalize_features, reconstruct_2d, printMatrix, binarize, zscore, get_2D, plot_prediction, change_scale \n"
   ]
  },
  {
   "cell_type": "code",
   "execution_count": 2,
   "metadata": {
    "collapsed": false
   },
   "outputs": [],
   "source": [
    "contacts='pe'\n",
    "path='/users/mtaranov/datasets_3d/by_chr_dist_matched_'+contacts+'/'\n",
    "day='d0'\n",
    "thres='10'\n",
    "\n",
    "X_train_node1 = path+'motifs/'+day+'_thres_'+thres+'_train_'+contacts+'_out_node1_3_0.0001/mat.npy'\n",
    "X_train_node2 = path+'motifs/'+day+'_thres_'+thres+'_train_'+contacts+'_out_node2_3_0.0001/mat.npy'\n",
    "X_train_window = path+'motifs/'+day+'_thres_'+thres+'_train_'+contacts+'_out_btw_nodes_3_0.0001/mat.npy'\n",
    "\n",
    "\n",
    "X_test_node1 = path+'motifs/'+day+'_thres_'+thres+'_test_'+contacts+'_out_node1_3_0.0001/mat.npy'\n",
    "X_test_node2 = path+'motifs/'+day+'_thres_'+thres+'_test_'+contacts+'_out_node2_3_0.0001/mat.npy'\n",
    "X_test_window =path+'motifs/'+day+'_thres_'+thres+'_test_'+contacts+'_out_btw_nodes_3_0.0001/mat.npy'\n",
    "\n",
    "X_valid_node1 = path+'motifs/'+day+'_thres_'+thres+'_valid_'+contacts+'_out_node1_3_0.0001/mat.npy'\n",
    "X_valid_node2 = path+'motifs/'+day+'_thres_'+thres+'_valid_'+contacts+'_out_node2_3_0.0001/mat.npy'\n",
    "X_valid_window = path+'motifs/'+day+'_thres_'+thres+'_valid_'+contacts+'_out_btw_nodes_3_0.0001/mat.npy'\n",
    "\n",
    "y_train = get_labels(path+day+'_y_train_thres_'+thres+'.npy')\n",
    "y_test = get_labels(path+day+'_y_test_thres_'+thres+'.npy')\n",
    "y_valid = get_labels(path+day+'_y_valid_thres_'+thres+'.npy')\n",
    "\n",
    "X_train=concat_motifs([X_train_node1, X_train_node2, X_train_window])\n",
    "X_test=concat_motifs([X_test_node1, X_test_node2, X_test_window])\n",
    "X_valid=concat_motifs([X_valid_node1, X_valid_node2, X_valid_window])"
   ]
  },
  {
   "cell_type": "code",
   "execution_count": 3,
   "metadata": {
    "collapsed": false
   },
   "outputs": [
    {
     "data": {
      "text/plain": [
       "((6710, 1, 1920, 3), (988, 1, 1920, 3), (1796, 1, 1920, 3))"
      ]
     },
     "execution_count": 3,
     "metadata": {},
     "output_type": "execute_result"
    }
   ],
   "source": [
    "X_train.shape, X_test.shape, X_valid.shape"
   ]
  },
  {
   "cell_type": "code",
   "execution_count": 4,
   "metadata": {
    "collapsed": false
   },
   "outputs": [],
   "source": [
    "X_train_pairs = X_train.reshape(X_train.shape[0],X_train.shape[2]*X_train.shape[3])\n",
    "X_valid_pairs = X_valid.reshape(X_valid.shape[0],X_valid.shape[2]*X_valid.shape[3])\n",
    "X_test_pairs = X_test.reshape(X_test.shape[0],X_test.shape[2]*X_test.shape[3])"
   ]
  },
  {
   "cell_type": "code",
   "execution_count": 5,
   "metadata": {
    "collapsed": false
   },
   "outputs": [
    {
     "data": {
      "text/plain": [
       "((6710, 5760), (988, 5760), (1796, 5760))"
      ]
     },
     "execution_count": 5,
     "metadata": {},
     "output_type": "execute_result"
    }
   ],
   "source": [
    "X_train_pairs.shape, X_test_pairs.shape, X_valid_pairs.shape"
   ]
  },
  {
   "cell_type": "code",
   "execution_count": 6,
   "metadata": {
    "collapsed": false
   },
   "outputs": [],
   "source": [
    "X_train_normalized, X_valid_normalized, X_test_normalized = normalize_features_sampl_by_f(X_train_pairs, X_valid_pairs, X_test_pairs)"
   ]
  },
  {
   "cell_type": "code",
   "execution_count": 14,
   "metadata": {
    "collapsed": false
   },
   "outputs": [
    {
     "name": "stdout",
     "output_type": "stream",
     "text": [
      "Training model...\n",
      "Train on 6710 samples, validate on 1796 samples\n",
      "Epoch 1/100\n",
      "6500/6710 [============================>.] - ETA: 0s - loss: 1.3414Epoch 0: validation loss: 0.705\n",
      "Balanced Accuracy: 59.30%\tauROC: 0.630\t auPRC: 0.594\n",
      "Positve Accuracy: 0.11%\t Negative Accuracy: 59.24%\n",
      "Recall at 5% | 10% | 25% | 50% FDR: 59.4% | 0.1% | 0.1% | 99.8%\tNum Positives: 898\t Num Negatives: 898\n",
      "\n",
      "\n",
      "6710/6710 [==============================] - 10s - loss: 1.3352 - val_loss: 0.7055\n",
      "Epoch 2/100\n",
      "6500/6710 [============================>.] - ETA: 0s - loss: 0.8817Epoch 1: validation loss: 0.679\n",
      "Balanced Accuracy: 61.86%\tauROC: 0.662\t auPRC: 0.638\n",
      "Positve Accuracy: 0.45%\t Negative Accuracy: 61.47%\n",
      "Recall at 5% | 10% | 25% | 50% FDR: 62.2% | 0.4% | 4.8% | 99.7%\tNum Positives: 898\t Num Negatives: 898\n",
      "\n",
      "\n",
      "6710/6710 [==============================] - 9s - loss: 0.8794 - val_loss: 0.6791\n",
      "Epoch 3/100\n",
      "6500/6710 [============================>.] - ETA: 0s - loss: 0.6679Epoch 2: validation loss: 0.652\n",
      "Balanced Accuracy: 63.20%\tauROC: 0.683\t auPRC: 0.656\n",
      "Positve Accuracy: 0.33%\t Negative Accuracy: 64.48%\n",
      "Recall at 5% | 10% | 25% | 50% FDR: 61.9% | 0.3% | 4.5% | 100.0%\tNum Positives: 898\t Num Negatives: 898\n",
      "\n",
      "\n",
      "6710/6710 [==============================] - 8s - loss: 0.6665 - val_loss: 0.6523\n",
      "Epoch 4/100\n",
      "6500/6710 [============================>.] - ETA: 0s - loss: 0.5151Epoch 3: validation loss: 0.648\n",
      "Balanced Accuracy: 63.31%\tauROC: 0.689\t auPRC: 0.668\n",
      "Positve Accuracy: 0.33%\t Negative Accuracy: 65.48%\n",
      "Recall at 5% | 10% | 25% | 50% FDR: 61.1% | 0.3% | 23.8% | 100.0%\tNum Positives: 898\t Num Negatives: 898\n",
      "\n",
      "\n",
      "6710/6710 [==============================] - 9s - loss: 0.5141 - val_loss: 0.6483\n",
      "Epoch 5/100\n",
      "6500/6710 [============================>.] - ETA: 0s - loss: 0.4020Epoch 4: validation loss: 0.638\n",
      "Balanced Accuracy: 63.47%\tauROC: 0.704\t auPRC: 0.682\n",
      "Positve Accuracy: 0.33%\t Negative Accuracy: 65.92%\n",
      "Recall at 5% | 10% | 25% | 50% FDR: 61.0% | 0.3% | 27.3% | 100.0%\tNum Positives: 898\t Num Negatives: 898\n",
      "\n",
      "\n",
      "6710/6710 [==============================] - 8s - loss: 0.4017 - val_loss: 0.6380\n",
      "Epoch 6/100\n",
      "6500/6710 [============================>.] - ETA: 0s - loss: 0.3116Epoch 5: validation loss: 0.638\n",
      "Balanced Accuracy: 64.70%\tauROC: 0.710\t auPRC: 0.688\n",
      "Positve Accuracy: 0.56%\t Negative Accuracy: 67.82%\n",
      "Recall at 5% | 10% | 25% | 50% FDR: 61.6% | 0.6% | 28.0% | 100.0%\tNum Positives: 898\t Num Negatives: 898\n",
      "\n",
      "\n",
      "6710/6710 [==============================] - 8s - loss: 0.3117 - val_loss: 0.6381\n",
      "Epoch 7/100\n",
      "6500/6710 [============================>.] - ETA: 0s - loss: 0.2492Epoch 6: validation loss: 0.640\n",
      "Balanced Accuracy: 65.31%\tauROC: 0.716\t auPRC: 0.693\n",
      "Positve Accuracy: 0.45%\t Negative Accuracy: 68.37%\n",
      "Recall at 5% | 10% | 25% | 50% FDR: 62.2% | 0.4% | 34.7% | 100.0%\tNum Positives: 898\t Num Negatives: 898\n",
      "\n",
      "\n",
      "6710/6710 [==============================] - 8s - loss: 0.2491 - val_loss: 0.6403\n",
      "Epoch 8/100\n",
      "6500/6710 [============================>.] - ETA: 0s - loss: 0.2000Epoch 7: validation loss: 0.644\n",
      "Balanced Accuracy: 65.92%\tauROC: 0.720\t auPRC: 0.695\n",
      "Positve Accuracy: 0.56%\t Negative Accuracy: 69.60%\n",
      "Recall at 5% | 10% | 25% | 50% FDR: 62.2% | 0.6% | 34.5% | 100.0%\tNum Positives: 898\t Num Negatives: 898\n",
      "\n",
      "\n",
      "6710/6710 [==============================] - 9s - loss: 0.2005 - val_loss: 0.6438\n",
      "Epoch 9/100\n",
      "6500/6710 [============================>.] - ETA: 0s - loss: 0.1643Epoch 8: validation loss: 0.652\n",
      "Balanced Accuracy: 65.70%\tauROC: 0.718\t auPRC: 0.692\n",
      "Positve Accuracy: 0.56%\t Negative Accuracy: 69.71%\n",
      "Recall at 5% | 10% | 25% | 50% FDR: 61.7% | 0.6% | 34.6% | 100.0%\tNum Positives: 898\t Num Negatives: 898\n",
      "\n",
      "\n",
      "6710/6710 [==============================] - 8s - loss: 0.1640 - val_loss: 0.6515\n",
      "Epoch 10/100\n",
      "6500/6710 [============================>.] - ETA: 0s - loss: 0.1360Epoch 9: validation loss: 0.662\n",
      "Balanced Accuracy: 66.20%\tauROC: 0.720\t auPRC: 0.693\n",
      "Positve Accuracy: 0.56%\t Negative Accuracy: 70.38%\n",
      "Recall at 5% | 10% | 25% | 50% FDR: 62.0% | 0.6% | 33.2% | 100.0%\tNum Positives: 898\t Num Negatives: 898\n",
      "\n",
      "\n",
      "6710/6710 [==============================] - 9s - loss: 0.1350 - val_loss: 0.6622\n",
      "Epoch 11/100\n",
      "6500/6710 [============================>.] - ETA: 0s - loss: 0.1145Epoch 10: validation loss: 0.670\n",
      "Balanced Accuracy: 66.15%\tauROC: 0.724\t auPRC: 0.697\n",
      "Positve Accuracy: 0.56%\t Negative Accuracy: 70.38%\n",
      "Recall at 5% | 10% | 25% | 50% FDR: 61.9% | 0.6% | 32.9% | 100.0%\tNum Positives: 898\t Num Negatives: 898\n",
      "\n",
      "\n",
      "6710/6710 [==============================] - 8s - loss: 0.1143 - val_loss: 0.6705\n",
      "Epoch 12/100\n",
      "6500/6710 [============================>.] - ETA: 0s - loss: 0.0979Epoch 11: validation loss: 0.679\n",
      "Balanced Accuracy: 66.31%\tauROC: 0.727\t auPRC: 0.698\n",
      "Positve Accuracy: 0.56%\t Negative Accuracy: 70.94%\n",
      "Recall at 5% | 10% | 25% | 50% FDR: 61.7% | 0.6% | 35.4% | 100.0%\tNum Positives: 898\t Num Negatives: 898\n",
      "\n",
      "\n",
      "6710/6710 [==============================] - 9s - loss: 0.0986 - val_loss: 0.6791\n",
      "Epoch 13/100\n",
      "6500/6710 [============================>.] - ETA: 0s - loss: 0.0816Epoch 12: validation loss: 0.692\n",
      "Balanced Accuracy: 66.70%\tauROC: 0.726\t auPRC: 0.697\n",
      "Positve Accuracy: 0.56%\t Negative Accuracy: 71.38%\n",
      "Recall at 5% | 10% | 25% | 50% FDR: 62.0% | 0.6% | 33.2% | 100.0%\tNum Positives: 898\t Num Negatives: 898\n",
      "\n",
      "\n",
      "6710/6710 [==============================] - 8s - loss: 0.0816 - val_loss: 0.6925\n",
      "Epoch 14/100\n",
      "6500/6710 [============================>.] - ETA: 0s - loss: 0.0703Epoch 13: validation loss: 0.710\n",
      "Balanced Accuracy: 66.37%\tauROC: 0.725\t auPRC: 0.695\n",
      "Positve Accuracy: 0.56%\t Negative Accuracy: 70.60%\n",
      "Recall at 5% | 10% | 25% | 50% FDR: 62.1% | 0.6% | 32.3% | 100.0%\tNum Positives: 898\t Num Negatives: 898\n",
      "\n",
      "\n",
      "6710/6710 [==============================] - 8s - loss: 0.0704 - val_loss: 0.7104\n",
      "Epoch 15/100\n",
      "6500/6710 [============================>.] - ETA: 0s - loss: 0.0637Epoch 14: validation loss: 0.724\n",
      "Balanced Accuracy: 66.26%\tauROC: 0.721\t auPRC: 0.690\n",
      "Positve Accuracy: 0.56%\t Negative Accuracy: 71.16%\n",
      "Recall at 5% | 10% | 25% | 50% FDR: 61.4% | 0.6% | 32.7% | 100.0%\tNum Positives: 898\t Num Negatives: 898\n",
      "\n",
      "\n",
      "6710/6710 [==============================] - 8s - loss: 0.0637 - val_loss: 0.7238\n",
      "Epoch 16/100\n",
      "6500/6710 [============================>.] - ETA: 0s - loss: 0.0548Epoch 15: validation loss: 0.737\n",
      "Balanced Accuracy: 66.54%\tauROC: 0.724\t auPRC: 0.692\n",
      "Positve Accuracy: 0.56%\t Negative Accuracy: 71.49%\n",
      "Recall at 5% | 10% | 25% | 50% FDR: 61.6% | 0.6% | 31.0% | 100.0%\tNum Positives: 898\t Num Negatives: 898\n",
      "\n",
      "\n",
      "6710/6710 [==============================] - 9s - loss: 0.0549 - val_loss: 0.7370\n",
      "Epoch 17/100\n",
      "6500/6710 [============================>.] - ETA: 0s - loss: 0.0502Epoch 16: validation loss: 0.747\n",
      "Balanced Accuracy: 66.76%\tauROC: 0.727\t auPRC: 0.696\n",
      "Positve Accuracy: 0.67%\t Negative Accuracy: 72.49%\n",
      "Recall at 5% | 10% | 25% | 50% FDR: 61.0% | 0.7% | 33.6% | 100.0%\tNum Positives: 898\t Num Negatives: 898\n",
      "\n",
      "\n",
      "6710/6710 [==============================] - 9s - loss: 0.0502 - val_loss: 0.7467\n",
      "Epoch 18/100\n",
      "6500/6710 [============================>.] - ETA: 0s - loss: 0.0442Epoch 17: validation loss: 0.760\n",
      "Balanced Accuracy: 66.93%\tauROC: 0.728\t auPRC: 0.696\n",
      "Positve Accuracy: 0.56%\t Negative Accuracy: 72.05%\n",
      "Recall at 5% | 10% | 25% | 50% FDR: 61.8% | 0.6% | 34.0% | 100.0%\tNum Positives: 898\t Num Negatives: 898\n",
      "\n",
      "\n",
      "6710/6710 [==============================] - 9s - loss: 0.0441 - val_loss: 0.7597\n",
      "Epoch 19/100\n",
      "6500/6710 [============================>.] - ETA: 0s - loss: 0.0402Epoch 18: validation loss: 0.765\n",
      "Balanced Accuracy: 66.82%\tauROC: 0.730\t auPRC: 0.698\n",
      "Positve Accuracy: 0.56%\t Negative Accuracy: 72.27%\n",
      "Recall at 5% | 10% | 25% | 50% FDR: 61.4% | 0.6% | 32.7% | 100.0%\tNum Positives: 898\t Num Negatives: 898\n",
      "\n",
      "\n",
      "6710/6710 [==============================] - 9s - loss: 0.0401 - val_loss: 0.7651\n",
      "Epoch 20/100\n",
      "6500/6710 [============================>.] - ETA: 0s - loss: 0.0366Epoch 19: validation loss: 0.778\n",
      "Balanced Accuracy: 66.65%\tauROC: 0.727\t auPRC: 0.694\n",
      "Positve Accuracy: 0.56%\t Negative Accuracy: 71.94%\n",
      "Recall at 5% | 10% | 25% | 50% FDR: 61.4% | 0.6% | 31.5% | 100.0%\tNum Positives: 898\t Num Negatives: 898\n",
      "\n",
      "\n",
      "6710/6710 [==============================] - 8s - loss: 0.0366 - val_loss: 0.7775\n",
      "Epoch 21/100\n",
      "6500/6710 [============================>.] - ETA: 0s - loss: 0.0333Epoch 20: validation loss: 0.787\n",
      "Balanced Accuracy: 66.70%\tauROC: 0.729\t auPRC: 0.697\n",
      "Positve Accuracy: 0.56%\t Negative Accuracy: 72.38%\n",
      "Recall at 5% | 10% | 25% | 50% FDR: 61.0% | 0.6% | 33.2% | 100.0%\tNum Positives: 898\t Num Negatives: 898\n",
      "\n",
      "\n",
      "6710/6710 [==============================] - 8s - loss: 0.0333 - val_loss: 0.7869\n",
      "Epoch 22/100\n",
      "6500/6710 [============================>.] - ETA: 0s - loss: 0.0299Epoch 21: validation loss: 0.798\n",
      "Balanced Accuracy: 66.93%\tauROC: 0.727\t auPRC: 0.695\n",
      "Positve Accuracy: 0.67%\t Negative Accuracy: 72.27%\n",
      "Recall at 5% | 10% | 25% | 50% FDR: 61.6% | 0.7% | 32.1% | 100.0%\tNum Positives: 898\t Num Negatives: 898\n",
      "\n",
      "\n",
      "6710/6710 [==============================] - 9s - loss: 0.0299 - val_loss: 0.7984\n",
      "Epoch 23/100\n",
      "6500/6710 [============================>.] - ETA: 0s - loss: 0.0277Epoch 22: validation loss: 0.814\n",
      "Balanced Accuracy: 66.59%\tauROC: 0.725\t auPRC: 0.694\n",
      "Positve Accuracy: 0.67%\t Negative Accuracy: 72.05%\n",
      "Recall at 5% | 10% | 25% | 50% FDR: 61.1% | 0.7% | 32.4% | 100.0%\tNum Positives: 898\t Num Negatives: 898\n",
      "\n",
      "\n",
      "6710/6710 [==============================] - 9s - loss: 0.0276 - val_loss: 0.8135\n",
      "Epoch 24/100\n",
      "6500/6710 [============================>.] - ETA: 0s - loss: 0.0262Epoch 23: validation loss: 0.819\n",
      "Balanced Accuracy: 66.70%\tauROC: 0.727\t auPRC: 0.694\n",
      "Positve Accuracy: 0.67%\t Negative Accuracy: 72.61%\n",
      "Recall at 5% | 10% | 25% | 50% FDR: 60.8% | 0.7% | 32.9% | 100.0%\tNum Positives: 898\t Num Negatives: 898\n",
      "\n",
      "\n",
      "6710/6710 [==============================] - 9s - loss: 0.0262 - val_loss: 0.8193\n",
      "Epoch 25/100\n",
      "6500/6710 [============================>.] - ETA: 0s - loss: 0.0233Epoch 24: validation loss: 0.822\n",
      "Balanced Accuracy: 66.93%\tauROC: 0.730\t auPRC: 0.699\n",
      "Positve Accuracy: 0.56%\t Negative Accuracy: 72.72%\n",
      "Recall at 5% | 10% | 25% | 50% FDR: 61.1% | 0.6% | 33.1% | 100.0%\tNum Positives: 898\t Num Negatives: 898\n",
      "\n",
      "\n",
      "6710/6710 [==============================] - 8s - loss: 0.0234 - val_loss: 0.8215\n",
      "Epoch 26/100\n",
      "6500/6710 [============================>.] - ETA: 0s - loss: 0.0223Epoch 25: validation loss: 0.832\n",
      "Balanced Accuracy: 66.82%\tauROC: 0.728\t auPRC: 0.697\n",
      "Positve Accuracy: 0.67%\t Negative Accuracy: 72.72%\n",
      "Recall at 5% | 10% | 25% | 50% FDR: 60.9% | 0.7% | 32.5% | 100.0%\tNum Positives: 898\t Num Negatives: 898\n",
      "\n",
      "\n",
      "6710/6710 [==============================] - 8s - loss: 0.0223 - val_loss: 0.8325\n"
     ]
    }
   ],
   "source": [
    "dnn_normalized = Genome3D_DNN_FC_ResNet(num_features=5760, use_deep_CNN=False)\n",
    "validation_data = (X_valid_normalized, y_valid)\n",
    "dnn_normalized.train(X_train_normalized, y_train, validation_data)"
   ]
  },
  {
   "cell_type": "code",
   "execution_count": 15,
   "metadata": {
    "collapsed": false
   },
   "outputs": [
    {
     "name": "stdout",
     "output_type": "stream",
     "text": [
      "Balanced Accuracy: 64.27%\tauROC: 0.709\t auPRC: 0.694\n",
      "Positve Accuracy: 0.00%\t Negative Accuracy: 72.67%\n",
      "Recall at 5% | 10% | 25% | 50% FDR: 55.9% | 3.2% | 27.9% | 100.0%\tNum Positives: 494\t Num Negatives: 494\n",
      "\n",
      "Balanced Accuracy: 100.00%\tauROC: 1.000\t auPRC: 1.000\n",
      "Positve Accuracy: 100.00%\t Negative Accuracy: 100.00%\n",
      "Recall at 5% | 10% | 25% | 50% FDR: 100.0% | 100.0% | 100.0% | 100.0%\tNum Positives: 3355\t Num Negatives: 3355\n",
      "\n",
      "Balanced Accuracy: 66.82%\tauROC: 0.728\t auPRC: 0.697\n",
      "Positve Accuracy: 0.67%\t Negative Accuracy: 72.72%\n",
      "Recall at 5% | 10% | 25% | 50% FDR: 60.9% | 0.7% | 32.5% | 100.0%\tNum Positives: 898\t Num Negatives: 898\n",
      "\n"
     ]
    }
   ],
   "source": [
    "print(dnn_normalized.test(X_test_normalized, y_test))\n",
    "print(dnn_normalized.test(X_train_normalized, y_train))\n",
    "print(dnn_normalized.test(X_valid_normalized, y_valid))"
   ]
  },
  {
   "cell_type": "code",
   "execution_count": 17,
   "metadata": {
    "collapsed": true
   },
   "outputs": [],
   "source": [
    "dnn_normalized.save(contacts+'_dnn_FC_ResNet_seq_features_nodes_and_edges_'+'thres_'+thres, '/users/mtaranov/genome3D/')"
   ]
  },
  {
   "cell_type": "code",
   "execution_count": null,
   "metadata": {
    "collapsed": true
   },
   "outputs": [],
   "source": []
  }
 ],
 "metadata": {
  "anaconda-cloud": {},
  "kernelspec": {
   "display_name": "Python [default]",
   "language": "python",
   "name": "python2"
  },
  "language_info": {
   "codemirror_mode": {
    "name": "ipython",
    "version": 2
   },
   "file_extension": ".py",
   "mimetype": "text/x-python",
   "name": "python",
   "nbconvert_exporter": "python",
   "pygments_lexer": "ipython2",
   "version": "2.7.12"
  }
 },
 "nbformat": 4,
 "nbformat_minor": 0
}
