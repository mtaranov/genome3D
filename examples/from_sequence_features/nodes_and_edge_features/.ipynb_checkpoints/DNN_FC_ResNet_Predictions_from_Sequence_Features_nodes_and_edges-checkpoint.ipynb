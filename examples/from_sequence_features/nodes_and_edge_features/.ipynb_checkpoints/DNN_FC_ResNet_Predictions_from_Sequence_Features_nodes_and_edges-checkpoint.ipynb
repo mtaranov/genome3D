{
 "cells": [
  {
   "cell_type": "code",
   "execution_count": 1,
   "metadata": {
    "collapsed": false
   },
   "outputs": [
    {
     "name": "stderr",
     "output_type": "stream",
     "text": [
      "Using Theano backend.\n",
      "WARNING (theano.sandbox.cuda): The cuda backend is deprecated and will be removed in the next release (v0.10).  Please switch to the gpuarray backend. You can get more information about how to switch at this URL:\n",
      " https://github.com/Theano/Theano/wiki/Converting-to-the-new-gpu-back-end%28gpuarray%29\n",
      "\n",
      "Using gpu device 1: GeForce GTX TITAN X (CNMeM is disabled, cuDNN 5005)\n"
     ]
    }
   ],
   "source": [
    "%matplotlib inline\n",
    "%load_ext autoreload\n",
    "%autoreload 2\n",
    "\n",
    "import sys\n",
    "import numpy as np\n",
    "import matplotlib.pyplot as plt\n",
    "from sklearn.preprocessing import MinMaxScaler, StandardScaler\n",
    "import copy\n",
    "sys.path.append('/users/mtaranov/genome3D/')\n",
    "from models_3d import Genome3D_DNN_FC_ResNet\n",
    "from utils import normalize_features_sampl_by_f, concat_motifs,get_features, get_labels, subsample_data, normalize_features, reconstruct_2d, printMatrix, binarize, zscore, get_2D, plot_prediction, change_scale \n"
   ]
  },
  {
   "cell_type": "code",
   "execution_count": 2,
   "metadata": {
    "collapsed": false
   },
   "outputs": [],
   "source": [
    "contacts='pe'\n",
    "path='/users/mtaranov/datasets_3d/by_chr_dist_matched_'+contacts+'/'\n",
    "day='d0'\n",
    "thres='10'\n",
    "\n",
    "X_train_node1 = path+'motifs/'+day+'_thres_'+thres+'_train_'+contacts+'_out_node1_3_0.0001/mat.npy'\n",
    "X_train_node2 = path+'motifs/'+day+'_thres_'+thres+'_train_'+contacts+'_out_node2_3_0.0001/mat.npy'\n",
    "X_train_window = path+'motifs/'+day+'_thres_'+thres+'_train_'+contacts+'_out_btw_nodes_3_0.0001/mat.npy'\n",
    "\n",
    "\n",
    "X_test_node1 = path+'motifs/'+day+'_thres_'+thres+'_test_'+contacts+'_out_node1_3_0.0001/mat.npy'\n",
    "X_test_node2 = path+'motifs/'+day+'_thres_'+thres+'_test_'+contacts+'_out_node2_3_0.0001/mat.npy'\n",
    "X_test_window =path+'motifs/'+day+'_thres_'+thres+'_test_'+contacts+'_out_btw_nodes_3_0.0001/mat.npy'\n",
    "\n",
    "X_valid_node1 = path+'motifs/'+day+'_thres_'+thres+'_valid_'+contacts+'_out_node1_3_0.0001/mat.npy'\n",
    "X_valid_node2 = path+'motifs/'+day+'_thres_'+thres+'_valid_'+contacts+'_out_node2_3_0.0001/mat.npy'\n",
    "X_valid_window = path+'motifs/'+day+'_thres_'+thres+'_valid_'+contacts+'_out_btw_nodes_3_0.0001/mat.npy'\n",
    "\n",
    "y_train = get_labels(path+day+'_y_train_thres_'+thres+'.npy')\n",
    "y_test = get_labels(path+day+'_y_test_thres_'+thres+'.npy')\n",
    "y_valid = get_labels(path+day+'_y_valid_thres_'+thres+'.npy')\n",
    "\n",
    "X_train=concat_motifs([X_train_node1, X_train_node2, X_train_window])\n",
    "X_test=concat_motifs([X_test_node1, X_test_node2, X_test_window])\n",
    "X_valid=concat_motifs([X_valid_node1, X_valid_node2, X_valid_window])"
   ]
  },
  {
   "cell_type": "code",
   "execution_count": 3,
   "metadata": {
    "collapsed": false
   },
   "outputs": [
    {
     "data": {
      "text/plain": [
       "((6710, 1, 1920, 3), (988, 1, 1920, 3), (1796, 1, 1920, 3))"
      ]
     },
     "execution_count": 3,
     "metadata": {},
     "output_type": "execute_result"
    }
   ],
   "source": [
    "X_train.shape, X_test.shape, X_valid.shape"
   ]
  },
  {
   "cell_type": "code",
   "execution_count": 4,
   "metadata": {
    "collapsed": false
   },
   "outputs": [],
   "source": [
    "X_train_pairs = X_train.reshape(X_train.shape[0],X_train.shape[2]*X_train.shape[3])\n",
    "X_valid_pairs = X_valid.reshape(X_valid.shape[0],X_valid.shape[2]*X_valid.shape[3])\n",
    "X_test_pairs = X_test.reshape(X_test.shape[0],X_test.shape[2]*X_test.shape[3])"
   ]
  },
  {
   "cell_type": "code",
   "execution_count": 5,
   "metadata": {
    "collapsed": false
   },
   "outputs": [
    {
     "data": {
      "text/plain": [
       "((6710, 5760), (988, 5760), (1796, 5760))"
      ]
     },
     "execution_count": 5,
     "metadata": {},
     "output_type": "execute_result"
    }
   ],
   "source": [
    "X_train_pairs.shape, X_test_pairs.shape, X_valid_pairs.shape"
   ]
  },
  {
   "cell_type": "code",
   "execution_count": 6,
   "metadata": {
    "collapsed": false
   },
   "outputs": [],
   "source": [
    "X_train_normalized, X_valid_normalized, X_test_normalized = normalize_features_sampl_by_f(X_train_pairs, X_valid_pairs, X_test_pairs)"
   ]
  },
  {
   "cell_type": "code",
   "execution_count": 7,
   "metadata": {
    "collapsed": false
   },
   "outputs": [
    {
     "data": {
      "text/plain": [
       "(6710, 5760)"
      ]
     },
     "execution_count": 7,
     "metadata": {},
     "output_type": "execute_result"
    }
   ],
   "source": [
    "X_train_normalized.shape"
   ]
  },
  {
   "cell_type": "code",
   "execution_count": 12,
   "metadata": {
    "collapsed": false
   },
   "outputs": [
    {
     "name": "stdout",
     "output_type": "stream",
     "text": [
      "Training model...\n",
      "Train on 6710 samples, validate on 1796 samples\n",
      "Epoch 1/100\n",
      "6500/6710 [============================>.] - ETA: 0s - loss: 1.0870Epoch 0: validation loss: 0.693\n",
      "Balanced Accuracy: 63.42%\t auROC: 0.682\t auPRC: 0.682\t auPRG: 0.364\n",
      "Recall at 5%|10%|20% FDR: 0.8%|4.3%|14.1%\t Num Positives: 898\t Num Negatives: 898\t \n",
      "\n",
      "6710/6710 [==============================] - 7s - loss: 1.0775 - val_loss: 0.6933\n",
      "Epoch 2/100\n",
      "6500/6710 [============================>.] - ETA: 0s - loss: 0.3410Epoch 1: validation loss: 0.642\n",
      "Balanced Accuracy: 64.59%\t auROC: 0.719\t auPRC: 0.717\t auPRG: 0.435\n",
      "Recall at 5%|10%|20% FDR: 0.4%|4.2%|24.3%\t Num Positives: 898\t Num Negatives: 898\t \n",
      "\n",
      "6710/6710 [==============================] - 5s - loss: 0.3384 - val_loss: 0.6415\n",
      "Epoch 3/100\n",
      "6500/6710 [============================>.] - ETA: 0s - loss: 0.1661Epoch 2: validation loss: 0.623\n",
      "Balanced Accuracy: 66.20%\t auROC: 0.733\t auPRC: 0.733\t auPRG: 0.468\n",
      "Recall at 5%|10%|20% FDR: 1.0%|10.6%|28.3%\t Num Positives: 898\t Num Negatives: 898\t \n",
      "\n",
      "6710/6710 [==============================] - 5s - loss: 0.1657 - val_loss: 0.6232\n",
      "Epoch 4/100\n",
      "6500/6710 [============================>.] - ETA: 0s - loss: 0.1020Epoch 3: validation loss: 0.620\n",
      "Balanced Accuracy: 66.37%\t auROC: 0.740\t auPRC: 0.740\t auPRG: 0.489\n",
      "Recall at 5%|10%|20% FDR: 0.4%|13.9%|30.7%\t Num Positives: 898\t Num Negatives: 898\t \n",
      "\n",
      "6710/6710 [==============================] - 5s - loss: 0.1017 - val_loss: 0.6203\n",
      "Epoch 5/100\n",
      "6500/6710 [============================>.] - ETA: 0s - loss: 0.0703Epoch 4: validation loss: 0.625\n",
      "Balanced Accuracy: 66.70%\t auROC: 0.742\t auPRC: 0.743\t auPRG: 0.492\n",
      "Recall at 5%|10%|20% FDR: 4.3%|13.8%|33.2%\t Num Positives: 898\t Num Negatives: 898\t \n",
      "\n",
      "6710/6710 [==============================] - 5s - loss: 0.0701 - val_loss: 0.6253\n",
      "Epoch 6/100\n",
      "6500/6710 [============================>.] - ETA: 0s - loss: 0.0505Epoch 5: validation loss: 0.631\n",
      "Balanced Accuracy: 67.09%\t auROC: 0.744\t auPRC: 0.744\t auPRG: 0.499\n",
      "Recall at 5%|10%|20% FDR: 3.1%|13.6%|33.0%\t Num Positives: 898\t Num Negatives: 898\t \n",
      "\n",
      "6710/6710 [==============================] - 5s - loss: 0.0507 - val_loss: 0.6308\n",
      "Epoch 7/100\n",
      "6500/6710 [============================>.] - ETA: 0s - loss: 0.0383Epoch 6: validation loss: 0.634\n",
      "Balanced Accuracy: 67.43%\t auROC: 0.746\t auPRC: 0.748\t auPRG: 0.499\n",
      "Recall at 5%|10%|20% FDR: 4.1%|13.0%|34.4%\t Num Positives: 898\t Num Negatives: 898\t \n",
      "\n",
      "6710/6710 [==============================] - 5s - loss: 0.0382 - val_loss: 0.6345\n",
      "Epoch 8/100\n",
      "6500/6710 [============================>.] - ETA: 0s - loss: 0.0308Epoch 7: validation loss: 0.641\n",
      "Balanced Accuracy: 67.26%\t auROC: 0.748\t auPRC: 0.748\t auPRG: 0.505\n",
      "Recall at 5%|10%|20% FDR: 3.1%|11.6%|37.2%\t Num Positives: 898\t Num Negatives: 898\t \n",
      "\n",
      "6710/6710 [==============================] - 5s - loss: 0.0308 - val_loss: 0.6410\n",
      "Epoch 9/100\n",
      "6500/6710 [============================>.] - ETA: 0s - loss: 0.0258Epoch 8: validation loss: 0.651\n",
      "Balanced Accuracy: 67.93%\t auROC: 0.748\t auPRC: 0.749\t auPRG: 0.506\n",
      "Recall at 5%|10%|20% FDR: 3.1%|11.7%|39.1%\t Num Positives: 898\t Num Negatives: 898\t \n",
      "\n",
      "6710/6710 [==============================] - 5s - loss: 0.0256 - val_loss: 0.6512\n",
      "Epoch 10/100\n",
      "6500/6710 [============================>.] - ETA: 0s - loss: 0.0207Epoch 9: validation loss: 0.662\n",
      "Balanced Accuracy: 67.48%\t auROC: 0.751\t auPRC: 0.752\t auPRG: 0.512\n",
      "Recall at 5%|10%|20% FDR: 4.5%|10.8%|39.5%\t Num Positives: 898\t Num Negatives: 898\t \n",
      "\n",
      "6710/6710 [==============================] - 5s - loss: 0.0207 - val_loss: 0.6624\n"
     ]
    }
   ],
   "source": [
    "from models_motif_exp import LongRangeDNN_FC_ResNet\n",
    "dnn_normalized = LongRangeDNN_FC_ResNet(num_features=5760, use_deep_CNN=True)\n",
    "validation_data = (X_valid_normalized, y_valid)\n",
    "dnn_normalized.train(X_train_normalized, y_train, validation_data)"
   ]
  },
  {
   "cell_type": "code",
   "execution_count": 13,
   "metadata": {
    "collapsed": false
   },
   "outputs": [
    {
     "name": "stdout",
     "output_type": "stream",
     "text": [
      "Balanced Accuracy: 65.99%\t auROC: 0.715\t auPRC: 0.699\t auPRG: 0.448\n",
      "Recall at 5%|10%|20% FDR: 2.4%|2.4%|12.3%\t Num Positives: 494\t Num Negatives: 494\t \n",
      "Balanced Accuracy: 100.00%\t auROC: 1.000\t auPRC: 1.000\t auPRG: 1.000\n",
      "Recall at 5%|10%|20% FDR: 100.0%|100.0%|100.0%\t Num Positives: 3355\t Num Negatives: 3355\t \n",
      "Balanced Accuracy: 67.48%\t auROC: 0.751\t auPRC: 0.752\t auPRG: 0.512\n",
      "Recall at 5%|10%|20% FDR: 4.5%|10.8%|39.5%\t Num Positives: 898\t Num Negatives: 898\t \n"
     ]
    }
   ],
   "source": [
    "print(dnn_normalized.test(X_test_normalized, y_test))\n",
    "print(dnn_normalized.test(X_train_normalized, y_train))\n",
    "print(dnn_normalized.test(X_valid_normalized, y_valid))"
   ]
  },
  {
   "cell_type": "code",
   "execution_count": null,
   "metadata": {
    "collapsed": true
   },
   "outputs": [],
   "source": []
  }
 ],
 "metadata": {
  "anaconda-cloud": {},
  "kernelspec": {
   "display_name": "Python [default]",
   "language": "python",
   "name": "python2"
  },
  "language_info": {
   "codemirror_mode": {
    "name": "ipython",
    "version": 2
   },
   "file_extension": ".py",
   "mimetype": "text/x-python",
   "name": "python",
   "nbconvert_exporter": "python",
   "pygments_lexer": "ipython2",
   "version": "2.7.12"
  }
 },
 "nbformat": 4,
 "nbformat_minor": 0
}
