{
 "cells": [
  {
   "cell_type": "code",
   "execution_count": 1,
   "metadata": {
    "collapsed": false
   },
   "outputs": [
    {
     "name": "stderr",
     "output_type": "stream",
     "text": [
      "Using Theano backend.\n",
      "WARNING (theano.sandbox.cuda): The cuda backend is deprecated and will be removed in the next release (v0.10).  Please switch to the gpuarray backend. You can get more information about how to switch at this URL:\n",
      " https://github.com/Theano/Theano/wiki/Converting-to-the-new-gpu-back-end%28gpuarray%29\n",
      "\n",
      "Using gpu device 1: GeForce GTX TITAN X (CNMeM is disabled, cuDNN 5005)\n"
     ]
    }
   ],
   "source": [
    "%matplotlib inline\n",
    "%load_ext autoreload\n",
    "%autoreload 2\n",
    "\n",
    "import sys\n",
    "import numpy as np\n",
    "import matplotlib.pyplot as plt\n",
    "import pickle\n",
    "from sklearn.preprocessing import MinMaxScaler, StandardScaler\n",
    "sys.path.append('/users/mtaranov/genome3D/')\n",
    "from models_3d import Genome3D_DNN_FC\n",
    "from utils import normalize_features_sampl_by_f, concat_motifs, get_features, get_labels, subsample_data, normalize_features, reconstruct_2d, printMatrix, binarize, zscore, get_2D, plot_prediction, change_scale\n",
    "#from sklearn.preprocessing import MinMaxScaler, StandardScaler"
   ]
  },
  {
   "cell_type": "code",
   "execution_count": 2,
   "metadata": {
    "collapsed": false
   },
   "outputs": [],
   "source": [
    "contacts='pe'\n",
    "path='/users/mtaranov/datasets_3d/by_chr_dist_matched_'+contacts+'/'\n",
    "day='d0'\n",
    "thres='10'\n",
    "\n",
    "X_train_node1 = path+'motifs/'+day+'_thres_'+thres+'_train_'+contacts+'_out_node1_3_0.0001/mat.npy'\n",
    "X_train_node2 = path+'motifs/'+day+'_thres_'+thres+'_train_'+contacts+'_out_node2_3_0.0001/mat.npy'\n",
    "X_train_window = path+'motifs/'+day+'_thres_'+thres+'_train_'+contacts+'_out_btw_nodes_3_0.0001/mat.npy'\n",
    "\n",
    "\n",
    "X_test_node1 = path+'motifs/'+day+'_thres_'+thres+'_test_'+contacts+'_out_node1_3_0.0001/mat.npy'\n",
    "X_test_node2 = path+'motifs/'+day+'_thres_'+thres+'_test_'+contacts+'_out_node2_3_0.0001/mat.npy'\n",
    "X_test_window = path+'motifs/'+day+'_thres_'+thres+'_test_'+contacts+'_out_btw_nodes_3_0.0001/mat.npy'\n",
    "\n",
    "X_valid_node1 = path+'motifs/'+day+'_thres_'+thres+'_valid_'+contacts+'_out_node1_3_0.0001/mat.npy'\n",
    "X_valid_node2 = path+'motifs/'+day+'_thres_'+thres+'_valid_'+contacts+'_out_node2_3_0.0001/mat.npy'\n",
    "X_valid_window = path+'motifs/'+day+'_thres_'+thres+'_valid_'+contacts+'_out_btw_nodes_3_0.0001/mat.npy'\n",
    "\n",
    "y_train = get_labels(path+day+'_y_train_thres_'+thres+'.npy')\n",
    "y_test = get_labels(path+day+'_y_test_thres_'+thres+'.npy')\n",
    "y_valid = get_labels(path+day+'_y_valid_thres_'+thres+'.npy')\n",
    "\n",
    "X_train=concat_motifs([X_train_node1, X_train_node2, X_train_window])\n",
    "X_test=concat_motifs([X_test_node1, X_test_node2, X_test_window])\n",
    "X_valid=concat_motifs([X_valid_node1, X_valid_node2, X_valid_window])"
   ]
  },
  {
   "cell_type": "code",
   "execution_count": 3,
   "metadata": {
    "collapsed": false
   },
   "outputs": [],
   "source": [
    "X_train_pairs = X_train.reshape(X_train.shape[0],X_train.shape[2]*X_train.shape[3])\n",
    "X_valid_pairs = X_valid.reshape(X_valid.shape[0],X_valid.shape[2]*X_valid.shape[3])\n",
    "X_test_pairs = X_test.reshape(X_test.shape[0],X_test.shape[2]*X_test.shape[3])"
   ]
  },
  {
   "cell_type": "code",
   "execution_count": 5,
   "metadata": {
    "collapsed": false
   },
   "outputs": [],
   "source": [
    "X_train_normalized, X_valid_normalized, X_test_normalized = normalize_features_sampl_by_f(X_train_pairs, X_valid_pairs, X_test_pairs)"
   ]
  },
  {
   "cell_type": "markdown",
   "metadata": {},
   "source": [
    "# from motifs"
   ]
  },
  {
   "cell_type": "code",
   "execution_count": 4,
   "metadata": {
    "collapsed": false
   },
   "outputs": [
    {
     "ename": "NameError",
     "evalue": "name 'X_valid_normalized' is not defined",
     "output_type": "error",
     "traceback": [
      "\u001b[0;31m---------------------------------------------------------------------------\u001b[0m",
      "\u001b[0;31mNameError\u001b[0m                                 Traceback (most recent call last)",
      "\u001b[0;32m<ipython-input-4-13b119aafeb6>\u001b[0m in \u001b[0;36m<module>\u001b[0;34m()\u001b[0m\n\u001b[1;32m      1\u001b[0m \u001b[0mdnn_normalized\u001b[0m \u001b[0;34m=\u001b[0m \u001b[0mGenome3D_DNN_FC\u001b[0m\u001b[0;34m(\u001b[0m\u001b[0mnum_features\u001b[0m\u001b[0;34m=\u001b[0m\u001b[0;36m5760\u001b[0m\u001b[0;34m,\u001b[0m \u001b[0muse_deep_CNN\u001b[0m\u001b[0;34m=\u001b[0m\u001b[0mTrue\u001b[0m\u001b[0;34m)\u001b[0m\u001b[0;34m\u001b[0m\u001b[0m\n\u001b[0;32m----> 2\u001b[0;31m \u001b[0mvalidation_data\u001b[0m \u001b[0;34m=\u001b[0m \u001b[0;34m(\u001b[0m\u001b[0mX_valid_normalized\u001b[0m\u001b[0;34m,\u001b[0m \u001b[0my_valid\u001b[0m\u001b[0;34m)\u001b[0m\u001b[0;34m\u001b[0m\u001b[0m\n\u001b[0m\u001b[1;32m      3\u001b[0m \u001b[0mdnn_normalized\u001b[0m\u001b[0;34m.\u001b[0m\u001b[0mtrain\u001b[0m\u001b[0;34m(\u001b[0m\u001b[0mX_train_normalized\u001b[0m\u001b[0;34m,\u001b[0m \u001b[0my_train\u001b[0m\u001b[0;34m,\u001b[0m \u001b[0mvalidation_data\u001b[0m\u001b[0;34m)\u001b[0m\u001b[0;34m\u001b[0m\u001b[0m\n",
      "\u001b[0;31mNameError\u001b[0m: name 'X_valid_normalized' is not defined"
     ]
    }
   ],
   "source": [
    "dnn_normalized = Genome3D_DNN_FC(num_features=5760, use_deep_CNN=True)\n",
    "validation_data = (X_valid_normalized, y_valid)\n",
    "dnn_normalized.train(X_train_normalized, y_train, validation_data)"
   ]
  },
  {
   "cell_type": "code",
   "execution_count": 18,
   "metadata": {
    "collapsed": false
   },
   "outputs": [
    {
     "name": "stdout",
     "output_type": "stream",
     "text": [
      "Balanced Accuracy: 66.50%\t auROC: 0.723\t auPRC: 0.704\t auPRG: 0.439\n",
      "Positve Accuracy: 75.51%\t Negative Accuracy: 57.49%\n",
      "Recall at 5%|10%|20% FDR: 0.6%|0.6%|13.4%\t Num Positives: 494\t Num Negatives: 494\t \n",
      "Balanced Accuracy: 100.00%\t auROC: 1.000\t auPRC: 1.000\t auPRG: 1.000\n",
      "Positve Accuracy: 100.00%\t Negative Accuracy: 100.00%\n",
      "Recall at 5%|10%|20% FDR: 100.0%|100.0%|100.0%\t Num Positives: 3355\t Num Negatives: 3355\t \n",
      "Balanced Accuracy: 68.76%\t auROC: 0.764\t auPRC: 0.771\t auPRG: 0.537\n",
      "Positve Accuracy: 73.72%\t Negative Accuracy: 63.81%\n",
      "Recall at 5%|10%|20% FDR: 13.6%|16.4%|46.2%\t Num Positives: 898\t Num Negatives: 898\t \n"
     ]
    }
   ],
   "source": [
    "print(dnn_normalized.test(X_test_normalized, y_test))\n",
    "print(dnn_normalized.test(X_train_normalized, y_train))\n",
    "print(dnn_normalized.test(X_valid_normalized, y_valid))"
   ]
  },
  {
   "cell_type": "code",
   "execution_count": 22,
   "metadata": {
    "collapsed": false
   },
   "outputs": [],
   "source": [
    "preds_train = dnn_normalized.predict(X_train_normalized)"
   ]
  },
  {
   "cell_type": "code",
   "execution_count": 46,
   "metadata": {
    "collapsed": false
   },
   "outputs": [
    {
     "name": "stdout",
     "output_type": "stream",
     "text": [
      " (3355,) 3355\n"
     ]
    }
   ],
   "source": [
    "indx_top_train = np.where(preds_train>0.8)[0]\n",
    "print indx_top_train.shape, indx_top_train.shape[0*3]"
   ]
  },
  {
   "cell_type": "code",
   "execution_count": 25,
   "metadata": {
    "collapsed": false
   },
   "outputs": [
    {
     "data": {
      "text/plain": [
       "(array([  3.35500000e+03,   0.00000000e+00,   0.00000000e+00,\n",
       "          0.00000000e+00,   0.00000000e+00,   0.00000000e+00,\n",
       "          0.00000000e+00,   0.00000000e+00,   1.00000000e+00,\n",
       "          3.35400000e+03]),\n",
       " array([  3.38292843e-08,   1.00000030e-01,   2.00000027e-01,\n",
       "          3.00000024e-01,   4.00000020e-01,   5.00000017e-01,\n",
       "          6.00000014e-01,   7.00000010e-01,   8.00000007e-01,\n",
       "          9.00000003e-01,   1.00000000e+00]),\n",
       " <a list of 10 Patch objects>)"
      ]
     },
     "execution_count": 25,
     "metadata": {},
     "output_type": "execute_result"
    },
    {
     "data": {
      "image/png": "[encoded data removed]",
      "text/plain": [
       "<matplotlib.figure.Figure at 0x7f70cba09150>"
      ]
     },
     "metadata": {},
     "output_type": "display_data"
    }
   ],
   "source": [
    "plt.hist(preds_train)"
   ]
  },
  {
   "cell_type": "code",
   "execution_count": 26,
   "metadata": {
    "collapsed": false
   },
   "outputs": [
    {
     "data": {
      "text/plain": [
       "(array([ 456.,  125.,  103.,   70.,   55.,   71.,   78.,  101.,  157.,  580.]),\n",
       " array([  5.19079435e-07,   1.00000467e-01,   2.00000415e-01,\n",
       "          3.00000363e-01,   4.00000311e-01,   5.00000260e-01,\n",
       "          6.00000208e-01,   7.00000156e-01,   8.00000104e-01,\n",
       "          9.00000052e-01,   1.00000000e+00]),\n",
       " <a list of 10 Patch objects>)"
      ]
     },
     "execution_count": 26,
     "metadata": {},
     "output_type": "execute_result"
    },
    {
     "data": {
      "image/png": "[encoded data removed]",
      "text/plain": [
       "<matplotlib.figure.Figure at 0x7f70cb928ed0>"
      ]
     },
     "metadata": {},
     "output_type": "display_data"
    }
   ],
   "source": [
    "preds_valid = dnn_normalized.predict(X_valid_normalized)\n",
    "plt.hist(preds_valid)"
   ]
  },
  {
   "cell_type": "code",
   "execution_count": 31,
   "metadata": {
    "collapsed": true
   },
   "outputs": [],
   "source": [
    "indx_top_valid = np.where(preds_valid>0.8)[0]"
   ]
  },
  {
   "cell_type": "code",
   "execution_count": 32,
   "metadata": {
    "collapsed": false
   },
   "outputs": [
    {
     "data": {
      "text/plain": [
       "(737,)"
      ]
     },
     "execution_count": 32,
     "metadata": {},
     "output_type": "execute_result"
    }
   ],
   "source": [
    "indx_top_valid .shape"
   ]
  },
  {
   "cell_type": "code",
   "execution_count": 35,
   "metadata": {
    "collapsed": false
   },
   "outputs": [
    {
     "data": {
      "text/plain": [
       "(array([ 216.,   63.,   41.,   43.,   42.,   44.,   49.,   62.,   86.,  342.]),\n",
       " array([  5.97646306e-07,   1.00000538e-01,   2.00000478e-01,\n",
       "          3.00000418e-01,   4.00000359e-01,   5.00000299e-01,\n",
       "          6.00000239e-01,   7.00000179e-01,   8.00000120e-01,\n",
       "          9.00000060e-01,   1.00000000e+00]),\n",
       " <a list of 10 Patch objects>)"
      ]
     },
     "execution_count": 35,
     "metadata": {},
     "output_type": "execute_result"
    },
    {
     "data": {
      "image/png": "[encoded data removed]",
      "text/plain": [
       "<matplotlib.figure.Figure at 0x7f70e4f92e10>"
      ]
     },
     "metadata": {},
     "output_type": "display_data"
    }
   ],
   "source": [
    "preds_test = dnn_normalized.predict(X_test_normalized)\n",
    "plt.hist(preds_test)"
   ]
  },
  {
   "cell_type": "markdown",
   "metadata": {},
   "source": [
    "# DeepLift on Train"
   ]
  },
  {
   "cell_type": "code",
   "execution_count": 36,
   "metadata": {
    "collapsed": true
   },
   "outputs": [],
   "source": [
    "#save model and weights\n",
    "dnn_normalized.save(contacts+'_dnn_FC_nodes_window_motifs_by_chr_'+'thres_'+thres, '/users/mtaranov/LongRange3D/')"
   ]
  },
  {
   "cell_type": "code",
   "execution_count": 37,
   "metadata": {
    "collapsed": true
   },
   "outputs": [],
   "source": [
    "weights='/users/mtaranov/LongRange3D/weights/'+contacts+'_dnn_FC_nodes_window_motifs_by_chr_'+'thres_'+thres+'.weights.h5'\n",
    "json_model='/users/mtaranov/LongRange3D/models/'+contacts+'_dnn_FC_nodes_window_motifs_by_chr_'+'thres_'+thres+'.arch.json'"
   ]
  },
  {
   "cell_type": "code",
   "execution_count": 88,
   "metadata": {
    "collapsed": false
   },
   "outputs": [
    {
     "name": "stdout",
     "output_type": "stream",
     "text": [
      "True\n",
      "nonlinear_mxts_mode is set to: RevealCancel\n"
     ]
    }
   ],
   "source": [
    "scores = dnn_normalized.deeplift(X_train_normalized[np.where(y_train[np.where(preds_train>0.9)[0]] ==1)[0]], weights, json_model, batch_size=128)"
   ]
  },
  {
   "cell_type": "code",
   "execution_count": 89,
   "metadata": {
    "collapsed": true
   },
   "outputs": [],
   "source": [
    "np.save('/users/mtaranov/LongRange3D/deeplift_scores/'+contacts+'_scores_dnn_FC_nodes_window_motifs.npy', scores)"
   ]
  },
  {
   "cell_type": "code",
   "execution_count": 41,
   "metadata": {
    "collapsed": false
   },
   "outputs": [],
   "source": [
    "motif_names=np.loadtxt('/users/mtaranov/datasets_3d/dist_matched_pe/motifs/d0_thres_0_test_pe_out_btw_nodes_3_0.0001/motif_names.txt', dtype=str, delimiter='/')[:,6:].reshape(640,)\n",
    "top_3_hits_names=[]\n",
    "for i in motif_names:\n",
    "    for j in range(3):\n",
    "        top_3_hits_names.append(i)\n",
    "top_3_hits_names = np.array(top_3_hits_names)"
   ]
  },
  {
   "cell_type": "code",
   "execution_count": 47,
   "metadata": {
    "collapsed": false
   },
   "outputs": [
    {
     "data": {
      "text/plain": [
       "[<matplotlib.lines.Line2D at 0x7f70a4cddc50>]"
      ]
     },
     "execution_count": 47,
     "metadata": {},
     "output_type": "execute_result"
    },
    {
     "data": {
      "image/png": "[encoded data removed]",
      "text/plain": [
       "<matplotlib.figure.Figure at 0x7f70e249e710>"
      ]
     },
     "metadata": {},
     "output_type": "display_data"
    }
   ],
   "source": [
    "plt.plot(np.mean(scores, axis=0))"
   ]
  },
  {
   "cell_type": "code",
   "execution_count": null,
   "metadata": {
    "collapsed": false
   },
   "outputs": [],
   "source": [
    "# plt.pcolor(scores, cmap='hot', vmin=np.min(scores), vmax=np.max(scores)) # cmap='RdBu'\n",
    "# plt.xlabel('motifs/features')\n",
    "# plt.ylabel('examples')\n",
    "# plt.title('DeepLift Score - Window Motifs')\n",
    "# plt.colorbar()"
   ]
  },
  {
   "cell_type": "code",
   "execution_count": 78,
   "metadata": {
    "collapsed": true
   },
   "outputs": [],
   "source": [
    "score_per_feature_node1=np.mean(scores[:,0:5760:3], axis=0)\n",
    "score_per_feature_node2=np.mean(scores[:,1:5761:3], axis=0)\n",
    "score_per_feature_window=np.mean(scores[:,2:5762:3], axis=0)"
   ]
  },
  {
   "cell_type": "code",
   "execution_count": 73,
   "metadata": {
    "collapsed": false
   },
   "outputs": [
    {
     "data": {
      "text/plain": [
       "(1920,)"
      ]
     },
     "execution_count": 73,
     "metadata": {},
     "output_type": "execute_result"
    }
   ],
   "source": [
    "score_per_feature_node1.shape"
   ]
  },
  {
   "cell_type": "code",
   "execution_count": 81,
   "metadata": {
    "collapsed": false
   },
   "outputs": [],
   "source": [
    "DeepLift_Motifs_node1=top_3_hits_names[score_per_feature_node1.argsort()[::-1]]\n",
    "DeepLift_Motifs_node2=top_3_hits_names[score_per_feature_node2.argsort()[::-1]]\n",
    "DeepLift_Motifs_window=top_3_hits_names[score_per_feature_window.argsort()[::-1]]"
   ]
  },
  {
   "cell_type": "code",
   "execution_count": 51,
   "metadata": {
    "collapsed": false
   },
   "outputs": [
    {
     "name": "stdout",
     "output_type": "stream",
     "text": [
      "(array([ 196,  912, 1551]),)\n",
      "(array([ 513, 1614, 1814]),)\n"
     ]
    }
   ],
   "source": [
    "print np.where(DeepLift_Motifs_node1=='CTCF_HUMAN')\n",
    "print np.where(DeepLift_Motifs_node1=='CTCFL_HUMAN')"
   ]
  },
  {
   "cell_type": "code",
   "execution_count": 52,
   "metadata": {
    "collapsed": false
   },
   "outputs": [
    {
     "name": "stdout",
     "output_type": "stream",
     "text": [
      "(array([  68,  502, 1553]),)\n",
      "(array([  51, 1518, 1727]),)\n"
     ]
    }
   ],
   "source": [
    "print np.where(DeepLift_Motifs_node2=='CTCF_HUMAN')\n",
    "print np.where(DeepLift_Motifs_node2=='CTCFL_HUMAN')"
   ]
  },
  {
   "cell_type": "code",
   "execution_count": 53,
   "metadata": {
    "collapsed": false
   },
   "outputs": [
    {
     "name": "stdout",
     "output_type": "stream",
     "text": [
      "(array([1780, 1835, 1840]),)\n",
      "(array([  48, 1577, 1698]),)\n"
     ]
    }
   ],
   "source": [
    "print np.where(DeepLift_Motifs_window=='CTCF_HUMAN')\n",
    "print np.where(DeepLift_Motifs_window=='CTCFL_HUMAN')"
   ]
  },
  {
   "cell_type": "code",
   "execution_count": 54,
   "metadata": {
    "collapsed": false
   },
   "outputs": [
    {
     "data": {
      "text/plain": [
       "array(['MEOX1_HUMAN', 'TGIF1_HUMAN', 'PHX2B_HUMAN', 'RX_HUMAN',\n",
       "       'RXRA_HUMAN', 'CEBPZ_HUMAN', 'PRGR_HUMAN', 'MUSC_HUMAN',\n",
       "       'ZN740_HUMAN', 'HXB8_HUMAN', 'NOBOX_HUMAN', 'HEN1_HUMAN',\n",
       "       'KLF14_HUMAN', 'ESR2_HUMAN', 'RARA_HUMAN', 'EMX2_HUMAN',\n",
       "       'MEF2D_HUMAN', 'NR2E3_HUMAN', 'MGAP_HUMAN', 'PO6F1_HUMAN',\n",
       "       'TBX5_HUMAN', 'HIF1A_HUMAN', 'NDF2_HUMAN', 'COT1_HUMAN',\n",
       "       'TFDP1_HUMAN', 'MNX1_HUMAN', 'FOXD3_HUMAN', 'ETV2_HUMAN',\n",
       "       'JUND_HUMAN', 'MEF2D_HUMAN', 'ATF7_HUMAN', 'FOXP2_HUMAN',\n",
       "       'GLIS3_HUMAN', 'ZN589_HUMAN', 'COT1_HUMAN', 'REL_HUMAN',\n",
       "       'ELF1_HUMAN', 'TEAD3_HUMAN', 'MLX_HUMAN', 'EGR2_HUMAN', 'P53_HUMAN',\n",
       "       'DUXA_HUMAN', 'GLIS3_HUMAN', 'VSX2_HUMAN', 'MTF1_HUMAN',\n",
       "       'TBX3_HUMAN', 'VDR_HUMAN', 'EGR1_HUMAN', 'DMBX1_HUMAN',\n",
       "       'TEAD3_HUMAN', 'PO4F1_HUMAN', 'ZIC3_HUMAN', 'GABPA_HUMAN',\n",
       "       'PO3F3_HUMAN', 'FOXO3_HUMAN', 'PBX2_HUMAN', 'KLF14_HUMAN',\n",
       "       'FLI1_HUMAN', 'FOXC2_HUMAN', 'GFI1_HUMAN', 'FOXM1_HUMAN',\n",
       "       'HTF4_HUMAN', 'TFE3_HUMAN', 'ESR1_HUMAN', 'TFDP1_HUMAN',\n",
       "       'PIT1_HUMAN', 'CR3L1_HUMAN', 'GCR_HUMAN', 'CEBPZ_HUMAN',\n",
       "       'ZN143_HUMAN', 'NFAC1_HUMAN', 'CENPB_HUMAN', 'HEN1_HUMAN',\n",
       "       'KLF3_HUMAN', 'NR1H2_HUMAN', 'ZBT7B_HUMAN', 'ALX3_HUMAN',\n",
       "       'DLX5_HUMAN', 'NR5A2_HUMAN', 'RXRB_HUMAN', 'NR4A2_HUMAN',\n",
       "       'ASCL2_HUMAN', 'GCM1_HUMAN', 'NFAC3_HUMAN', 'COT2_HUMAN',\n",
       "       'PIT1_HUMAN', 'EGR1_HUMAN', 'MNT_HUMAN', 'SHOX_HUMAN',\n",
       "       'PO6F2_HUMAN', 'NFE2_HUMAN', 'P73_HUMAN', 'JDP2_HUMAN',\n",
       "       'LHX6_HUMAN', 'SOX8_HUMAN', 'XBP1_HUMAN', 'BHE23_HUMAN',\n",
       "       'SNAI2_HUMAN', 'ERR2_HUMAN', 'KLF15_HUMAN'], \n",
       "      dtype='|S11')"
      ]
     },
     "execution_count": 54,
     "metadata": {},
     "output_type": "execute_result"
    }
   ],
   "source": [
    "# for i, item in enumerate(DeepLift_Window_Motifs_node1[:100]):\n",
    "#     print i, item\n",
    "DeepLift_Motifs_node1[:100]"
   ]
  },
  {
   "cell_type": "code",
   "execution_count": 55,
   "metadata": {
    "collapsed": false
   },
   "outputs": [
    {
     "data": {
      "text/plain": [
       "<matplotlib.text.Text at 0x7f70a3956a90>"
      ]
     },
     "execution_count": 55,
     "metadata": {},
     "output_type": "execute_result"
    },
    {
     "data": {
      "image/png": "[encoded data removed]",
      "text/plain": [
       "<matplotlib.figure.Figure at 0x7f70e249ee10>"
      ]
     },
     "metadata": {},
     "output_type": "display_data"
    }
   ],
   "source": [
    "plt.plot(sorted(score_per_feature_node1)[::-1][:100])\n",
    "plt.xlabel('Features')\n",
    "plt.ylabel('Importance Score')\n",
    "plt.title('Top 100 Features')"
   ]
  },
  {
   "cell_type": "code",
   "execution_count": 56,
   "metadata": {
    "collapsed": false,
    "scrolled": true
   },
   "outputs": [
    {
     "data": {
      "text/plain": [
       "array(['GATA4_HUMAN', 'ETV2_HUMAN', 'TEAD4_HUMAN', 'HXB6_HUMAN',\n",
       "       'HXB13_HUMAN', 'FUBP1_HUMAN', 'ZN524_HUMAN', 'HXB6_HUMAN',\n",
       "       'NR2E3_HUMAN', 'TGIF1_HUMAN', 'ELF1_HUMAN', 'TYY1_HUMAN',\n",
       "       'PO3F2_HUMAN', 'STA5B_HUMAN', 'HXA13_HUMAN', 'HXD8_HUMAN',\n",
       "       'ASCL2_HUMAN', 'ELK4_HUMAN', 'ELF3_HUMAN', 'SPDEF_HUMAN',\n",
       "       'ESR2_HUMAN', 'CEBPB_HUMAN', 'NR2C2_HUMAN', 'ELF5_HUMAN',\n",
       "       'MEOX1_HUMAN', 'SOX11_HUMAN', 'TAL1_HUMAN', 'NFKB1_HUMAN',\n",
       "       'RUNX2_HUMAN', 'HBP1_HUMAN', 'NKX21_HUMAN', 'PHX2B_HUMAN',\n",
       "       'BATF_HUMAN', 'TFDP1_HUMAN', 'HXD8_HUMAN', 'HXD11_HUMAN',\n",
       "       'TF7L1_HUMAN', 'GMEB2_HUMAN', 'PPARA_HUMAN', 'NR2C2_HUMAN',\n",
       "       'SP1_HUMAN', 'HMGA1_HUMAN', 'NFAC1_HUMAN', 'ETV3_HUMAN',\n",
       "       'MITF_HUMAN', 'HMX3_HUMAN', 'NR4A1_HUMAN', 'KLF16_HUMAN',\n",
       "       'KLF14_HUMAN', 'DLX4_HUMAN', 'XBP1_HUMAN', 'CTCFL_HUMAN',\n",
       "       'TFDP1_HUMAN', 'ATF3_HUMAN', 'BARX2_HUMAN', 'ERR1_HUMAN',\n",
       "       'KLF16_HUMAN', 'STAT1_HUMAN', 'HXC12_HUMAN', 'NR1I2_HUMAN',\n",
       "       'FOXO6_HUMAN', 'TBX3_HUMAN', 'LMX1A_HUMAN', 'COT2_HUMAN',\n",
       "       'EGR3_HUMAN', 'SHOX2_HUMAN', 'SP3_HUMAN', 'LHX8_HUMAN',\n",
       "       'CTCF_HUMAN', 'JUND_HUMAN', 'ZN524_HUMAN', 'EOMES_HUMAN',\n",
       "       'SOX13_HUMAN', 'CREB5_HUMAN', 'ARNT_HUMAN', 'GCR_HUMAN',\n",
       "       'PITX2_HUMAN', 'COT1_HUMAN', 'HES1_HUMAN', 'ZKSC3_HUMAN',\n",
       "       'VSX1_HUMAN', 'TBR1_HUMAN', 'CREM_HUMAN', 'NR2F6_HUMAN',\n",
       "       'KLF13_HUMAN', 'PRD14_HUMAN', 'ZN639_HUMAN', 'P73_HUMAN',\n",
       "       'HINFP_HUMAN', 'EGR3_HUMAN', 'ELF5_HUMAN', 'P63_HUMAN',\n",
       "       'LBX2_HUMAN', 'GSX2_HUMAN', 'MLXPL_HUMAN', 'GCM1_HUMAN',\n",
       "       'MAFG_HUMAN', 'HESX1_HUMAN', 'NANOG_HUMAN', 'MBD2_HUMAN'], \n",
       "      dtype='|S11')"
      ]
     },
     "execution_count": 56,
     "metadata": {},
     "output_type": "execute_result"
    }
   ],
   "source": [
    "DeepLift_Motifs_node2[:100]"
   ]
  },
  {
   "cell_type": "code",
   "execution_count": 57,
   "metadata": {
    "collapsed": false
   },
   "outputs": [
    {
     "data": {
      "text/plain": [
       "<matplotlib.text.Text at 0x7f70a3940bd0>"
      ]
     },
     "execution_count": 57,
     "metadata": {},
     "output_type": "execute_result"
    },
    {
     "data": {
      "image/png": "[encoded data removed]",
      "text/plain": [
       "<matplotlib.figure.Figure at 0x7f70a39f5290>"
      ]
     },
     "metadata": {},
     "output_type": "display_data"
    }
   ],
   "source": [
    "plt.plot(sorted(score_per_feature_node2)[::-1][:100])\n",
    "plt.xlabel('Features')\n",
    "plt.ylabel('Importance Score')\n",
    "plt.title('Top 100 Features')"
   ]
  },
  {
   "cell_type": "code",
   "execution_count": 58,
   "metadata": {
    "collapsed": false
   },
   "outputs": [
    {
     "data": {
      "text/plain": [
       "array(['HXB6_HUMAN', 'HXB6_HUMAN', 'ZN589_HUMAN', 'ELF3_HUMAN',\n",
       "       'HXB6_HUMAN', 'ELF3_HUMAN', 'TYY1_HUMAN', 'ELF3_HUMAN',\n",
       "       'ZBT18_HUMAN', 'MGAP_HUMAN', 'FOXJ2_HUMAN', 'ZN589_HUMAN',\n",
       "       'HIC2_HUMAN', 'FUBP1_HUMAN', 'ESR2_HUMAN', 'PAX4_HUMAN',\n",
       "       'PAX4_HUMAN', 'ESR2_HUMAN', 'FEV_HUMAN', 'REL_HUMAN', 'TBP_HUMAN',\n",
       "       'PAX1_HUMAN', 'HMX3_HUMAN', 'HXC11_HUMAN', 'HLF_HUMAN',\n",
       "       'CDC5L_HUMAN', 'TF2LX_HUMAN', 'HOMEZ_HUMAN', 'NR2E3_HUMAN',\n",
       "       'NR0B1_HUMAN', 'SP1_HUMAN', 'PAX1_HUMAN', 'HLTF_HUMAN',\n",
       "       'ZBT7A_HUMAN', 'HXA7_HUMAN', 'NR2E3_HUMAN', 'PAX1_HUMAN',\n",
       "       'TYY1_HUMAN', 'MEIS2_HUMAN', 'TF65_HUMAN', 'CDX1_HUMAN',\n",
       "       'MAFA_HUMAN', 'SRBP2_HUMAN', 'FOSB_HUMAN', 'HXB13_HUMAN',\n",
       "       'ANDR_HUMAN', 'HLTF_HUMAN', 'GATA3_HUMAN', 'CTCFL_HUMAN',\n",
       "       'TBX3_HUMAN', 'VDR_HUMAN', 'ZBT18_HUMAN', 'GLI1_HUMAN', 'SRY_HUMAN',\n",
       "       'PAX2_HUMAN', 'THB_HUMAN', 'SMAD1_HUMAN', 'SRY_HUMAN', 'LEF1_HUMAN',\n",
       "       'ONEC3_HUMAN', 'HXB13_HUMAN', 'UBIP1_HUMAN', 'TBX20_HUMAN',\n",
       "       'ESR2_HUMAN', 'PBX1_HUMAN', 'HXC13_HUMAN', 'BMAL1_HUMAN',\n",
       "       'E2F2_HUMAN', 'FOXD3_HUMAN', 'FUBP1_HUMAN', 'LHX2_HUMAN',\n",
       "       'MYBA_HUMAN', 'PBX2_HUMAN', 'MEF2C_HUMAN', 'TFCP2_HUMAN',\n",
       "       'HMX3_HUMAN', 'PHX2B_HUMAN', 'STA5A_HUMAN', 'BHE23_HUMAN',\n",
       "       'BARH2_HUMAN', 'USF1_HUMAN', 'ETV7_HUMAN', 'STF1_HUMAN',\n",
       "       'FOXJ2_HUMAN', 'SRF_HUMAN', 'SP1_HUMAN', 'HIC2_HUMAN', 'PIT1_HUMAN',\n",
       "       'GLIS1_HUMAN', 'DPRX_HUMAN', 'NFKB2_HUMAN', 'FEV_HUMAN',\n",
       "       'PRDM1_HUMAN', 'PPARA_HUMAN', 'SP1_HUMAN', 'ISL1_HUMAN',\n",
       "       'MAFF_HUMAN', 'EVI1_HUMAN', 'LHX3_HUMAN', 'ARNT_HUMAN'], \n",
       "      dtype='|S11')"
      ]
     },
     "execution_count": 58,
     "metadata": {},
     "output_type": "execute_result"
    }
   ],
   "source": [
    "DeepLift_Motifs_window[:100]"
   ]
  },
  {
   "cell_type": "code",
   "execution_count": 59,
   "metadata": {
    "collapsed": false
   },
   "outputs": [
    {
     "data": {
      "text/plain": [
       "<matplotlib.text.Text at 0x7f70a3877d10>"
      ]
     },
     "execution_count": 59,
     "metadata": {},
     "output_type": "execute_result"
    },
    {
     "data": {
      "image/png": "[encoded data removed]",
      "text/plain": [
       "<matplotlib.figure.Figure at 0x7f70a3933350>"
      ]
     },
     "metadata": {},
     "output_type": "display_data"
    }
   ],
   "source": [
    "plt.plot(sorted(score_per_feature_window)[::-1][:100])\n",
    "plt.xlabel('Features')\n",
    "plt.ylabel('Importance Score')\n",
    "plt.title('Top 100 Features')"
   ]
  },
  {
   "cell_type": "code",
   "execution_count": 76,
   "metadata": {
    "collapsed": false
   },
   "outputs": [
    {
     "data": {
      "text/plain": [
       "array([ 0.04764159,  0.04467903,  0.04191069,  0.04094199,  0.03948353,\n",
       "        0.03795156,  0.03762181,  0.03639582,  0.03488799,  0.03478065,\n",
       "        0.03271722,  0.0325948 ,  0.03222915,  0.03217179,  0.03133877,\n",
       "        0.03133181,  0.03091499,  0.03083295,  0.02981066,  0.02968722,\n",
       "        0.02859651,  0.02821983,  0.02771378,  0.02650257,  0.02633966,\n",
       "        0.02626351,  0.02506932,  0.02506808,  0.0250127 ,  0.02472822,\n",
       "        0.02462824,  0.02453676,  0.02452534,  0.02429912,  0.02427849,\n",
       "        0.02416928,  0.02387327,  0.0237975 ,  0.0237804 ,  0.02375135,\n",
       "        0.02354793,  0.02348446,  0.02319682,  0.02299532,  0.02285066,\n",
       "        0.02279622,  0.02271285,  0.02233195,  0.02224493,  0.02213098,\n",
       "        0.02190274,  0.02187857,  0.02184218,  0.02181332,  0.02179576,\n",
       "        0.0217792 ,  0.02148593,  0.02132624,  0.02130695,  0.02109927,\n",
       "        0.02098808,  0.02098416,  0.02088277,  0.02080049,  0.02078666,\n",
       "        0.02065078,  0.02051565,  0.02041974,  0.02006677,  0.02001109,\n",
       "        0.01998062,  0.01986742,  0.01978246,  0.01977597,  0.01977417,\n",
       "        0.01975766,  0.0197414 ,  0.01969972,  0.01952164,  0.01948384,\n",
       "        0.01934054,  0.01932619,  0.01930251,  0.0192273 ,  0.01912135,\n",
       "        0.01890011,  0.01879101,  0.01871153,  0.01865393,  0.01852533,\n",
       "        0.0184908 ,  0.01846062,  0.01835971,  0.01831489,  0.01821066,\n",
       "        0.01813483,  0.01802863,  0.01801235,  0.01797689,  0.01779888], dtype=float32)"
      ]
     },
     "execution_count": 76,
     "metadata": {},
     "output_type": "execute_result"
    }
   ],
   "source": [
    "DeepLift_Motifs[:100]"
   ]
  },
  {
   "cell_type": "code",
   "execution_count": 60,
   "metadata": {
    "collapsed": false
   },
   "outputs": [
    {
     "name": "stderr",
     "output_type": "stream",
     "text": [
      "/users/mtaranov/local/anaconda2/lib/python2.7/site-packages/ipykernel/__main__.py:1: DeprecationWarning: the sets module is deprecated\n",
      "  if __name__ == '__main__':\n"
     ]
    }
   ],
   "source": [
    "from sets import Set\n",
    "uniq_node1 = Set(DeepLift_Motifs_node1[:100])\n",
    "uniq_node2 = Set(DeepLift_Motifs_node2[:100])\n",
    "uniq_window = Set(DeepLift_Motifs_window[:100])"
   ]
  },
  {
   "cell_type": "code",
   "execution_count": 61,
   "metadata": {
    "collapsed": false
   },
   "outputs": [
    {
     "data": {
      "text/plain": [
       "Set(['ASCL2_HUMAN', 'GCM1_HUMAN', 'COT1_HUMAN', 'ESR2_HUMAN', 'NR2E3_HUMAN', 'COT2_HUMAN', 'P73_HUMAN', 'ETV2_HUMAN', 'PHX2B_HUMAN', 'TGIF1_HUMAN', 'XBP1_HUMAN', 'TFDP1_HUMAN', 'MEOX1_HUMAN', 'NFAC1_HUMAN', 'ELF1_HUMAN', 'TBX3_HUMAN', 'KLF14_HUMAN', 'JUND_HUMAN', 'GCR_HUMAN'])"
      ]
     },
     "execution_count": 61,
     "metadata": {},
     "output_type": "execute_result"
    }
   ],
   "source": [
    "uniq_node1 & uniq_node2"
   ]
  },
  {
   "cell_type": "code",
   "execution_count": 62,
   "metadata": {
    "collapsed": false
   },
   "outputs": [
    {
     "data": {
      "text/plain": [
       "Set(['PHX2B_HUMAN', 'NR2E3_HUMAN', 'ESR2_HUMAN', 'TBX3_HUMAN'])"
      ]
     },
     "execution_count": 62,
     "metadata": {},
     "output_type": "execute_result"
    }
   ],
   "source": [
    "uniq_node1 & uniq_node2 & uniq_window"
   ]
  },
  {
   "cell_type": "code",
   "execution_count": null,
   "metadata": {
    "collapsed": true
   },
   "outputs": [],
   "source": [
    "# DLX6_HUMAN - epithelial cell differentiation\n",
    "# STA5B_HUMAN - regulation of epithelial cell differentiation\n",
    "# SMRC1_HUMAN - chromatin remodeling (alteration of DNA-nucleosome topology)"
   ]
  },
  {
   "cell_type": "markdown",
   "metadata": {},
   "source": [
    "# DeepLift on Valid"
   ]
  },
  {
   "cell_type": "code",
   "execution_count": 64,
   "metadata": {
    "collapsed": false
   },
   "outputs": [
    {
     "name": "stdout",
     "output_type": "stream",
     "text": [
      "True\n",
      "nonlinear_mxts_mode is set to: RevealCancel\n"
     ]
    }
   ],
   "source": [
    "scores_valid = dnn_normalized.deeplift(X_train_normalized[np.where(y_train[np.where(preds_train>0.9)[0]] ==1)[0]], weights, json_model, batch_size=128)"
   ]
  },
  {
   "cell_type": "code",
   "execution_count": 67,
   "metadata": {
    "collapsed": true
   },
   "outputs": [],
   "source": [
    "np.save('/users/mtaranov/LongRange3D/deeplift_scores/'+contacts+'_scores_valid_dnn_FC_nodes_window_motifs.npy', scores_valid)"
   ]
  },
  {
   "cell_type": "code",
   "execution_count": 68,
   "metadata": {
    "collapsed": true
   },
   "outputs": [],
   "source": [
    "motif_names=np.loadtxt('/users/mtaranov/datasets_3d/dist_matched_pe/motifs/d0_thres_0_test_pe_out_btw_nodes_3_0.0001/motif_names.txt', dtype=str, delimiter='/')[:,6:].reshape(640,)\n",
    "top_3_hits_names=[]\n",
    "for i in motif_names:\n",
    "    for j in range(3):\n",
    "        top_3_hits_names.append(i)\n",
    "top_3_hits_names = np.array(top_3_hits_names)"
   ]
  },
  {
   "cell_type": "code",
   "execution_count": 69,
   "metadata": {
    "collapsed": true
   },
   "outputs": [],
   "source": [
    "score_per_feature_node1=np.mean(scores_valid[:,0:5760:3], axis=0)\n",
    "score_per_feature_node2=np.mean(scores_valid[:,1:5761:3], axis=0)\n",
    "score_per_feature_window=np.mean(scores_valid[:,2:5762:3], axis=0)\n",
    "DeepLift_Motifs_node1_valid=top_3_hits_names[score_per_feature_node1.argsort()[::-1]]\n",
    "DeepLift_Motifs_node2_valid=top_3_hits_names[score_per_feature_node2.argsort()[::-1]]\n",
    "DeepLift_Motifs_window_valid=top_3_hits_names[score_per_feature_window.argsort()[::-1]]"
   ]
  },
  {
   "cell_type": "code",
   "execution_count": 70,
   "metadata": {
    "collapsed": false
   },
   "outputs": [
    {
     "data": {
      "text/plain": [
       "array(['MEOX1_HUMAN', 'TGIF1_HUMAN', 'PHX2B_HUMAN', 'RX_HUMAN',\n",
       "       'RXRA_HUMAN', 'PRGR_HUMAN', 'CEBPZ_HUMAN', 'MUSC_HUMAN',\n",
       "       'ZN740_HUMAN', 'NOBOX_HUMAN', 'HXB8_HUMAN', 'HEN1_HUMAN',\n",
       "       'KLF14_HUMAN', 'ESR2_HUMAN', 'RARA_HUMAN', 'EMX2_HUMAN',\n",
       "       'MEF2D_HUMAN', 'NR2E3_HUMAN', 'MGAP_HUMAN', 'TBX5_HUMAN',\n",
       "       'PO6F1_HUMAN', 'HIF1A_HUMAN', 'NDF2_HUMAN', 'COT1_HUMAN',\n",
       "       'TFDP1_HUMAN', 'MNX1_HUMAN', 'FOXD3_HUMAN', 'ETV2_HUMAN',\n",
       "       'JUND_HUMAN', 'ATF7_HUMAN', 'MEF2D_HUMAN', 'FOXP2_HUMAN',\n",
       "       'GLIS3_HUMAN', 'ZN589_HUMAN', 'COT1_HUMAN', 'REL_HUMAN',\n",
       "       'ELF1_HUMAN', 'MLX_HUMAN', 'TEAD3_HUMAN', 'EGR2_HUMAN', 'P53_HUMAN',\n",
       "       'DUXA_HUMAN', 'GLIS3_HUMAN', 'VSX2_HUMAN', 'MTF1_HUMAN',\n",
       "       'EGR1_HUMAN', 'TBX3_HUMAN', 'VDR_HUMAN', 'DMBX1_HUMAN',\n",
       "       'TEAD3_HUMAN', 'PO3F3_HUMAN', 'PO4F1_HUMAN', 'GABPA_HUMAN',\n",
       "       'ZIC3_HUMAN', 'KLF14_HUMAN', 'FOXO3_HUMAN', 'PBX2_HUMAN',\n",
       "       'FOXC2_HUMAN', 'GFI1_HUMAN', 'FLI1_HUMAN', 'FOXM1_HUMAN',\n",
       "       'HTF4_HUMAN', 'TFE3_HUMAN', 'ZN143_HUMAN', 'ESR1_HUMAN',\n",
       "       'TFDP1_HUMAN', 'GCR_HUMAN', 'CR3L1_HUMAN', 'PIT1_HUMAN',\n",
       "       'CEBPZ_HUMAN', 'NFAC1_HUMAN', 'CENPB_HUMAN', 'HEN1_HUMAN',\n",
       "       'NR1H2_HUMAN', 'KLF3_HUMAN', 'ZBT7B_HUMAN', 'RXRB_HUMAN',\n",
       "       'ALX3_HUMAN', 'NR4A2_HUMAN', 'NR5A2_HUMAN', 'DLX5_HUMAN',\n",
       "       'GCM1_HUMAN', 'ASCL2_HUMAN', 'NFAC3_HUMAN', 'EGR1_HUMAN',\n",
       "       'COT2_HUMAN', 'MNT_HUMAN', 'PIT1_HUMAN', 'P73_HUMAN', 'PO6F2_HUMAN',\n",
       "       'SHOX_HUMAN', 'JDP2_HUMAN', 'NFE2_HUMAN', 'LHX6_HUMAN',\n",
       "       'XBP1_HUMAN', 'BHE23_HUMAN', 'SOX8_HUMAN', 'SNAI2_HUMAN',\n",
       "       'CR3L2_HUMAN', 'ERR2_HUMAN'], \n",
       "      dtype='|S11')"
      ]
     },
     "execution_count": 70,
     "metadata": {},
     "output_type": "execute_result"
    }
   ],
   "source": [
    "DeepLift_Motifs_node1_valid[:100]"
   ]
  },
  {
   "cell_type": "code",
   "execution_count": 71,
   "metadata": {
    "collapsed": false
   },
   "outputs": [
    {
     "data": {
      "text/plain": [
       "array(['GATA4_HUMAN', 'ETV2_HUMAN', 'TEAD4_HUMAN', 'HXB6_HUMAN',\n",
       "       'HXB13_HUMAN', 'FUBP1_HUMAN', 'ZN524_HUMAN', 'HXB6_HUMAN',\n",
       "       'NR2E3_HUMAN', 'TGIF1_HUMAN', 'ELF1_HUMAN', 'TYY1_HUMAN',\n",
       "       'PO3F2_HUMAN', 'STA5B_HUMAN', 'HXA13_HUMAN', 'HXD8_HUMAN',\n",
       "       'ASCL2_HUMAN', 'ELK4_HUMAN', 'ELF3_HUMAN', 'SPDEF_HUMAN',\n",
       "       'CEBPB_HUMAN', 'ESR2_HUMAN', 'NR2C2_HUMAN', 'ELF5_HUMAN',\n",
       "       'MEOX1_HUMAN', 'SOX11_HUMAN', 'TAL1_HUMAN', 'NFKB1_HUMAN',\n",
       "       'RUNX2_HUMAN', 'NKX21_HUMAN', 'HBP1_HUMAN', 'PHX2B_HUMAN',\n",
       "       'BATF_HUMAN', 'TFDP1_HUMAN', 'HXD8_HUMAN', 'HXD11_HUMAN',\n",
       "       'TF7L1_HUMAN', 'GMEB2_HUMAN', 'PPARA_HUMAN', 'NR2C2_HUMAN',\n",
       "       'SP1_HUMAN', 'NFAC1_HUMAN', 'HMGA1_HUMAN', 'ETV3_HUMAN',\n",
       "       'MITF_HUMAN', 'HMX3_HUMAN', 'NR4A1_HUMAN', 'KLF16_HUMAN',\n",
       "       'KLF14_HUMAN', 'DLX4_HUMAN', 'XBP1_HUMAN', 'ATF3_HUMAN',\n",
       "       'CTCFL_HUMAN', 'TFDP1_HUMAN', 'BARX2_HUMAN', 'KLF16_HUMAN',\n",
       "       'STAT1_HUMAN', 'ERR1_HUMAN', 'HXC12_HUMAN', 'NR1I2_HUMAN',\n",
       "       'TBX3_HUMAN', 'LMX1A_HUMAN', 'FOXO6_HUMAN', 'COT2_HUMAN',\n",
       "       'EGR3_HUMAN', 'SHOX2_HUMAN', 'LHX8_HUMAN', 'CTCF_HUMAN',\n",
       "       'SP3_HUMAN', 'JUND_HUMAN', 'ARNT_HUMAN', 'CREB5_HUMAN',\n",
       "       'ZN524_HUMAN', 'SOX13_HUMAN', 'EOMES_HUMAN', 'PITX2_HUMAN',\n",
       "       'GCR_HUMAN', 'COT1_HUMAN', 'CREM_HUMAN', 'ZKSC3_HUMAN',\n",
       "       'VSX1_HUMAN', 'TBR1_HUMAN', 'HES1_HUMAN', 'NR2F6_HUMAN',\n",
       "       'KLF13_HUMAN', 'ZN639_HUMAN', 'P73_HUMAN', 'PRD14_HUMAN',\n",
       "       'HINFP_HUMAN', 'EGR3_HUMAN', 'ELF5_HUMAN', 'P63_HUMAN',\n",
       "       'LBX2_HUMAN', 'GSX2_HUMAN', 'MLXPL_HUMAN', 'GCM1_HUMAN',\n",
       "       'MAFG_HUMAN', 'HESX1_HUMAN', 'ARNT_HUMAN', 'MBD2_HUMAN'], \n",
       "      dtype='|S11')"
      ]
     },
     "execution_count": 71,
     "metadata": {},
     "output_type": "execute_result"
    }
   ],
   "source": [
    "DeepLift_Motifs_node2_valid[:100]"
   ]
  },
  {
   "cell_type": "code",
   "execution_count": 72,
   "metadata": {
    "collapsed": false
   },
   "outputs": [
    {
     "data": {
      "text/plain": [
       "array(['HXB6_HUMAN', 'HXB6_HUMAN', 'ZN589_HUMAN', 'ELF3_HUMAN',\n",
       "       'HXB6_HUMAN', 'ELF3_HUMAN', 'TYY1_HUMAN', 'ELF3_HUMAN',\n",
       "       'ZBT18_HUMAN', 'MGAP_HUMAN', 'FOXJ2_HUMAN', 'ZN589_HUMAN',\n",
       "       'HIC2_HUMAN', 'FUBP1_HUMAN', 'PAX4_HUMAN', 'ESR2_HUMAN',\n",
       "       'PAX4_HUMAN', 'ESR2_HUMAN', 'FEV_HUMAN', 'REL_HUMAN', 'TBP_HUMAN',\n",
       "       'PAX1_HUMAN', 'HMX3_HUMAN', 'HXC11_HUMAN', 'HLF_HUMAN',\n",
       "       'CDC5L_HUMAN', 'HOMEZ_HUMAN', 'TF2LX_HUMAN', 'NR2E3_HUMAN',\n",
       "       'NR0B1_HUMAN', 'SP1_HUMAN', 'PAX1_HUMAN', 'HLTF_HUMAN',\n",
       "       'ZBT7A_HUMAN', 'HXA7_HUMAN', 'NR2E3_HUMAN', 'PAX1_HUMAN',\n",
       "       'TYY1_HUMAN', 'MEIS2_HUMAN', 'TF65_HUMAN', 'CDX1_HUMAN',\n",
       "       'MAFA_HUMAN', 'SRBP2_HUMAN', 'FOSB_HUMAN', 'HXB13_HUMAN',\n",
       "       'ANDR_HUMAN', 'HLTF_HUMAN', 'GATA3_HUMAN', 'CTCFL_HUMAN',\n",
       "       'TBX3_HUMAN', 'VDR_HUMAN', 'ZBT18_HUMAN', 'GLI1_HUMAN',\n",
       "       'PAX2_HUMAN', 'THB_HUMAN', 'SRY_HUMAN', 'SMAD1_HUMAN', 'SRY_HUMAN',\n",
       "       'LEF1_HUMAN', 'ONEC3_HUMAN', 'HXB13_HUMAN', 'UBIP1_HUMAN',\n",
       "       'TBX20_HUMAN', 'ESR2_HUMAN', 'PBX1_HUMAN', 'HXC13_HUMAN',\n",
       "       'BMAL1_HUMAN', 'E2F2_HUMAN', 'FOXD3_HUMAN', 'FUBP1_HUMAN',\n",
       "       'LHX2_HUMAN', 'MYBA_HUMAN', 'TFCP2_HUMAN', 'PBX2_HUMAN',\n",
       "       'HMX3_HUMAN', 'MEF2C_HUMAN', 'PHX2B_HUMAN', 'STA5A_HUMAN',\n",
       "       'BHE23_HUMAN', 'BARH2_HUMAN', 'USF1_HUMAN', 'ETV7_HUMAN',\n",
       "       'STF1_HUMAN', 'FOXJ2_HUMAN', 'SRF_HUMAN', 'SP1_HUMAN', 'HIC2_HUMAN',\n",
       "       'PIT1_HUMAN', 'GLIS1_HUMAN', 'DPRX_HUMAN', 'NFKB2_HUMAN',\n",
       "       'FEV_HUMAN', 'PRDM1_HUMAN', 'PPARA_HUMAN', 'SP1_HUMAN',\n",
       "       'ISL1_HUMAN', 'MAFF_HUMAN', 'EVI1_HUMAN', 'LHX3_HUMAN', 'ARNT_HUMAN'], \n",
       "      dtype='|S11')"
      ]
     },
     "execution_count": 72,
     "metadata": {},
     "output_type": "execute_result"
    }
   ],
   "source": [
    "DeepLift_Motifs_window_valid[:100]"
   ]
  },
  {
   "cell_type": "code",
   "execution_count": 82,
   "metadata": {
    "collapsed": true
   },
   "outputs": [],
   "source": [
    "uniq_node1_valid = Set(DeepLift_Motifs_node1_valid[:100])\n",
    "uniq_node2_valid = Set(DeepLift_Motifs_node2_valid[:100])\n",
    "uniq_window_valid = Set(DeepLift_Motifs_window_valid[:100])"
   ]
  },
  {
   "cell_type": "markdown",
   "metadata": {},
   "source": [
    "# Compare train and valid"
   ]
  },
  {
   "cell_type": "code",
   "execution_count": 84,
   "metadata": {
    "collapsed": false
   },
   "outputs": [
    {
     "data": {
      "text/plain": [
       "(89,\n",
       " Set(['NR2E3_HUMAN', 'HXB8_HUMAN', 'MTF1_HUMAN', 'PO4F1_HUMAN', 'FOXO3_HUMAN', 'FLI1_HUMAN', 'CENPB_HUMAN', 'CR3L1_HUMAN', 'DMBX1_HUMAN', 'SNAI2_HUMAN', 'MEOX1_HUMAN', 'JUND_HUMAN', 'HEN1_HUMAN', 'FOXP2_HUMAN', 'ZN740_HUMAN', 'ERR2_HUMAN', 'ATF7_HUMAN', 'ASCL2_HUMAN', 'HIF1A_HUMAN', 'PO6F1_HUMAN', 'PIT1_HUMAN', 'ETV2_HUMAN', 'TEAD3_HUMAN', 'MLX_HUMAN', 'JDP2_HUMAN', 'TBX5_HUMAN', 'GFI1_HUMAN', 'ZN589_HUMAN', 'PRGR_HUMAN', 'KLF14_HUMAN', 'PO3F3_HUMAN', 'ZIC3_HUMAN', 'EMX2_HUMAN', 'MEF2D_HUMAN', 'TGIF1_HUMAN', 'NR4A2_HUMAN', 'XBP1_HUMAN', 'ELF1_HUMAN', 'DLX5_HUMAN', 'GABPA_HUMAN', 'CEBPZ_HUMAN', 'P53_HUMAN', 'FOXD3_HUMAN', 'MUSC_HUMAN', 'COT2_HUMAN', 'ZN143_HUMAN', 'PHX2B_HUMAN', 'LHX6_HUMAN', 'MGAP_HUMAN', 'KLF3_HUMAN', 'RX_HUMAN', 'EGR2_HUMAN', 'P73_HUMAN', 'FOXM1_HUMAN', 'NFAC3_HUMAN', 'GCR_HUMAN', 'VSX2_HUMAN', 'BHE23_HUMAN', 'ESR2_HUMAN', 'NR1H2_HUMAN', 'NR5A2_HUMAN', 'RARA_HUMAN', 'NFE2_HUMAN', 'GCM1_HUMAN', 'ZBT7B_HUMAN', 'TFE3_HUMAN', 'NOBOX_HUMAN', 'VDR_HUMAN', 'RXRB_HUMAN', 'DUXA_HUMAN', 'FOXC2_HUMAN', 'TBX3_HUMAN', 'REL_HUMAN', 'GLIS3_HUMAN', 'COT1_HUMAN', 'ALX3_HUMAN', 'MNX1_HUMAN', 'SOX8_HUMAN', 'MNT_HUMAN', 'EGR1_HUMAN', 'PO6F2_HUMAN', 'TFDP1_HUMAN', 'NFAC1_HUMAN', 'SHOX_HUMAN', 'HTF4_HUMAN', 'ESR1_HUMAN', 'PBX2_HUMAN', 'RXRA_HUMAN', 'NDF2_HUMAN']))"
      ]
     },
     "execution_count": 84,
     "metadata": {},
     "output_type": "execute_result"
    }
   ],
   "source": [
    "len(uniq_node1 & uniq_node1_valid), uniq_node1 & uniq_node1_valid"
   ]
  },
  {
   "cell_type": "code",
   "execution_count": 85,
   "metadata": {
    "collapsed": false
   },
   "outputs": [
    {
     "data": {
      "text/plain": [
       "(91,\n",
       " Set(['COT1_HUMAN', 'ETV3_HUMAN', 'DLX4_HUMAN', 'SP3_HUMAN', 'STAT1_HUMAN', 'KLF16_HUMAN', 'HMX3_HUMAN', 'PRD14_HUMAN', 'MEOX1_HUMAN', 'EOMES_HUMAN', 'VSX1_HUMAN', 'JUND_HUMAN', 'HXD8_HUMAN', 'NR1I2_HUMAN', 'CTCF_HUMAN', 'NR2F6_HUMAN', 'BATF_HUMAN', 'ELK4_HUMAN', 'TEAD4_HUMAN', 'ERR1_HUMAN', 'TYY1_HUMAN', 'ASCL2_HUMAN', 'CTCFL_HUMAN', 'NR4A1_HUMAN', 'ARNT_HUMAN', 'ETV2_HUMAN', 'PITX2_HUMAN', 'ELF3_HUMAN', 'MBD2_HUMAN', 'HXB6_HUMAN', 'SP1_HUMAN', 'NFKB1_HUMAN', 'HESX1_HUMAN', 'P63_HUMAN', 'PPARA_HUMAN', 'ELF5_HUMAN', 'CREM_HUMAN', 'KLF14_HUMAN', 'HBP1_HUMAN', 'LHX8_HUMAN', 'TGIF1_HUMAN', 'ZN639_HUMAN', 'BARX2_HUMAN', 'LBX2_HUMAN', 'CEBPB_HUMAN', 'XBP1_HUMAN', 'GATA4_HUMAN', 'ELF1_HUMAN', 'SPDEF_HUMAN', 'NFAC1_HUMAN', 'NKX21_HUMAN', 'FOXO6_HUMAN', 'ZKSC3_HUMAN', 'FUBP1_HUMAN', 'COT2_HUMAN', 'HXD11_HUMAN', 'GMEB2_HUMAN', 'PHX2B_HUMAN', 'TBR1_HUMAN', 'GSX2_HUMAN', 'SOX11_HUMAN', 'TAL1_HUMAN', 'P73_HUMAN', 'HES1_HUMAN', 'GCR_HUMAN', 'HXC12_HUMAN', 'ESR2_HUMAN', 'KLF13_HUMAN', 'MAFG_HUMAN', 'GCM1_HUMAN', 'LMX1A_HUMAN', 'SHOX2_HUMAN', 'HINFP_HUMAN', 'HMGA1_HUMAN', 'TBX3_HUMAN', 'TF7L1_HUMAN', 'NR2E3_HUMAN', 'MLXPL_HUMAN', 'STA5B_HUMAN', 'HXB13_HUMAN', 'EGR3_HUMAN', 'ATF3_HUMAN', 'SOX13_HUMAN', 'MITF_HUMAN', 'TFDP1_HUMAN', 'NR2C2_HUMAN', 'PO3F2_HUMAN', 'CREB5_HUMAN', 'HXA13_HUMAN', 'RUNX2_HUMAN', 'ZN524_HUMAN']))"
      ]
     },
     "execution_count": 85,
     "metadata": {},
     "output_type": "execute_result"
    }
   ],
   "source": [
    "len(uniq_node2 & uniq_node2_valid), uniq_node2 & uniq_node2_valid"
   ]
  },
  {
   "cell_type": "code",
   "execution_count": 87,
   "metadata": {
    "collapsed": false
   },
   "outputs": [
    {
     "data": {
      "text/plain": [
       "(77,\n",
       " Set(['HXA7_HUMAN', 'STA5A_HUMAN', 'NR2E3_HUMAN', 'HLTF_HUMAN', 'MEIS2_HUMAN', 'HLF_HUMAN', 'STF1_HUMAN', 'VDR_HUMAN', 'SP1_HUMAN', 'DPRX_HUMAN', 'ANDR_HUMAN', 'TBX3_HUMAN', 'REL_HUMAN', 'MAFA_HUMAN', 'TF2LX_HUMAN', 'ISL1_HUMAN', 'TYY1_HUMAN', 'E2F2_HUMAN', 'FOSB_HUMAN', 'FUBP1_HUMAN', 'CDX1_HUMAN', 'ZN589_HUMAN', 'HXB13_HUMAN', 'PPARA_HUMAN', 'SRBP2_HUMAN', 'ZBT18_HUMAN', 'HMX3_HUMAN', 'LHX3_HUMAN', 'HXC11_HUMAN', 'TBP_HUMAN', 'PBX1_HUMAN', 'THB_HUMAN', 'LEF1_HUMAN', 'BMAL1_HUMAN', 'HIC2_HUMAN', 'MGAP_HUMAN', 'EVI1_HUMAN', 'PHX2B_HUMAN', 'ZBT7A_HUMAN', 'NR0B1_HUMAN', 'SRF_HUMAN', 'SRY_HUMAN', 'MYBA_HUMAN', 'GLI1_HUMAN', 'LHX2_HUMAN', 'ONEC3_HUMAN', 'CDC5L_HUMAN', 'TF65_HUMAN', 'FOXJ2_HUMAN', 'NFKB2_HUMAN', 'FEV_HUMAN', 'PAX4_HUMAN', 'PAX2_HUMAN', 'PAX1_HUMAN', 'FOXD3_HUMAN', 'HOMEZ_HUMAN', 'GLIS1_HUMAN', 'MAFF_HUMAN', 'CTCFL_HUMAN', 'SMAD1_HUMAN', 'UBIP1_HUMAN', 'BHE23_HUMAN', 'PIT1_HUMAN', 'ARNT_HUMAN', 'ESR2_HUMAN', 'BARH2_HUMAN', 'HXC13_HUMAN', 'PBX2_HUMAN', 'GATA3_HUMAN', 'ELF3_HUMAN', 'TBX20_HUMAN', 'MEF2C_HUMAN', 'ETV7_HUMAN', 'USF1_HUMAN', 'HXB6_HUMAN', 'PRDM1_HUMAN', 'TFCP2_HUMAN']))"
      ]
     },
     "execution_count": 87,
     "metadata": {},
     "output_type": "execute_result"
    }
   ],
   "source": [
    "len(uniq_window & uniq_window_valid), uniq_window & uniq_window_valid"
   ]
  },
  {
   "cell_type": "code",
   "execution_count": null,
   "metadata": {
    "collapsed": true
   },
   "outputs": [],
   "source": []
  }
 ],
 "metadata": {
  "anaconda-cloud": {},
  "kernelspec": {
   "display_name": "Python [default]",
   "language": "python",
   "name": "python2"
  },
  "language_info": {
   "codemirror_mode": {
    "name": "ipython",
    "version": 2
   },
   "file_extension": ".py",
   "mimetype": "text/x-python",
   "name": "python",
   "nbconvert_exporter": "python",
   "pygments_lexer": "ipython2",
   "version": "2.7.12"
  }
 },
 "nbformat": 4,
 "nbformat_minor": 0
}
