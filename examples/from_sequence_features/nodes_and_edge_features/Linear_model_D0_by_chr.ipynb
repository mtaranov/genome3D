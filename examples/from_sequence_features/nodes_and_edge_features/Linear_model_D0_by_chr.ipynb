{
 "cells": [
  {
   "cell_type": "code",
   "execution_count": 1,
   "metadata": {
    "collapsed": false
   },
   "outputs": [
    {
     "name": "stderr",
     "output_type": "stream",
     "text": [
      "Using Theano backend.\n",
      "WARNING (theano.sandbox.cuda): The cuda backend is deprecated and will be removed in the next release (v0.10).  Please switch to the gpuarray backend. You can get more information about how to switch at this URL:\n",
      " https://github.com/Theano/Theano/wiki/Converting-to-the-new-gpu-back-end%28gpuarray%29\n",
      "\n",
      "Using gpu device 1: GeForce GTX TITAN X (CNMeM is enabled with initial size: 2500 MB, cuDNN 5005)\n"
     ]
    }
   ],
   "source": [
    "%matplotlib inline\n",
    "%load_ext autoreload\n",
    "%autoreload 2\n",
    "\n",
    "import sys\n",
    "import numpy as np\n",
    "import matplotlib.pyplot as plt\n",
    "import pickle\n",
    "from sklearn.preprocessing import MinMaxScaler, StandardScaler\n",
    "sys.path.append('/users/mtaranov/LongRange3D/')\n",
    "from models_motif import LongRangeDNN\n",
    "from utils import normalize_features_sampl_by_f, concat_motifs, get_features, get_labels, subsample_data, normalize_features, reconstruct_2d, printMatrix, binarize, zscore, get_2D, plot_prediction, change_scale\n",
    "#from sklearn.preprocessing import MinMaxScaler, StandardScaler"
   ]
  },
  {
   "cell_type": "code",
   "execution_count": 2,
   "metadata": {
    "collapsed": false
   },
   "outputs": [],
   "source": [
    "contacts='pe'\n",
    "path='/users/mtaranov/datasets_3d/by_chr_dist_matched_'+contacts+'/'\n",
    "day='d0'\n",
    "thres='10'\n",
    "\n",
    "X_train_node1 = path+'motifs/'+day+'_thres_'+thres+'_train_'+contacts+'_out_node1_3_0.0001/mat.npy'\n",
    "X_train_node2 = path+'motifs/'+day+'_thres_'+thres+'_train_'+contacts+'_out_node2_3_0.0001/mat.npy'\n",
    "X_train_window = path+'motifs/'+day+'_thres_'+thres+'_train_'+contacts+'_out_btw_nodes_3_0.0001/mat.npy'\n",
    "\n",
    "\n",
    "X_test_node1 = path+'motifs/'+day+'_thres_'+thres+'_test_'+contacts+'_out_node1_3_0.0001/mat.npy'\n",
    "X_test_node2 = path+'motifs/'+day+'_thres_'+thres+'_test_'+contacts+'_out_node2_3_0.0001/mat.npy'\n",
    "X_test_window = path+'motifs/'+day+'_thres_'+thres+'_test_'+contacts+'_out_btw_nodes_3_0.0001/mat.npy'\n",
    "\n",
    "X_valid_node1 = path+'motifs/'+day+'_thres_'+thres+'_valid_'+contacts+'_out_node1_3_0.0001/mat.npy'\n",
    "X_valid_node2 = path+'motifs/'+day+'_thres_'+thres+'_valid_'+contacts+'_out_node2_3_0.0001/mat.npy'\n",
    "X_valid_window = path+'motifs/'+day+'_thres_'+thres+'_valid_'+contacts+'_out_btw_nodes_3_0.0001/mat.npy'\n",
    "\n",
    "y_train = get_labels(path+day+'_y_train_thres_'+thres+'.npy')\n",
    "y_test = get_labels(path+day+'_y_test_thres_'+thres+'.npy')\n",
    "y_valid = get_labels(path+day+'_y_valid_thres_'+thres+'.npy')\n",
    "\n",
    "X_train=concat_motifs([X_train_node1, X_train_node2, X_train_window])\n",
    "X_test=concat_motifs([X_test_node1, X_test_node2, X_test_window])\n",
    "X_valid=concat_motifs([X_valid_node1, X_valid_node2, X_valid_window])"
   ]
  },
  {
   "cell_type": "code",
   "execution_count": 3,
   "metadata": {
    "collapsed": false
   },
   "outputs": [],
   "source": [
    "X_train_pairs = X_train.reshape(X_train.shape[0],X_train.shape[2]*X_train.shape[3])\n",
    "X_valid_pairs = X_valid.reshape(X_valid.shape[0],X_valid.shape[2]*X_valid.shape[3])\n",
    "X_test_pairs = X_test.reshape(X_test.shape[0],X_test.shape[2]*X_test.shape[3])"
   ]
  },
  {
   "cell_type": "code",
   "execution_count": 4,
   "metadata": {
    "collapsed": false
   },
   "outputs": [],
   "source": [
    "X_train_normalized, X_valid_normalized, X_test_normalized = normalize_features_sampl_by_f(X_train_pairs, X_valid_pairs, X_test_pairs)"
   ]
  },
  {
   "cell_type": "code",
   "execution_count": 5,
   "metadata": {
    "collapsed": false
   },
   "outputs": [],
   "source": [
    "from sklearn.linear_model import LogisticRegression\n",
    "from sklearn.metrics import roc_auc_score"
   ]
  },
  {
   "cell_type": "code",
   "execution_count": 71,
   "metadata": {
    "collapsed": true
   },
   "outputs": [],
   "source": [
    "clf = LogisticRegression(penalty='l1', C=0.009)"
   ]
  },
  {
   "cell_type": "code",
   "execution_count": 72,
   "metadata": {
    "collapsed": false
   },
   "outputs": [],
   "source": [
    "clf = clf.fit(X_train_normalized, y_train)"
   ]
  },
  {
   "cell_type": "code",
   "execution_count": 73,
   "metadata": {
    "collapsed": false
   },
   "outputs": [
    {
     "data": {
      "text/plain": [
       "0.91946384269757764"
      ]
     },
     "execution_count": 73,
     "metadata": {},
     "output_type": "execute_result"
    }
   ],
   "source": [
    "roc_auc_score(y_train, clf.predict_proba(X_train_normalized)[:, 1])"
   ]
  },
  {
   "cell_type": "code",
   "execution_count": 74,
   "metadata": {
    "collapsed": false
   },
   "outputs": [
    {
     "data": {
      "text/plain": [
       "0.80964752158967479"
      ]
     },
     "execution_count": 74,
     "metadata": {},
     "output_type": "execute_result"
    }
   ],
   "source": [
    "roc_auc_score(y_valid, clf.predict_proba(X_valid_normalized)[:, 1])"
   ]
  },
  {
   "cell_type": "code",
   "execution_count": 75,
   "metadata": {
    "collapsed": false
   },
   "outputs": [
    {
     "data": {
      "text/plain": [
       "0.7757257125997804"
      ]
     },
     "execution_count": 75,
     "metadata": {},
     "output_type": "execute_result"
    }
   ],
   "source": [
    "roc_auc_score(y_test, clf.predict_proba(X_test_normalized)[:, 1])"
   ]
  },
  {
   "cell_type": "code",
   "execution_count": 76,
   "metadata": {
    "collapsed": false
   },
   "outputs": [
    {
     "data": {
      "text/plain": [
       "(1, 5760)"
      ]
     },
     "execution_count": 76,
     "metadata": {},
     "output_type": "execute_result"
    }
   ],
   "source": [
    "clf.coef_.shape"
   ]
  },
  {
   "cell_type": "code",
   "execution_count": 70,
   "metadata": {
    "collapsed": false
   },
   "outputs": [],
   "source": [
    "w=clf.coef_.reshape(clf.coef_.shape[1])"
   ]
  },
  {
   "cell_type": "code",
   "execution_count": 44,
   "metadata": {
    "collapsed": false
   },
   "outputs": [],
   "source": [
    "score_per_feature_node1=w[0:5760:3]\n",
    "score_per_feature_node2=w[1:5761:3]\n",
    "score_per_feature_window=w[2:5762:3]"
   ]
  },
  {
   "cell_type": "code",
   "execution_count": 45,
   "metadata": {
    "collapsed": false
   },
   "outputs": [],
   "source": [
    "motif_names=np.loadtxt('/users/mtaranov/datasets_3d/dist_matched_pe/motifs/d0_thres_0_test_pe_out_btw_nodes_3_0.0001/motif_names.txt', dtype=str, delimiter='/')[:,6:].reshape(640,)\n",
    "top_3_hits_names=[]\n",
    "for i in motif_names:\n",
    "    for j in range(3):\n",
    "        top_3_hits_names.append(i)\n",
    "top_3_hits_names = np.array(top_3_hits_names)"
   ]
  },
  {
   "cell_type": "code",
   "execution_count": 46,
   "metadata": {
    "collapsed": true
   },
   "outputs": [],
   "source": [
    "DeepLift_Motifs_node1=top_3_hits_names[score_per_feature_node1.argsort()[::-1]]\n",
    "DeepLift_Motifs_node2=top_3_hits_names[score_per_feature_node2.argsort()[::-1]]\n",
    "DeepLift_Motifs_window=top_3_hits_names[score_per_feature_window.argsort()[::-1]]"
   ]
  },
  {
   "cell_type": "code",
   "execution_count": 47,
   "metadata": {
    "collapsed": false
   },
   "outputs": [
    {
     "data": {
      "text/plain": [
       "array(['HXB6_HUMAN', 'ELF3_HUMAN', 'SRY_HUMAN', 'PRGR_HUMAN', 'SOX7_HUMAN',\n",
       "       'PO6F2_HUMAN', 'ZBT7B_HUMAN', 'ALX4_HUMAN', 'OTX2_HUMAN',\n",
       "       'HXA7_HUMAN', 'FOXK1_HUMAN', 'FOXK1_HUMAN', 'VDR_HUMAN',\n",
       "       'PITX1_HUMAN', 'SOX4_HUMAN', 'PO3F1_HUMAN', 'ATOH1_HUMAN',\n",
       "       'ZBED1_HUMAN', 'ATOH1_HUMAN', 'ESX1_HUMAN', 'ESX1_HUMAN',\n",
       "       'ESX1_HUMAN', 'ZBED1_HUMAN', 'PO3F1_HUMAN', 'PO3F3_HUMAN',\n",
       "       'SOX4_HUMAN', 'PO3F3_HUMAN', 'PO3F3_HUMAN', 'ERR2_HUMAN',\n",
       "       'PO3F1_HUMAN', 'ERR2_HUMAN', 'ERR2_HUMAN', 'STAT2_HUMAN',\n",
       "       'SOX4_HUMAN', 'ATOH1_HUMAN', 'NKX25_HUMAN', 'STAT2_HUMAN',\n",
       "       'KLF12_HUMAN', 'NR2E1_HUMAN', 'NR2E1_HUMAN', 'NR2E1_HUMAN',\n",
       "       'HXD12_HUMAN', 'HXD12_HUMAN', 'HXD12_HUMAN', 'KLF14_HUMAN',\n",
       "       'KLF14_HUMAN', 'KLF14_HUMAN', 'SOX8_HUMAN', 'SOX8_HUMAN',\n",
       "       'SOX8_HUMAN', 'KLF12_HUMAN', 'STAT2_HUMAN', 'KLF12_HUMAN',\n",
       "       'HXA2_HUMAN', 'HXA2_HUMAN', 'HXA2_HUMAN', 'ZEP1_HUMAN',\n",
       "       'ZEP1_HUMAN', 'MAFK_HUMAN', 'MAFK_HUMAN', 'MAFK_HUMAN',\n",
       "       'NKX25_HUMAN', 'FOXG1_HUMAN', 'NKX25_HUMAN', 'ZBED1_HUMAN',\n",
       "       'HMGA2_HUMAN', 'FOXG1_HUMAN', 'UBIP1_HUMAN', 'FOXD3_HUMAN',\n",
       "       'FOXD3_HUMAN', 'VDR_HUMAN', 'VDR_HUMAN', 'NR4A3_HUMAN',\n",
       "       'NR4A3_HUMAN', 'NR4A3_HUMAN', 'CDC5L_HUMAN', 'CDC5L_HUMAN',\n",
       "       'CDC5L_HUMAN', 'UBIP1_HUMAN', 'UBIP1_HUMAN', 'RUNX1_HUMAN',\n",
       "       'FOS_HUMAN', 'RUNX1_HUMAN', 'RUNX1_HUMAN', 'IRF7_HUMAN',\n",
       "       'IRF7_HUMAN', 'IRF7_HUMAN', 'CEBPZ_HUMAN', 'CEBPZ_HUMAN',\n",
       "       'CEBPZ_HUMAN', 'KLF13_HUMAN', 'KLF13_HUMAN', 'KLF13_HUMAN',\n",
       "       'SHOX2_HUMAN', 'FOXD3_HUMAN', 'FOS_HUMAN', 'FOXG1_HUMAN',\n",
       "       'CUX2_HUMAN', 'PO4F3_HUMAN', 'FOXJ3_HUMAN'], \n",
       "      dtype='|S11')"
      ]
     },
     "execution_count": 47,
     "metadata": {},
     "output_type": "execute_result"
    }
   ],
   "source": [
    "DeepLift_Motifs_node1[:100]"
   ]
  },
  {
   "cell_type": "code",
   "execution_count": 48,
   "metadata": {
    "collapsed": false
   },
   "outputs": [
    {
     "data": {
      "text/plain": [
       "array(['ETV3_HUMAN', 'ZBT18_HUMAN', 'IRF3_HUMAN', 'OTX2_HUMAN',\n",
       "       'ITF2_HUMAN', 'ERR2_HUMAN', 'ERR2_HUMAN', 'PO3F3_HUMAN',\n",
       "       'PO3F3_HUMAN', 'HMGA2_HUMAN', 'ESX1_HUMAN', 'SOX4_HUMAN',\n",
       "       'ESX1_HUMAN', 'ESX1_HUMAN', 'ATOH1_HUMAN', 'ATOH1_HUMAN',\n",
       "       'ERR2_HUMAN', 'PO3F1_HUMAN', 'SOX4_HUMAN', 'SOX4_HUMAN',\n",
       "       'STAT2_HUMAN', 'PO3F1_HUMAN', 'PO3F1_HUMAN', 'ZBED1_HUMAN',\n",
       "       'ZBED1_HUMAN', 'FOXG1_HUMAN', 'FOXG1_HUMAN', 'FOXG1_HUMAN',\n",
       "       'PO4F3_HUMAN', 'PO4F3_HUMAN', 'ATOH1_HUMAN', 'STAT2_HUMAN',\n",
       "       'STAT2_HUMAN', 'KLF12_HUMAN', 'NR2E1_HUMAN', 'NR2E1_HUMAN',\n",
       "       'NR2E1_HUMAN', 'HXD12_HUMAN', 'HXD12_HUMAN', 'HXD12_HUMAN',\n",
       "       'KLF14_HUMAN', 'KLF14_HUMAN', 'SOX8_HUMAN', 'SOX8_HUMAN',\n",
       "       'SOX8_HUMAN', 'KLF12_HUMAN', 'KLF12_HUMAN', 'MLX_HUMAN',\n",
       "       'HXA2_HUMAN', 'HXA2_HUMAN', 'HXA2_HUMAN', 'ZEP1_HUMAN',\n",
       "       'ZEP1_HUMAN', 'ZEP1_HUMAN', 'MAFK_HUMAN', 'MAFK_HUMAN',\n",
       "       'MAFK_HUMAN', 'NKX25_HUMAN', 'NKX25_HUMAN', 'NKX25_HUMAN',\n",
       "       'PO4F3_HUMAN', 'MLX_HUMAN', 'MLX_HUMAN', 'RUNX1_HUMAN', 'VDR_HUMAN',\n",
       "       'NR4A3_HUMAN', 'NR4A3_HUMAN', 'NR4A3_HUMAN', 'CDC5L_HUMAN',\n",
       "       'CDC5L_HUMAN', 'CDC5L_HUMAN', 'UBIP1_HUMAN', 'UBIP1_HUMAN',\n",
       "       'UBIP1_HUMAN', 'RUNX1_HUMAN', 'RUNX1_HUMAN', 'IRF7_HUMAN',\n",
       "       'FOXJ3_HUMAN', 'IRF7_HUMAN', 'IRF7_HUMAN', 'CEBPZ_HUMAN',\n",
       "       'CEBPZ_HUMAN', 'CEBPZ_HUMAN', 'KLF13_HUMAN', 'KLF13_HUMAN',\n",
       "       'KLF13_HUMAN', 'SHOX2_HUMAN', 'SHOX2_HUMAN', 'SHOX2_HUMAN',\n",
       "       'RX_HUMAN', 'VDR_HUMAN', 'VDR_HUMAN', 'FOXD3_HUMAN', 'FOXD3_HUMAN',\n",
       "       'VSX2_HUMAN', 'VSX2_HUMAN', 'VSX2_HUMAN', 'SP1_HUMAN', 'SP1_HUMAN',\n",
       "       'SP1_HUMAN'], \n",
       "      dtype='|S11')"
      ]
     },
     "execution_count": 48,
     "metadata": {},
     "output_type": "execute_result"
    }
   ],
   "source": [
    "DeepLift_Motifs_node2[:100]"
   ]
  },
  {
   "cell_type": "code",
   "execution_count": 49,
   "metadata": {
    "collapsed": false
   },
   "outputs": [
    {
     "data": {
      "text/plain": [
       "array(['E2F8_HUMAN', 'HXD12_HUMAN', 'MEOX2_HUMAN', 'PAX3_HUMAN',\n",
       "       'NFAC1_HUMAN', 'ZN423_HUMAN', 'EMX1_HUMAN', 'SOX17_HUMAN',\n",
       "       'ALX3_HUMAN', 'CPEB1_HUMAN', 'PO3F1_HUMAN', 'HXB1_HUMAN',\n",
       "       'EMX1_HUMAN', 'MEIS3_HUMAN', 'HSFY1_HUMAN', 'RXRA_HUMAN',\n",
       "       'RARG_HUMAN', 'ZIC1_HUMAN', 'THAP1_HUMAN', 'SPIC_HUMAN',\n",
       "       'NKX62_HUMAN', 'PBX3_HUMAN', 'THAP1_HUMAN', 'P63_HUMAN',\n",
       "       'ARI5B_HUMAN', 'FOXD2_HUMAN', 'PAX8_HUMAN', 'ZFHX3_HUMAN',\n",
       "       'KLF3_HUMAN', 'THAP1_HUMAN', 'ID4_HUMAN', 'NKX32_HUMAN',\n",
       "       'CR3L2_HUMAN', 'NANOG_HUMAN', 'LHX8_HUMAN', 'CRX_HUMAN',\n",
       "       'CEBPD_HUMAN', 'ATF1_HUMAN', 'VSX1_HUMAN', 'EGR2_HUMAN',\n",
       "       'RARG_HUMAN', 'P73_HUMAN', 'GBX2_HUMAN', 'TAL1_HUMAN', 'EGR3_HUMAN',\n",
       "       'FOXO3_HUMAN', 'ZSC16_HUMAN', 'BATF_HUMAN', 'DDIT3_HUMAN',\n",
       "       'CR3L2_HUMAN', 'ESX1_HUMAN', 'VAX2_HUMAN', 'ZIC1_HUMAN',\n",
       "       'ZN232_HUMAN', 'RARB_HUMAN', 'SOX3_HUMAN', 'TLX1_HUMAN',\n",
       "       'PDX1_HUMAN', 'CTCF_HUMAN', 'HXD12_HUMAN', 'ESX1_HUMAN',\n",
       "       'CRX_HUMAN', 'NKX25_HUMAN', 'ISL2_HUMAN', 'PITX1_HUMAN',\n",
       "       'GCM2_HUMAN', 'BACH1_HUMAN', 'NKX25_HUMAN', 'ATOH1_HUMAN',\n",
       "       'VDR_HUMAN', 'VDR_HUMAN', 'STAT2_HUMAN', 'STAT2_HUMAN',\n",
       "       'ATOH1_HUMAN', 'ATOH1_HUMAN', 'STAT2_HUMAN', 'VDR_HUMAN',\n",
       "       'NKX25_HUMAN', 'LBX2_HUMAN', 'MAFK_HUMAN', 'HXA2_HUMAN',\n",
       "       'KLF12_HUMAN', 'KLF12_HUMAN', 'RUNX1_HUMAN', 'UBIP1_HUMAN',\n",
       "       'HXA2_HUMAN', 'UBIP1_HUMAN', 'UBIP1_HUMAN', 'HXA2_HUMAN',\n",
       "       'CDC5L_HUMAN', 'NR4A3_HUMAN', 'CDC5L_HUMAN', 'ZEP1_HUMAN',\n",
       "       'ZEP1_HUMAN', 'ZEP1_HUMAN', 'NR4A3_HUMAN', 'MAFK_HUMAN',\n",
       "       'ESX1_HUMAN', 'MAFK_HUMAN', 'NR4A3_HUMAN'], \n",
       "      dtype='|S11')"
      ]
     },
     "execution_count": 49,
     "metadata": {},
     "output_type": "execute_result"
    }
   ],
   "source": [
    "DeepLift_Motifs_window[:100]"
   ]
  },
  {
   "cell_type": "code",
   "execution_count": 50,
   "metadata": {
    "collapsed": false
   },
   "outputs": [
    {
     "name": "stdout",
     "output_type": "stream",
     "text": [
      "45 40 70\n"
     ]
    }
   ],
   "source": [
    "N=100\n",
    "from sets import Set\n",
    "uniq_node1 = Set(DeepLift_Motifs_node1[:N])\n",
    "uniq_node2 = Set(DeepLift_Motifs_node2[:N])\n",
    "uniq_window = Set(DeepLift_Motifs_window[:N])\n",
    "print len(uniq_node1), len(uniq_node2), len(uniq_window)"
   ]
  },
  {
   "cell_type": "code",
   "execution_count": 51,
   "metadata": {
    "collapsed": false
   },
   "outputs": [
    {
     "data": {
      "text/plain": [
       "Set(['RUNX1_HUMAN', 'OTX2_HUMAN', 'VDR_HUMAN', 'ZBED1_HUMAN', 'NKX25_HUMAN', 'CEBPZ_HUMAN', 'MAFK_HUMAN', 'FOXD3_HUMAN', 'FOXG1_HUMAN', 'STAT2_HUMAN', 'PO4F3_HUMAN', 'PO3F1_HUMAN', 'ATOH1_HUMAN', 'KLF14_HUMAN', 'SOX8_HUMAN', 'HXD12_HUMAN', 'CDC5L_HUMAN', 'ZEP1_HUMAN', 'ERR2_HUMAN', 'ESX1_HUMAN', 'NR2E1_HUMAN', 'SOX4_HUMAN', 'UBIP1_HUMAN', 'KLF13_HUMAN', 'NR4A3_HUMAN', 'IRF7_HUMAN', 'FOXJ3_HUMAN', 'KLF12_HUMAN', 'HXA2_HUMAN', 'SHOX2_HUMAN', 'HMGA2_HUMAN', 'PO3F3_HUMAN'])"
      ]
     },
     "execution_count": 51,
     "metadata": {},
     "output_type": "execute_result"
    }
   ],
   "source": [
    "uniq_node1 & uniq_node2"
   ]
  },
  {
   "cell_type": "code",
   "execution_count": 52,
   "metadata": {
    "collapsed": false
   },
   "outputs": [
    {
     "data": {
      "text/plain": [
       "Set(['UBIP1_HUMAN', 'HXD12_HUMAN', 'NR4A3_HUMAN', 'STAT2_HUMAN', 'CDC5L_HUMAN', 'VDR_HUMAN', 'KLF12_HUMAN', 'HXA2_HUMAN', 'ESX1_HUMAN', 'PO3F1_HUMAN', 'NKX25_HUMAN', 'ATOH1_HUMAN', 'RUNX1_HUMAN', 'ZEP1_HUMAN', 'MAFK_HUMAN'])"
      ]
     },
     "execution_count": 52,
     "metadata": {},
     "output_type": "execute_result"
    }
   ],
   "source": [
    "uniq_node1 & uniq_node2 & uniq_window"
   ]
  },
  {
   "cell_type": "markdown",
   "metadata": {},
   "source": [
    "# Compare with DeepLift"
   ]
  },
  {
   "cell_type": "code",
   "execution_count": 59,
   "metadata": {
    "collapsed": false
   },
   "outputs": [
    {
     "data": {
      "text/plain": [
       "Set(['FOXD3_HUMAN', 'SOX8_HUMAN', 'PO6F2_HUMAN', 'VDR_HUMAN', 'ERR2_HUMAN', 'PRGR_HUMAN', 'ZBT7B_HUMAN', 'CEBPZ_HUMAN', 'KLF14_HUMAN', 'PO3F3_HUMAN'])"
      ]
     },
     "execution_count": 59,
     "metadata": {},
     "output_type": "execute_result"
    }
   ],
   "source": [
    "uniq_node1 & Set(['MEOX1_HUMAN', 'TGIF1_HUMAN', 'PHX2B_HUMAN', 'RX_HUMAN',\n",
    "       'RXRA_HUMAN', 'CEBPZ_HUMAN', 'PRGR_HUMAN', 'MUSC_HUMAN',\n",
    "       'ZN740_HUMAN', 'HXB8_HUMAN', 'NOBOX_HUMAN', 'HEN1_HUMAN',\n",
    "       'KLF14_HUMAN', 'ESR2_HUMAN', 'RARA_HUMAN', 'EMX2_HUMAN',\n",
    "       'MEF2D_HUMAN', 'NR2E3_HUMAN', 'MGAP_HUMAN', 'PO6F1_HUMAN',\n",
    "       'TBX5_HUMAN', 'HIF1A_HUMAN', 'NDF2_HUMAN', 'COT1_HUMAN',\n",
    "       'TFDP1_HUMAN', 'MNX1_HUMAN', 'FOXD3_HUMAN', 'ETV2_HUMAN',\n",
    "       'JUND_HUMAN', 'MEF2D_HUMAN', 'ATF7_HUMAN', 'FOXP2_HUMAN',\n",
    "       'GLIS3_HUMAN', 'ZN589_HUMAN', 'COT1_HUMAN', 'REL_HUMAN',\n",
    "       'ELF1_HUMAN', 'TEAD3_HUMAN', 'MLX_HUMAN', 'EGR2_HUMAN', 'P53_HUMAN',\n",
    "       'DUXA_HUMAN', 'GLIS3_HUMAN', 'VSX2_HUMAN', 'MTF1_HUMAN',\n",
    "       'TBX3_HUMAN', 'VDR_HUMAN', 'EGR1_HUMAN', 'DMBX1_HUMAN',\n",
    "       'TEAD3_HUMAN', 'PO4F1_HUMAN', 'ZIC3_HUMAN', 'GABPA_HUMAN',\n",
    "       'PO3F3_HUMAN', 'FOXO3_HUMAN', 'PBX2_HUMAN', 'KLF14_HUMAN',\n",
    "       'FLI1_HUMAN', 'FOXC2_HUMAN', 'GFI1_HUMAN', 'FOXM1_HUMAN',\n",
    "       'HTF4_HUMAN', 'TFE3_HUMAN', 'ESR1_HUMAN', 'TFDP1_HUMAN',\n",
    "       'PIT1_HUMAN', 'CR3L1_HUMAN', 'GCR_HUMAN', 'CEBPZ_HUMAN',\n",
    "       'ZN143_HUMAN', 'NFAC1_HUMAN', 'CENPB_HUMAN', 'HEN1_HUMAN',\n",
    "       'KLF3_HUMAN', 'NR1H2_HUMAN', 'ZBT7B_HUMAN', 'ALX3_HUMAN',\n",
    "       'DLX5_HUMAN', 'NR5A2_HUMAN', 'RXRB_HUMAN', 'NR4A2_HUMAN',\n",
    "       'ASCL2_HUMAN', 'GCM1_HUMAN', 'NFAC3_HUMAN', 'COT2_HUMAN',\n",
    "       'PIT1_HUMAN', 'EGR1_HUMAN', 'MNT_HUMAN', 'SHOX_HUMAN',\n",
    "       'PO6F2_HUMAN', 'NFE2_HUMAN', 'P73_HUMAN', 'JDP2_HUMAN',\n",
    "       'LHX6_HUMAN', 'SOX8_HUMAN', 'XBP1_HUMAN', 'BHE23_HUMAN',\n",
    "       'SNAI2_HUMAN', 'ERR2_HUMAN', 'KLF15_HUMAN'])"
   ]
  },
  {
   "cell_type": "code",
   "execution_count": 61,
   "metadata": {
    "collapsed": false
   },
   "outputs": [
    {
     "data": {
      "text/plain": [
       "Set(['KLF13_HUMAN', 'SP1_HUMAN', 'KLF14_HUMAN', 'ETV3_HUMAN', 'SHOX2_HUMAN'])"
      ]
     },
     "execution_count": 61,
     "metadata": {},
     "output_type": "execute_result"
    }
   ],
   "source": [
    "uniq_node2 & Set(['GATA4_HUMAN', 'ETV2_HUMAN', 'TEAD4_HUMAN', 'HXB6_HUMAN',\n",
    "       'HXB13_HUMAN', 'FUBP1_HUMAN', 'ZN524_HUMAN', 'HXB6_HUMAN',\n",
    "       'NR2E3_HUMAN', 'TGIF1_HUMAN', 'ELF1_HUMAN', 'TYY1_HUMAN',\n",
    "       'PO3F2_HUMAN', 'STA5B_HUMAN', 'HXA13_HUMAN', 'HXD8_HUMAN',\n",
    "       'ASCL2_HUMAN', 'ELK4_HUMAN', 'ELF3_HUMAN', 'SPDEF_HUMAN',\n",
    "       'ESR2_HUMAN', 'CEBPB_HUMAN', 'NR2C2_HUMAN', 'ELF5_HUMAN',\n",
    "       'MEOX1_HUMAN', 'SOX11_HUMAN', 'TAL1_HUMAN', 'NFKB1_HUMAN',\n",
    "       'RUNX2_HUMAN', 'HBP1_HUMAN', 'NKX21_HUMAN', 'PHX2B_HUMAN',\n",
    "       'BATF_HUMAN', 'TFDP1_HUMAN', 'HXD8_HUMAN', 'HXD11_HUMAN',\n",
    "       'TF7L1_HUMAN', 'GMEB2_HUMAN', 'PPARA_HUMAN', 'NR2C2_HUMAN',\n",
    "       'SP1_HUMAN', 'HMGA1_HUMAN', 'NFAC1_HUMAN', 'ETV3_HUMAN',\n",
    "       'MITF_HUMAN', 'HMX3_HUMAN', 'NR4A1_HUMAN', 'KLF16_HUMAN',\n",
    "       'KLF14_HUMAN', 'DLX4_HUMAN', 'XBP1_HUMAN', 'CTCFL_HUMAN',\n",
    "       'TFDP1_HUMAN', 'ATF3_HUMAN', 'BARX2_HUMAN', 'ERR1_HUMAN',\n",
    "       'KLF16_HUMAN', 'STAT1_HUMAN', 'HXC12_HUMAN', 'NR1I2_HUMAN',\n",
    "       'FOXO6_HUMAN', 'TBX3_HUMAN', 'LMX1A_HUMAN', 'COT2_HUMAN',\n",
    "       'EGR3_HUMAN', 'SHOX2_HUMAN', 'SP3_HUMAN', 'LHX8_HUMAN',\n",
    "       'CTCF_HUMAN', 'JUND_HUMAN', 'ZN524_HUMAN', 'EOMES_HUMAN',\n",
    "       'SOX13_HUMAN', 'CREB5_HUMAN', 'ARNT_HUMAN', 'GCR_HUMAN',\n",
    "       'PITX2_HUMAN', 'COT1_HUMAN', 'HES1_HUMAN', 'ZKSC3_HUMAN',\n",
    "       'VSX1_HUMAN', 'TBR1_HUMAN', 'CREM_HUMAN', 'NR2F6_HUMAN',\n",
    "       'KLF13_HUMAN', 'PRD14_HUMAN', 'ZN639_HUMAN', 'P73_HUMAN',\n",
    "       'HINFP_HUMAN', 'EGR3_HUMAN', 'ELF5_HUMAN', 'P63_HUMAN',\n",
    "       'LBX2_HUMAN', 'GSX2_HUMAN', 'MLXPL_HUMAN', 'GCM1_HUMAN',\n",
    "       'MAFG_HUMAN', 'HESX1_HUMAN', 'NANOG_HUMAN', 'MBD2_HUMAN'])"
   ]
  },
  {
   "cell_type": "code",
   "execution_count": null,
   "metadata": {
    "collapsed": true
   },
   "outputs": [],
   "source": []
  }
 ],
 "metadata": {
  "anaconda-cloud": {},
  "kernelspec": {
   "display_name": "Python [default]",
   "language": "python",
   "name": "python2"
  },
  "language_info": {
   "codemirror_mode": {
    "name": "ipython",
    "version": 2
   },
   "file_extension": ".py",
   "mimetype": "text/x-python",
   "name": "python",
   "nbconvert_exporter": "python",
   "pygments_lexer": "ipython2",
   "version": "2.7.12"
  }
 },
 "nbformat": 4,
 "nbformat_minor": 0
}
