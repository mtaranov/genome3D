{
 "cells": [
  {
   "cell_type": "code",
   "execution_count": 8,
   "metadata": {
    "collapsed": false
   },
   "outputs": [
    {
     "name": "stdout",
     "output_type": "stream",
     "text": [
      "The autoreload extension is already loaded. To reload it, use:\n",
      "  %reload_ext autoreload\n"
     ]
    }
   ],
   "source": [
    "%matplotlib inline\n",
    "%load_ext autoreload\n",
    "%autoreload 2\n",
    "\n",
    "import sys\n",
    "import numpy as np\n",
    "import matplotlib.pyplot as plt\n",
    "import pickle\n",
    "from sklearn.preprocessing import MinMaxScaler, StandardScaler\n",
    "sys.path.append('/users/mtaranov/genome3D/')\n",
    "from models_3d import Genome3D_DNN_FC\n",
    "from utils import normalize_features_sampl_by_f, concat_motifs, get_features, get_labels, subsample_data, normalize_features, reconstruct_2d, printMatrix, binarize, zscore, get_2D, plot_prediction, change_scale\n",
    "#from sklearn.preprocessing import MinMaxScaler, StandardScaler"
   ]
  },
  {
   "cell_type": "code",
   "execution_count": 9,
   "metadata": {
    "collapsed": false
   },
   "outputs": [],
   "source": [
    "contacts='pe'\n",
    "path='/users/mtaranov/datasets_3d/by_chr_dist_matched_'+contacts+'/'\n",
    "day='d0'\n",
    "thres='10'\n",
    "\n",
    "X_train_node1 = path+'motifs/'+day+'_thres_'+thres+'_train_'+contacts+'_out_node1_3_0.0001/mat.npy'\n",
    "X_train_node2 = path+'motifs/'+day+'_thres_'+thres+'_train_'+contacts+'_out_node2_3_0.0001/mat.npy'\n",
    "X_train_window = path+'motifs/'+day+'_thres_'+thres+'_train_'+contacts+'_out_btw_nodes_3_0.0001/mat.npy'\n",
    "\n",
    "\n",
    "X_test_node1 = path+'motifs/'+day+'_thres_'+thres+'_test_'+contacts+'_out_node1_3_0.0001/mat.npy'\n",
    "X_test_node2 = path+'motifs/'+day+'_thres_'+thres+'_test_'+contacts+'_out_node2_3_0.0001/mat.npy'\n",
    "X_test_window = path+'motifs/'+day+'_thres_'+thres+'_test_'+contacts+'_out_btw_nodes_3_0.0001/mat.npy'\n",
    "\n",
    "X_valid_node1 = path+'motifs/'+day+'_thres_'+thres+'_valid_'+contacts+'_out_node1_3_0.0001/mat.npy'\n",
    "X_valid_node2 = path+'motifs/'+day+'_thres_'+thres+'_valid_'+contacts+'_out_node2_3_0.0001/mat.npy'\n",
    "X_valid_window = path+'motifs/'+day+'_thres_'+thres+'_valid_'+contacts+'_out_btw_nodes_3_0.0001/mat.npy'\n",
    "\n",
    "y_train = get_labels(path+day+'_y_train_thres_'+thres+'.npy')\n",
    "y_test = get_labels(path+day+'_y_test_thres_'+thres+'.npy')\n",
    "y_valid = get_labels(path+day+'_y_valid_thres_'+thres+'.npy')\n",
    "\n",
    "X_train=concat_motifs([X_train_node1, X_train_node2, X_train_window])\n",
    "X_test=concat_motifs([X_test_node1, X_test_node2, X_test_window])\n",
    "X_valid=concat_motifs([X_valid_node1, X_valid_node2, X_valid_window])"
   ]
  },
  {
   "cell_type": "code",
   "execution_count": 10,
   "metadata": {
    "collapsed": false
   },
   "outputs": [],
   "source": [
    "X_train_pairs = X_train.reshape(X_train.shape[0],X_train.shape[2]*X_train.shape[3])\n",
    "X_valid_pairs = X_valid.reshape(X_valid.shape[0],X_valid.shape[2]*X_valid.shape[3])\n",
    "X_test_pairs = X_test.reshape(X_test.shape[0],X_test.shape[2]*X_test.shape[3])"
   ]
  },
  {
   "cell_type": "code",
   "execution_count": 11,
   "metadata": {
    "collapsed": false
   },
   "outputs": [],
   "source": [
    "X_train_normalized, X_valid_normalized, X_test_normalized = normalize_features_sampl_by_f(X_train_pairs, X_valid_pairs, X_test_pairs)"
   ]
  },
  {
   "cell_type": "markdown",
   "metadata": {},
   "source": [
    "# from motifs"
   ]
  },
  {
   "cell_type": "code",
   "execution_count": 12,
   "metadata": {
    "collapsed": false
   },
   "outputs": [
    {
     "name": "stdout",
     "output_type": "stream",
     "text": [
      "Training model...\n",
      "Train on 6710 samples, validate on 1796 samples\n",
      "Epoch 1/100\n",
      "6500/6710 [============================>.] - ETA: 0s - loss: 1.3667Epoch 0: validation loss: 0.795\n",
      "Balanced Accuracy: 57.85%\tauROC: 0.691\t auPRC: 0.669\n",
      "Positve Accuracy: 0.11%\t Negative Accuracy: 27.06%\n",
      "Recall at 5% | 10% | 25% | 50% FDR: 88.6% | 0.1% | 16.5% | 99.7%\tNum Positives: 898\t Num Negatives: 898\n",
      "\n",
      "\n",
      "6710/6710 [==============================] - 7s - loss: 1.3626 - val_loss: 0.7945\n",
      "Epoch 2/100\n",
      "6500/6710 [============================>.] - ETA: 0s - loss: 1.0028Epoch 1: validation loss: 0.685\n",
      "Balanced Accuracy: 64.37%\tauROC: 0.723\t auPRC: 0.706\n",
      "Positve Accuracy: 0.00%\t Negative Accuracy: 44.65%\n",
      "Recall at 5% | 10% | 25% | 50% FDR: 84.1% | 0.0% | 41.5% | 100.0%\tNum Positives: 898\t Num Negatives: 898\n",
      "\n",
      "\n",
      "6710/6710 [==============================] - 7s - loss: 0.9979 - val_loss: 0.6853\n",
      "Epoch 3/100\n",
      "6500/6710 [============================>.] - ETA: 0s - loss: 0.7963Epoch 2: validation loss: 0.632\n",
      "Balanced Accuracy: 66.87%\tauROC: 0.742\t auPRC: 0.727\n",
      "Positve Accuracy: 0.11%\t Negative Accuracy: 53.90%\n",
      "Recall at 5% | 10% | 25% | 50% FDR: 79.8% | 0.1% | 47.7% | 100.0%\tNum Positives: 898\t Num Negatives: 898\n",
      "\n",
      "\n",
      "6710/6710 [==============================] - 7s - loss: 0.7948 - val_loss: 0.6321\n",
      "Epoch 4/100\n",
      "6500/6710 [============================>.] - ETA: 0s - loss: 0.6521Epoch 3: validation loss: 0.618\n",
      "Balanced Accuracy: 68.76%\tauROC: 0.745\t auPRC: 0.738\n",
      "Positve Accuracy: 0.33%\t Negative Accuracy: 56.57%\n",
      "Recall at 5% | 10% | 25% | 50% FDR: 81.0% | 0.3% | 52.0% | 100.0%\tNum Positives: 898\t Num Negatives: 898\n",
      "\n",
      "\n",
      "6710/6710 [==============================] - 7s - loss: 0.6488 - val_loss: 0.6180\n",
      "Epoch 5/100\n",
      "6500/6710 [============================>.] - ETA: 0s - loss: 0.5454Epoch 4: validation loss: 0.599\n",
      "Balanced Accuracy: 70.49%\tauROC: 0.758\t auPRC: 0.749\n",
      "Positve Accuracy: 1.11%\t Negative Accuracy: 63.25%\n",
      "Recall at 5% | 10% | 25% | 50% FDR: 77.7% | 1.3% | 57.1% | 100.0%\tNum Positives: 898\t Num Negatives: 898\n",
      "\n",
      "\n",
      "6710/6710 [==============================] - 7s - loss: 0.5434 - val_loss: 0.5993\n",
      "Epoch 6/100\n",
      "6500/6710 [============================>.] - ETA: 0s - loss: 0.4527Epoch 5: validation loss: 0.597\n",
      "Balanced Accuracy: 70.21%\tauROC: 0.760\t auPRC: 0.748\n",
      "Positve Accuracy: 0.33%\t Negative Accuracy: 65.14%\n",
      "Recall at 5% | 10% | 25% | 50% FDR: 75.3% | 0.3% | 57.2% | 100.0%\tNum Positives: 898\t Num Negatives: 898\n",
      "\n",
      "\n",
      "6710/6710 [==============================] - 7s - loss: 0.4499 - val_loss: 0.5975\n",
      "Epoch 7/100\n",
      "6500/6710 [============================>.] - ETA: 0s - loss: 0.3799Epoch 6: validation loss: 0.613\n",
      "Balanced Accuracy: 69.38%\tauROC: 0.749\t auPRC: 0.740\n",
      "Positve Accuracy: 1.00%\t Negative Accuracy: 66.48%\n",
      "Recall at 5% | 10% | 25% | 50% FDR: 72.3% | 2.4% | 44.4% | 100.0%\tNum Positives: 898\t Num Negatives: 898\n",
      "\n",
      "\n",
      "6710/6710 [==============================] - 6s - loss: 0.3808 - val_loss: 0.6129\n",
      "Epoch 8/100\n",
      "6500/6710 [============================>.] - ETA: 0s - loss: 0.3194Epoch 7: validation loss: 0.604\n",
      "Balanced Accuracy: 69.99%\tauROC: 0.758\t auPRC: 0.756\n",
      "Positve Accuracy: 3.45%\t Negative Accuracy: 68.71%\n",
      "Recall at 5% | 10% | 25% | 50% FDR: 71.3% | 11.5% | 53.7% | 100.0%\tNum Positives: 898\t Num Negatives: 898\n",
      "\n",
      "\n",
      "6710/6710 [==============================] - 7s - loss: 0.3187 - val_loss: 0.6041\n",
      "Epoch 9/100\n",
      "6500/6710 [============================>.] - ETA: 0s - loss: 0.2696Epoch 8: validation loss: 0.592\n",
      "Balanced Accuracy: 71.33%\tauROC: 0.773\t auPRC: 0.765\n",
      "Positve Accuracy: 0.67%\t Negative Accuracy: 70.94%\n",
      "Recall at 5% | 10% | 25% | 50% FDR: 71.7% | 9.0% | 59.7% | 100.0%\tNum Positives: 898\t Num Negatives: 898\n",
      "\n",
      "\n",
      "6710/6710 [==============================] - 7s - loss: 0.2700 - val_loss: 0.5921\n",
      "Epoch 10/100\n",
      "6500/6710 [============================>.] - ETA: 0s - loss: 0.2292Epoch 9: validation loss: 0.603\n",
      "Balanced Accuracy: 70.16%\tauROC: 0.768\t auPRC: 0.761\n",
      "Positve Accuracy: 0.89%\t Negative Accuracy: 71.49%\n",
      "Recall at 5% | 10% | 25% | 50% FDR: 68.8% | 11.1% | 55.3% | 100.0%\tNum Positives: 898\t Num Negatives: 898\n",
      "\n",
      "\n",
      "6710/6710 [==============================] - 7s - loss: 0.2303 - val_loss: 0.6026\n",
      "Epoch 11/100\n",
      "6500/6710 [============================>.] - ETA: 0s - loss: 0.1980Epoch 10: validation loss: 0.619\n",
      "Balanced Accuracy: 69.99%\tauROC: 0.759\t auPRC: 0.754\n",
      "Positve Accuracy: 0.67%\t Negative Accuracy: 72.05%\n",
      "Recall at 5% | 10% | 25% | 50% FDR: 67.9% | 11.1% | 47.9% | 100.0%\tNum Positives: 898\t Num Negatives: 898\n",
      "\n",
      "\n",
      "6710/6710 [==============================] - 7s - loss: 0.1969 - val_loss: 0.6187\n",
      "Epoch 12/100\n",
      "6500/6710 [============================>.] - ETA: 0s - loss: 0.1736Epoch 11: validation loss: 0.623\n",
      "Balanced Accuracy: 69.32%\tauROC: 0.760\t auPRC: 0.756\n",
      "Positve Accuracy: 0.56%\t Negative Accuracy: 72.83%\n",
      "Recall at 5% | 10% | 25% | 50% FDR: 65.8% | 14.3% | 49.6% | 100.0%\tNum Positives: 898\t Num Negatives: 898\n",
      "\n",
      "\n",
      "6710/6710 [==============================] - 7s - loss: 0.1728 - val_loss: 0.6228\n",
      "Epoch 13/100\n",
      "6500/6710 [============================>.] - ETA: 0s - loss: 0.1481Epoch 12: validation loss: 0.627\n",
      "Balanced Accuracy: 69.99%\tauROC: 0.763\t auPRC: 0.755\n",
      "Positve Accuracy: 0.33%\t Negative Accuracy: 73.61%\n",
      "Recall at 5% | 10% | 25% | 50% FDR: 66.4% | 9.5% | 51.2% | 100.0%\tNum Positives: 898\t Num Negatives: 898\n",
      "\n",
      "\n",
      "6710/6710 [==============================] - 7s - loss: 0.1483 - val_loss: 0.6272\n",
      "Epoch 14/100\n",
      "6500/6710 [============================>.] - ETA: 0s - loss: 0.1329Epoch 13: validation loss: 0.620\n",
      "Balanced Accuracy: 70.88%\tauROC: 0.772\t auPRC: 0.763\n",
      "Positve Accuracy: 0.22%\t Negative Accuracy: 74.72%\n",
      "Recall at 5% | 10% | 25% | 50% FDR: 67.0% | 10.0% | 52.4% | 100.0%\tNum Positives: 898\t Num Negatives: 898\n",
      "\n",
      "\n",
      "6710/6710 [==============================] - 7s - loss: 0.1326 - val_loss: 0.6197\n",
      "Epoch 15/100\n",
      "6500/6710 [============================>.] - ETA: 0s - loss: 0.1174Epoch 14: validation loss: 0.637\n",
      "Balanced Accuracy: 70.32%\tauROC: 0.764\t auPRC: 0.756\n",
      "Positve Accuracy: 0.45%\t Negative Accuracy: 74.61%\n",
      "Recall at 5% | 10% | 25% | 50% FDR: 66.0% | 10.2% | 50.3% | 100.0%\tNum Positives: 898\t Num Negatives: 898\n",
      "\n",
      "\n",
      "6710/6710 [==============================] - 7s - loss: 0.1170 - val_loss: 0.6372\n",
      "Epoch 16/100\n",
      "6500/6710 [============================>.] - ETA: 0s - loss: 0.1028Epoch 15: validation loss: 0.649\n",
      "Balanced Accuracy: 69.65%\tauROC: 0.761\t auPRC: 0.748\n",
      "Positve Accuracy: 0.00%\t Negative Accuracy: 74.28%\n",
      "Recall at 5% | 10% | 25% | 50% FDR: 65.0% | 9.6% | 50.6% | 100.0%\tNum Positives: 898\t Num Negatives: 898\n",
      "\n",
      "\n",
      "6710/6710 [==============================] - 7s - loss: 0.1026 - val_loss: 0.6489\n",
      "Epoch 17/100\n",
      "6500/6710 [============================>.] - ETA: 0s - loss: 0.0947Epoch 16: validation loss: 0.661\n",
      "Balanced Accuracy: 69.43%\tauROC: 0.756\t auPRC: 0.750\n",
      "Positve Accuracy: 0.67%\t Negative Accuracy: 73.39%\n",
      "Recall at 5% | 10% | 25% | 50% FDR: 65.5% | 11.9% | 49.7% | 100.0%\tNum Positives: 898\t Num Negatives: 898\n",
      "\n",
      "\n",
      "6710/6710 [==============================] - 7s - loss: 0.0944 - val_loss: 0.6609\n",
      "Epoch 18/100\n",
      "6500/6710 [============================>.] - ETA: 0s - loss: 0.0822Epoch 17: validation loss: 0.673\n",
      "Balanced Accuracy: 69.54%\tauROC: 0.755\t auPRC: 0.751\n",
      "Positve Accuracy: 0.67%\t Negative Accuracy: 75.06%\n",
      "Recall at 5% | 10% | 25% | 50% FDR: 64.0% | 11.1% | 49.2% | 100.0%\tNum Positives: 898\t Num Negatives: 898\n",
      "\n",
      "\n",
      "6710/6710 [==============================] - 7s - loss: 0.0827 - val_loss: 0.6732\n",
      "Epoch 19/100\n",
      "6500/6710 [============================>.] - ETA: 0s - loss: 0.0742Epoch 18: validation loss: 0.669\n",
      "Balanced Accuracy: 69.10%\tauROC: 0.758\t auPRC: 0.752\n",
      "Positve Accuracy: 0.56%\t Negative Accuracy: 74.39%\n",
      "Recall at 5% | 10% | 25% | 50% FDR: 63.8% | 10.5% | 50.8% | 100.0%\tNum Positives: 898\t Num Negatives: 898\n",
      "\n",
      "\n",
      "6710/6710 [==============================] - 7s - loss: 0.0743 - val_loss: 0.6687\n",
      "Epoch 20/100\n",
      "6500/6710 [============================>.] - ETA: 0s - loss: 0.0657Epoch 19: validation loss: 0.676\n",
      "Balanced Accuracy: 69.43%\tauROC: 0.760\t auPRC: 0.751\n",
      "Positve Accuracy: 0.22%\t Negative Accuracy: 75.28%\n",
      "Recall at 5% | 10% | 25% | 50% FDR: 63.6% | 8.6% | 50.6% | 100.0%\tNum Positives: 898\t Num Negatives: 898\n",
      "\n",
      "\n",
      "6710/6710 [==============================] - 7s - loss: 0.0659 - val_loss: 0.6761\n",
      "Epoch 21/100\n",
      "6500/6710 [============================>.] - ETA: 0s - loss: 0.0621Epoch 20: validation loss: 0.680\n",
      "Balanced Accuracy: 69.60%\tauROC: 0.759\t auPRC: 0.751\n",
      "Positve Accuracy: 0.22%\t Negative Accuracy: 75.50%\n",
      "Recall at 5% | 10% | 25% | 50% FDR: 63.7% | 8.7% | 50.3% | 100.0%\tNum Positives: 898\t Num Negatives: 898\n",
      "\n",
      "\n",
      "6710/6710 [==============================] - 7s - loss: 0.0619 - val_loss: 0.6800\n",
      "Epoch 22/100\n",
      "6500/6710 [============================>.] - ETA: 0s - loss: 0.0562Epoch 21: validation loss: 0.694\n",
      "Balanced Accuracy: 69.21%\tauROC: 0.756\t auPRC: 0.748\n",
      "Positve Accuracy: 0.11%\t Negative Accuracy: 75.17%\n",
      "Recall at 5% | 10% | 25% | 50% FDR: 63.3% | 11.0% | 49.9% | 100.0%\tNum Positives: 898\t Num Negatives: 898\n",
      "\n",
      "\n",
      "6710/6710 [==============================] - 7s - loss: 0.0559 - val_loss: 0.6937\n",
      "Epoch 23/100\n",
      "6500/6710 [============================>.] - ETA: 0s - loss: 0.0530Epoch 22: validation loss: 0.706\n",
      "Balanced Accuracy: 69.15%\tauROC: 0.754\t auPRC: 0.744\n",
      "Positve Accuracy: 0.11%\t Negative Accuracy: 75.39%\n",
      "Recall at 5% | 10% | 25% | 50% FDR: 62.9% | 10.7% | 48.0% | 100.0%\tNum Positives: 898\t Num Negatives: 898\n",
      "\n",
      "\n",
      "6710/6710 [==============================] - 7s - loss: 0.0528 - val_loss: 0.7063\n",
      "Epoch 24/100\n",
      "6500/6710 [============================>.] - ETA: 0s - loss: 0.0471Epoch 23: validation loss: 0.697\n",
      "Balanced Accuracy: 69.77%\tauROC: 0.763\t auPRC: 0.755\n",
      "Positve Accuracy: 0.22%\t Negative Accuracy: 75.72%\n",
      "Recall at 5% | 10% | 25% | 50% FDR: 63.8% | 12.4% | 51.6% | 100.0%\tNum Positives: 898\t Num Negatives: 898\n",
      "\n",
      "\n",
      "6710/6710 [==============================] - 6s - loss: 0.0471 - val_loss: 0.6973\n",
      "Epoch 25/100\n",
      "6500/6710 [============================>.] - ETA: 0s - loss: 0.0434Epoch 24: validation loss: 0.712\n",
      "Balanced Accuracy: 69.21%\tauROC: 0.758\t auPRC: 0.748\n",
      "Positve Accuracy: 0.00%\t Negative Accuracy: 76.17%\n",
      "Recall at 5% | 10% | 25% | 50% FDR: 62.2% | 9.5% | 47.9% | 100.0%\tNum Positives: 898\t Num Negatives: 898\n",
      "\n",
      "\n",
      "6710/6710 [==============================] - 7s - loss: 0.0435 - val_loss: 0.7125\n",
      "Epoch 26/100\n",
      "6500/6710 [============================>.] - ETA: 0s - loss: 0.0412Epoch 25: validation loss: 0.724\n",
      "Balanced Accuracy: 68.93%\tauROC: 0.753\t auPRC: 0.743\n",
      "Positve Accuracy: 0.11%\t Negative Accuracy: 75.95%\n",
      "Recall at 5% | 10% | 25% | 50% FDR: 61.9% | 8.9% | 45.0% | 100.0%\tNum Positives: 898\t Num Negatives: 898\n",
      "\n",
      "\n",
      "6710/6710 [==============================] - 7s - loss: 0.0413 - val_loss: 0.7238\n",
      "Epoch 27/100\n",
      "6500/6710 [============================>.] - ETA: 0s - loss: 0.0377Epoch 26: validation loss: 0.724\n",
      "Balanced Accuracy: 69.65%\tauROC: 0.757\t auPRC: 0.747\n",
      "Positve Accuracy: 0.00%\t Negative Accuracy: 76.61%\n",
      "Recall at 5% | 10% | 25% | 50% FDR: 62.7% | 14.5% | 48.9% | 100.0%\tNum Positives: 898\t Num Negatives: 898\n",
      "\n",
      "\n",
      "6710/6710 [==============================] - 7s - loss: 0.0376 - val_loss: 0.7235\n",
      "Epoch 28/100\n",
      "6500/6710 [============================>.] - ETA: 0s - loss: 0.0349Epoch 27: validation loss: 0.723\n",
      "Balanced Accuracy: 68.99%\tauROC: 0.758\t auPRC: 0.749\n",
      "Positve Accuracy: 0.11%\t Negative Accuracy: 75.84%\n",
      "Recall at 5% | 10% | 25% | 50% FDR: 62.1% | 14.1% | 49.0% | 100.0%\tNum Positives: 898\t Num Negatives: 898\n",
      "\n",
      "\n",
      "6710/6710 [==============================] - 7s - loss: 0.0348 - val_loss: 0.7225\n",
      "Epoch 29/100\n",
      "6500/6710 [============================>.] - ETA: 0s - loss: 0.0329Epoch 28: validation loss: 0.750\n",
      "Balanced Accuracy: 68.54%\tauROC: 0.751\t auPRC: 0.745\n",
      "Positve Accuracy: 0.11%\t Negative Accuracy: 76.06%\n",
      "Recall at 5% | 10% | 25% | 50% FDR: 61.0% | 14.8% | 45.5% | 100.0%\tNum Positives: 898\t Num Negatives: 898\n",
      "\n",
      "\n",
      "6710/6710 [==============================] - 7s - loss: 0.0328 - val_loss: 0.7497\n",
      "Epoch 30/100\n",
      "6500/6710 [============================>.] - ETA: 0s - loss: 0.0296Epoch 29: validation loss: 0.754\n",
      "Balanced Accuracy: 68.76%\tauROC: 0.752\t auPRC: 0.744\n",
      "Positve Accuracy: 0.11%\t Negative Accuracy: 75.84%\n",
      "Recall at 5% | 10% | 25% | 50% FDR: 61.7% | 15.3% | 46.5% | 100.0%\tNum Positives: 898\t Num Negatives: 898\n",
      "\n",
      "\n",
      "6710/6710 [==============================] - 7s - loss: 0.0296 - val_loss: 0.7537\n"
     ]
    }
   ],
   "source": [
    "dnn_normalized = Genome3D_DNN_FC(num_features=5760, use_deep_CNN=False)\n",
    "validation_data = (X_valid_normalized, y_valid)\n",
    "dnn_normalized.train(X_train_normalized, y_train, validation_data)"
   ]
  },
  {
   "cell_type": "code",
   "execution_count": 13,
   "metadata": {
    "collapsed": false
   },
   "outputs": [
    {
     "name": "stdout",
     "output_type": "stream",
     "text": [
      "Balanced Accuracy: 65.69%\tauROC: 0.707\t auPRC: 0.696\n",
      "Positve Accuracy: 2.23%\t Negative Accuracy: 74.29%\n",
      "Recall at 5% | 10% | 25% | 50% FDR: 57.1% | 2.4% | 29.8% | 100.0%\tNum Positives: 494\t Num Negatives: 494\n",
      "\n",
      "Balanced Accuracy: 100.00%\tauROC: 1.000\t auPRC: 1.000\n",
      "Positve Accuracy: 100.00%\t Negative Accuracy: 100.00%\n",
      "Recall at 5% | 10% | 25% | 50% FDR: 100.0% | 100.0% | 100.0% | 100.0%\tNum Positives: 3355\t Num Negatives: 3355\n",
      "\n",
      "Balanced Accuracy: 68.76%\tauROC: 0.752\t auPRC: 0.744\n",
      "Positve Accuracy: 0.11%\t Negative Accuracy: 75.84%\n",
      "Recall at 5% | 10% | 25% | 50% FDR: 61.7% | 15.3% | 46.5% | 100.0%\tNum Positives: 898\t Num Negatives: 898\n",
      "\n"
     ]
    }
   ],
   "source": [
    "print(dnn_normalized.test(X_test_normalized, y_test))\n",
    "print(dnn_normalized.test(X_train_normalized, y_train))\n",
    "print(dnn_normalized.test(X_valid_normalized, y_valid))"
   ]
  },
  {
   "cell_type": "markdown",
   "metadata": {},
   "source": [
    "# DeepLift on Train"
   ]
  },
  {
   "cell_type": "code",
   "execution_count": 20,
   "metadata": {
    "collapsed": true
   },
   "outputs": [],
   "source": [
    "preds_train = dnn_normalized.predict(X_train_normalized)"
   ]
  },
  {
   "cell_type": "code",
   "execution_count": 24,
   "metadata": {
    "collapsed": false
   },
   "outputs": [],
   "source": [
    "#save model and weights\n",
    "dnn_normalized.save(contacts+'_dnn_FC_seq_features_nodes_and_edges_'+'thres_'+thres, '/users/mtaranov/genome3D/')"
   ]
  },
  {
   "cell_type": "code",
   "execution_count": 27,
   "metadata": {
    "collapsed": true
   },
   "outputs": [],
   "source": [
    "weights='/users/mtaranov/genome3D/model_weights/'+contacts+'_dnn_FC_seq_features_nodes_and_edges_'+'thres_'+thres+'.weights.h5'\n",
    "json_model='/users/mtaranov/genome3D/models/'+contacts+'_dnn_FC_seq_features_nodes_and_edges_'+'thres_'+thres+'.arch.json'"
   ]
  },
  {
   "cell_type": "code",
   "execution_count": 28,
   "metadata": {
    "collapsed": false
   },
   "outputs": [
    {
     "name": "stdout",
     "output_type": "stream",
     "text": [
      "True\n",
      "nonlinear_mxts_mode is set to: RevealCancel\n"
     ]
    }
   ],
   "source": [
    "scores = dnn_normalized.deeplift(X_train_normalized[np.where(y_train[np.where(preds_train>0.9)[0]] ==1)[0]], weights, json_model, batch_size=128)"
   ]
  },
  {
   "cell_type": "code",
   "execution_count": 30,
   "metadata": {
    "collapsed": false
   },
   "outputs": [],
   "source": [
    "np.save('/users/mtaranov/genome3D/model_deeplift_scores/'+contacts+'_scores_dnn_FC_seq_features_nodes_and_edges.npy', scores)"
   ]
  },
  {
   "cell_type": "code",
   "execution_count": 31,
   "metadata": {
    "collapsed": false
   },
   "outputs": [],
   "source": [
    "motif_names=np.loadtxt('/users/mtaranov/datasets_3d/dist_matched_pe/motifs/d0_thres_0_test_pe_out_btw_nodes_3_0.0001/motif_names.txt', dtype=str, delimiter='/')[:,6:].reshape(640,)\n",
    "top_3_hits_names=[]\n",
    "for i in motif_names:\n",
    "    for j in range(3):\n",
    "        top_3_hits_names.append(i)\n",
    "top_3_hits_names = np.array(top_3_hits_names)"
   ]
  },
  {
   "cell_type": "code",
   "execution_count": 32,
   "metadata": {
    "collapsed": false
   },
   "outputs": [
    {
     "data": {
      "text/plain": [
       "[<matplotlib.lines.Line2D at 0x7f2707360650>]"
      ]
     },
     "execution_count": 32,
     "metadata": {},
     "output_type": "execute_result"
    },
    {
     "data": {
      "image/png": "[encoded data removed]",
      "text/plain": [
       "<matplotlib.figure.Figure at 0x7f2709701750>"
      ]
     },
     "metadata": {},
     "output_type": "display_data"
    }
   ],
   "source": [
    "plt.plot(np.mean(scores, axis=0))"
   ]
  },
  {
   "cell_type": "code",
   "execution_count": 33,
   "metadata": {
    "collapsed": false
   },
   "outputs": [],
   "source": [
    "# plt.pcolor(scores, cmap='hot', vmin=np.min(scores), vmax=np.max(scores)) # cmap='RdBu'\n",
    "# plt.xlabel('motifs/features')\n",
    "# plt.ylabel('examples')\n",
    "# plt.title('DeepLift Score - Window Motifs')\n",
    "# plt.colorbar()"
   ]
  },
  {
   "cell_type": "code",
   "execution_count": 34,
   "metadata": {
    "collapsed": true
   },
   "outputs": [],
   "source": [
    "score_per_feature_node1=np.mean(scores[:,0:5760:3], axis=0)\n",
    "score_per_feature_node2=np.mean(scores[:,1:5761:3], axis=0)\n",
    "score_per_feature_window=np.mean(scores[:,2:5762:3], axis=0)"
   ]
  },
  {
   "cell_type": "code",
   "execution_count": 35,
   "metadata": {
    "collapsed": false
   },
   "outputs": [
    {
     "data": {
      "text/plain": [
       "(1920,)"
      ]
     },
     "execution_count": 35,
     "metadata": {},
     "output_type": "execute_result"
    }
   ],
   "source": [
    "score_per_feature_node1.shape"
   ]
  },
  {
   "cell_type": "code",
   "execution_count": 36,
   "metadata": {
    "collapsed": false
   },
   "outputs": [],
   "source": [
    "DeepLift_Motifs_node1=top_3_hits_names[score_per_feature_node1.argsort()[::-1]]\n",
    "DeepLift_Motifs_node2=top_3_hits_names[score_per_feature_node2.argsort()[::-1]]\n",
    "DeepLift_Motifs_window=top_3_hits_names[score_per_feature_window.argsort()[::-1]]"
   ]
  },
  {
   "cell_type": "code",
   "execution_count": 37,
   "metadata": {
    "collapsed": false
   },
   "outputs": [
    {
     "name": "stdout",
     "output_type": "stream",
     "text": [
      "(array([ 376, 1136, 1683]),)\n",
      "(array([ 651,  722, 1371]),)\n"
     ]
    }
   ],
   "source": [
    "print np.where(DeepLift_Motifs_node1=='CTCF_HUMAN')\n",
    "print np.where(DeepLift_Motifs_node1=='CTCFL_HUMAN')"
   ]
  },
  {
   "cell_type": "code",
   "execution_count": 38,
   "metadata": {
    "collapsed": false
   },
   "outputs": [
    {
     "name": "stdout",
     "output_type": "stream",
     "text": [
      "(array([ 850, 1017, 1794]),)\n",
      "(array([ 421,  952, 1227]),)\n"
     ]
    }
   ],
   "source": [
    "print np.where(DeepLift_Motifs_node2=='CTCF_HUMAN')\n",
    "print np.where(DeepLift_Motifs_node2=='CTCFL_HUMAN')"
   ]
  },
  {
   "cell_type": "code",
   "execution_count": 39,
   "metadata": {
    "collapsed": false
   },
   "outputs": [
    {
     "name": "stdout",
     "output_type": "stream",
     "text": [
      "(array([1560, 1909, 1916]),)\n",
      "(array([ 574,  722, 1177]),)\n"
     ]
    }
   ],
   "source": [
    "print np.where(DeepLift_Motifs_window=='CTCF_HUMAN')\n",
    "print np.where(DeepLift_Motifs_window=='CTCFL_HUMAN')"
   ]
  },
  {
   "cell_type": "code",
   "execution_count": 40,
   "metadata": {
    "collapsed": false
   },
   "outputs": [
    {
     "data": {
      "text/plain": [
       "array(['NFAC1_HUMAN', 'GLIS3_HUMAN', 'ESR2_HUMAN', 'CR3L1_HUMAN',\n",
       "       'ZKSC3_HUMAN', 'PO6F1_HUMAN', 'NOBOX_HUMAN', 'HEN1_HUMAN',\n",
       "       'TFDP1_HUMAN', 'TFE2_HUMAN', 'PIT1_HUMAN', 'TF7L1_HUMAN',\n",
       "       'KLF14_HUMAN', 'PO3F1_HUMAN', 'TBX21_HUMAN', 'TGIF1_HUMAN',\n",
       "       'PO3F2_HUMAN', 'VDR_HUMAN', 'PRGR_HUMAN', 'ATF2_HUMAN',\n",
       "       'FOSL1_HUMAN', 'COT1_HUMAN', 'BATF_HUMAN', 'PO3F3_HUMAN',\n",
       "       'BPTF_HUMAN', 'GSX2_HUMAN', 'MLX_HUMAN', 'MEF2D_HUMAN',\n",
       "       'ETV5_HUMAN', 'FOXC1_HUMAN', 'TF7L1_HUMAN', 'RARG_HUMAN',\n",
       "       'FEV_HUMAN', 'P73_HUMAN', 'RX_HUMAN', 'DUXA_HUMAN', 'GLIS3_HUMAN',\n",
       "       'RXRB_HUMAN', 'NR2C1_HUMAN', 'TBX3_HUMAN', 'SP1_HUMAN',\n",
       "       'PHX2B_HUMAN', 'MNT_HUMAN', 'GCM1_HUMAN', 'DUXA_HUMAN',\n",
       "       'ELK4_HUMAN', 'ZN232_HUMAN', 'REL_HUMAN', 'ZN740_HUMAN',\n",
       "       'ESR2_HUMAN', 'ETV3_HUMAN', 'ZSCA4_HUMAN', 'GABPA_HUMAN',\n",
       "       'HEN1_HUMAN', 'HBP1_HUMAN', 'TFDP1_HUMAN', 'TBR1_HUMAN',\n",
       "       'NFKB2_HUMAN', 'MGAP_HUMAN', 'MLX_HUMAN', 'NR4A2_HUMAN',\n",
       "       'NR2E3_HUMAN', 'PBX3_HUMAN', 'SMAD1_HUMAN', 'FOSB_HUMAN',\n",
       "       'RXRB_HUMAN', 'ETV2_HUMAN', 'JDP2_HUMAN', 'NR2E3_HUMAN',\n",
       "       'P53_HUMAN', 'THB_HUMAN', 'ATF3_HUMAN', 'TEAD1_HUMAN', 'LHX6_HUMAN',\n",
       "       'HNF6_HUMAN', 'TFE2_HUMAN', 'E2F6_HUMAN', 'WT1_HUMAN',\n",
       "       'BATF3_HUMAN', 'SOX8_HUMAN', 'PO2F3_HUMAN', 'BHE23_HUMAN',\n",
       "       'GCR_HUMAN', 'ELF1_HUMAN', 'NKX21_HUMAN', 'FOXD3_HUMAN',\n",
       "       'SRF_HUMAN', 'ELF5_HUMAN', 'HXB8_HUMAN', 'HXC13_HUMAN',\n",
       "       'ATF2_HUMAN', 'NRL_HUMAN', 'FEV_HUMAN', 'ERG_HUMAN', 'OLIG3_HUMAN',\n",
       "       'NANOG_HUMAN', 'RUNX2_HUMAN', 'RX_HUMAN', 'NR1I3_HUMAN',\n",
       "       'ZN143_HUMAN'],\n",
       "      dtype='|S11')"
      ]
     },
     "execution_count": 40,
     "metadata": {},
     "output_type": "execute_result"
    }
   ],
   "source": [
    "# for i, item in enumerate(DeepLift_Window_Motifs_node1[:100]):\n",
    "#     print i, item\n",
    "DeepLift_Motifs_node1[:100]"
   ]
  },
  {
   "cell_type": "code",
   "execution_count": 41,
   "metadata": {
    "collapsed": false
   },
   "outputs": [
    {
     "data": {
      "text/plain": [
       "<matplotlib.text.Text at 0x7f2707c18410>"
      ]
     },
     "execution_count": 41,
     "metadata": {},
     "output_type": "execute_result"
    },
    {
     "data": {
      "image/png": "[encoded data removed]",
      "text/plain": [
       "<matplotlib.figure.Figure at 0x7f2707373750>"
      ]
     },
     "metadata": {},
     "output_type": "display_data"
    }
   ],
   "source": [
    "plt.plot(sorted(score_per_feature_node1)[::-1][:100])\n",
    "plt.xlabel('Features')\n",
    "plt.ylabel('Importance Score')\n",
    "plt.title('Top 100 Features')"
   ]
  },
  {
   "cell_type": "code",
   "execution_count": 42,
   "metadata": {
    "collapsed": false,
    "scrolled": true
   },
   "outputs": [
    {
     "data": {
      "text/plain": [
       "array(['TEAD4_HUMAN', 'HXB6_HUMAN', 'ELF3_HUMAN', 'LHX8_HUMAN',\n",
       "       'GATA4_HUMAN', 'FUBP1_HUMAN', 'HXB6_HUMAN', 'TGIF1_HUMAN',\n",
       "       'VDR_HUMAN', 'MEOX1_HUMAN', 'TBR1_HUMAN', 'PO3F2_HUMAN',\n",
       "       'SOX13_HUMAN', 'TYY1_HUMAN', 'GATA4_HUMAN', 'ELF5_HUMAN',\n",
       "       'CLOCK_HUMAN', 'ESR2_HUMAN', 'ZKSC3_HUMAN', 'KLF16_HUMAN',\n",
       "       'HBP1_HUMAN', 'ETV2_HUMAN', 'BATF_HUMAN', 'NR2C1_HUMAN',\n",
       "       'TFDP1_HUMAN', 'HXD8_HUMAN', 'NRL_HUMAN', 'HEY1_HUMAN',\n",
       "       'NFKB1_HUMAN', 'MEF2C_HUMAN', 'PPARA_HUMAN', 'BARH1_HUMAN',\n",
       "       'NFKB1_HUMAN', 'BPTF_HUMAN', 'NR2C2_HUMAN', 'HMX3_HUMAN',\n",
       "       'HBP1_HUMAN', 'EGR4_HUMAN', 'FLI1_HUMAN', 'TBX3_HUMAN',\n",
       "       'TBX3_HUMAN', 'PO3F2_HUMAN', 'NR1H2_HUMAN', 'SPDEF_HUMAN',\n",
       "       'ZN143_HUMAN', 'NANOG_HUMAN', 'LMX1B_HUMAN', 'P53_HUMAN',\n",
       "       'CEBPB_HUMAN', 'NKX21_HUMAN', 'ZN384_HUMAN', 'STF1_HUMAN',\n",
       "       'RUNX2_HUMAN', 'HXB6_HUMAN', 'FOXD3_HUMAN', 'HXA10_HUMAN',\n",
       "       'TBX4_HUMAN', 'ZN524_HUMAN', 'NR2C2_HUMAN', 'ARNT_HUMAN',\n",
       "       'STAT1_HUMAN', 'HESX1_HUMAN', 'HINFP_HUMAN', 'HLTF_HUMAN',\n",
       "       'THB_HUMAN', 'KLF16_HUMAN', 'TBX4_HUMAN', 'NR2E3_HUMAN',\n",
       "       'NDF2_HUMAN', 'PO3F1_HUMAN', 'NFKB1_HUMAN', 'ZN784_HUMAN',\n",
       "       'BARH2_HUMAN', 'MAFK_HUMAN', 'HSF4_HUMAN', 'TFEB_HUMAN',\n",
       "       'PBX1_HUMAN', 'CLOCK_HUMAN', 'VSX1_HUMAN', 'ZN219_HUMAN',\n",
       "       'PHX2B_HUMAN', 'TAL1_HUMAN', 'SOX11_HUMAN', 'ASCL2_HUMAN',\n",
       "       'SOX10_HUMAN', 'E4F1_HUMAN', 'FOXO6_HUMAN', 'HXA5_HUMAN',\n",
       "       'ZN410_HUMAN', 'MAFK_HUMAN', 'KLF8_HUMAN', 'ARNT_HUMAN',\n",
       "       'TEAD4_HUMAN', 'THAP1_HUMAN', 'P63_HUMAN', 'MUSC_HUMAN',\n",
       "       'ISX_HUMAN', 'KLF13_HUMAN', 'HEN1_HUMAN', 'PTF1A_HUMAN'],\n",
       "      dtype='|S11')"
      ]
     },
     "execution_count": 42,
     "metadata": {},
     "output_type": "execute_result"
    }
   ],
   "source": [
    "DeepLift_Motifs_node2[:100]"
   ]
  },
  {
   "cell_type": "code",
   "execution_count": 43,
   "metadata": {
    "collapsed": false
   },
   "outputs": [
    {
     "data": {
      "text/plain": [
       "<matplotlib.text.Text at 0x7f2707b4af90>"
      ]
     },
     "execution_count": 43,
     "metadata": {},
     "output_type": "execute_result"
    },
    {
     "data": {
      "image/png": "[encoded data removed]",
      "text/plain": [
       "<matplotlib.figure.Figure at 0x7f2707bfd750>"
      ]
     },
     "metadata": {},
     "output_type": "display_data"
    }
   ],
   "source": [
    "plt.plot(sorted(score_per_feature_node2)[::-1][:100])\n",
    "plt.xlabel('Features')\n",
    "plt.ylabel('Importance Score')\n",
    "plt.title('Top 100 Features')"
   ]
  },
  {
   "cell_type": "code",
   "execution_count": 44,
   "metadata": {
    "collapsed": false
   },
   "outputs": [
    {
     "data": {
      "text/plain": [
       "array(['HXB6_HUMAN', 'PAX1_HUMAN', 'HXB6_HUMAN', 'ELF3_HUMAN',\n",
       "       'TYY1_HUMAN', 'ZN589_HUMAN', 'ELF3_HUMAN', 'ZBT18_HUMAN',\n",
       "       'TYY1_HUMAN', 'MAFA_HUMAN', 'HXB6_HUMAN', 'ZN589_HUMAN',\n",
       "       'PAX4_HUMAN', 'HXC11_HUMAN', 'CDX1_HUMAN', 'PBX2_HUMAN',\n",
       "       'UBIP1_HUMAN', 'SRBP2_HUMAN', 'LHX2_HUMAN', 'ESR2_HUMAN',\n",
       "       'GLI1_HUMAN', 'FOXD3_HUMAN', 'PAX2_HUMAN', 'IRF5_HUMAN',\n",
       "       'XBP1_HUMAN', 'SMAD1_HUMAN', 'HLTF_HUMAN', 'HLF_HUMAN',\n",
       "       'MGAP_HUMAN', 'HXD8_HUMAN', 'PAX1_HUMAN', 'HXD3_HUMAN',\n",
       "       'PAX8_HUMAN', 'ZBT18_HUMAN', 'PAX4_HUMAN', 'ESR2_HUMAN',\n",
       "       'ELF3_HUMAN', 'SRY_HUMAN', 'MYBB_HUMAN', 'SRBP2_HUMAN',\n",
       "       'PAX7_HUMAN', 'VDR_HUMAN', 'THB_HUMAN', 'FOXJ2_HUMAN',\n",
       "       'CLOCK_HUMAN', 'LMX1A_HUMAN', 'NDF2_HUMAN', 'NGN2_HUMAN',\n",
       "       'BHE23_HUMAN', 'PIT1_HUMAN', 'TFE2_HUMAN', 'PROX1_HUMAN',\n",
       "       'SP2_HUMAN', 'HMGA1_HUMAN', 'NR0B1_HUMAN', 'PRDM4_HUMAN',\n",
       "       'GATA3_HUMAN', 'NFKB1_HUMAN', 'EVX2_HUMAN', 'PPARD_HUMAN',\n",
       "       'FUBP1_HUMAN', 'MEF2C_HUMAN', 'FUBP1_HUMAN', 'TF2LX_HUMAN',\n",
       "       'XBP1_HUMAN', 'ANDR_HUMAN', 'GABPA_HUMAN', 'NR2E3_HUMAN',\n",
       "       'ESR2_HUMAN', 'HIC2_HUMAN', 'RXRG_HUMAN', 'SOX4_HUMAN',\n",
       "       'MSX1_HUMAN', 'HXA7_HUMAN', 'ZEP2_HUMAN', 'ISL1_HUMAN',\n",
       "       'HMX2_HUMAN', 'DPRX_HUMAN', 'FOSL1_HUMAN', 'GLIS1_HUMAN',\n",
       "       'E4F1_HUMAN', 'BARH2_HUMAN', 'MAFA_HUMAN', 'FOXJ2_HUMAN',\n",
       "       'HNF4A_HUMAN', 'PO4F1_HUMAN', 'PHX2A_HUMAN', 'RXRB_HUMAN',\n",
       "       'LHX3_HUMAN', 'AP2D_HUMAN', 'REL_HUMAN', 'HNF4G_HUMAN',\n",
       "       'STAT2_HUMAN', 'ITF2_HUMAN', 'SMAD2_HUMAN', 'TFE2_HUMAN',\n",
       "       'CDC5L_HUMAN', 'MEOX1_HUMAN', 'RFX5_HUMAN', 'KLF6_HUMAN'],\n",
       "      dtype='|S11')"
      ]
     },
     "execution_count": 44,
     "metadata": {},
     "output_type": "execute_result"
    }
   ],
   "source": [
    "DeepLift_Motifs_window[:100]"
   ]
  },
  {
   "cell_type": "code",
   "execution_count": 45,
   "metadata": {
    "collapsed": false
   },
   "outputs": [
    {
     "data": {
      "text/plain": [
       "<matplotlib.text.Text at 0x7f2707a8b610>"
      ]
     },
     "execution_count": 45,
     "metadata": {},
     "output_type": "execute_result"
    },
    {
     "data": {
      "image/png": "[encoded data removed]",
      "text/plain": [
       "<matplotlib.figure.Figure at 0x7f2707abc510>"
      ]
     },
     "metadata": {},
     "output_type": "display_data"
    }
   ],
   "source": [
    "plt.plot(sorted(score_per_feature_window)[::-1][:100])\n",
    "plt.xlabel('Features')\n",
    "plt.ylabel('Importance Score')\n",
    "plt.title('Top 100 Features')"
   ]
  },
  {
   "cell_type": "code",
   "execution_count": 47,
   "metadata": {
    "collapsed": false
   },
   "outputs": [
    {
     "name": "stderr",
     "output_type": "stream",
     "text": [
      "/users/mtaranov/local/anaconda2/lib/python2.7/site-packages/ipykernel/__main__.py:1: DeprecationWarning: the sets module is deprecated\n",
      "  if __name__ == '__main__':\n"
     ]
    }
   ],
   "source": [
    "from sets import Set\n",
    "uniq_node1 = Set(DeepLift_Motifs_node1[:100])\n",
    "uniq_node2 = Set(DeepLift_Motifs_node2[:100])\n",
    "uniq_window = Set(DeepLift_Motifs_window[:100])"
   ]
  },
  {
   "cell_type": "code",
   "execution_count": 48,
   "metadata": {
    "collapsed": false
   },
   "outputs": [
    {
     "data": {
      "text/plain": [
       "Set(['VDR_HUMAN', 'NKX21_HUMAN', 'TBX3_HUMAN', 'P53_HUMAN', 'ZKSC3_HUMAN', 'FOXD3_HUMAN', 'NR2E3_HUMAN', 'ZN143_HUMAN', 'PHX2B_HUMAN', 'NRL_HUMAN', 'ELF5_HUMAN', 'THB_HUMAN', 'PO3F1_HUMAN', 'TBR1_HUMAN', 'HEN1_HUMAN', 'HBP1_HUMAN', 'BATF_HUMAN', 'BPTF_HUMAN', 'TGIF1_HUMAN', 'PO3F2_HUMAN', 'NANOG_HUMAN', 'ESR2_HUMAN', 'TFDP1_HUMAN', 'ETV2_HUMAN', 'RUNX2_HUMAN', 'NR2C1_HUMAN'])"
      ]
     },
     "execution_count": 48,
     "metadata": {},
     "output_type": "execute_result"
    }
   ],
   "source": [
    "uniq_node1 & uniq_node2"
   ]
  },
  {
   "cell_type": "code",
   "execution_count": 49,
   "metadata": {
    "collapsed": false
   },
   "outputs": [
    {
     "data": {
      "text/plain": [
       "Set(['THB_HUMAN', 'NR2E3_HUMAN', 'ESR2_HUMAN', 'FOXD3_HUMAN', 'VDR_HUMAN'])"
      ]
     },
     "execution_count": 49,
     "metadata": {},
     "output_type": "execute_result"
    }
   ],
   "source": [
    "uniq_node1 & uniq_node2 & uniq_window"
   ]
  },
  {
   "cell_type": "code",
   "execution_count": null,
   "metadata": {
    "collapsed": true
   },
   "outputs": [],
   "source": []
  }
 ],
 "metadata": {
  "anaconda-cloud": {},
  "kernelspec": {
   "display_name": "Python [default]",
   "language": "python",
   "name": "python2"
  },
  "language_info": {
   "codemirror_mode": {
    "name": "ipython",
    "version": 2
   },
   "file_extension": ".py",
   "mimetype": "text/x-python",
   "name": "python",
   "nbconvert_exporter": "python",
   "pygments_lexer": "ipython2",
   "version": "2.7.12"
  }
 },
 "nbformat": 4,
 "nbformat_minor": 0
}
