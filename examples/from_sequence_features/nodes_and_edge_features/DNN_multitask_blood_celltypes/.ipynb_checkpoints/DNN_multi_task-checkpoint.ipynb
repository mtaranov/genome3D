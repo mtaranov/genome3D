{
 "cells": [
  {
   "cell_type": "code",
   "execution_count": 1,
   "metadata": {
    "collapsed": false
   },
   "outputs": [
    {
     "name": "stderr",
     "output_type": "stream",
     "text": [
      "Using Theano backend.\n",
      "WARNING (theano.sandbox.cuda): The cuda backend is deprecated and will be removed in the next release (v0.10).  Please switch to the gpuarray backend. You can get more information about how to switch at this URL:\n",
      " https://github.com/Theano/Theano/wiki/Converting-to-the-new-gpu-back-end%28gpuarray%29\n",
      "\n",
      "Using gpu device 1: GeForce GTX TITAN X (CNMeM is enabled with initial size: 2500 MB, cuDNN 5005)\n"
     ]
    }
   ],
   "source": [
    "%matplotlib inline\n",
    "%load_ext autoreload\n",
    "%autoreload 2\n",
    "\n",
    "import sys\n",
    "import numpy as np\n",
    "import matplotlib.pyplot as plt\n",
    "from sklearn.preprocessing import MinMaxScaler, StandardScaler\n",
    "import copy\n",
    "sys.path.append('/users/mtaranov/LongRange3D/')\n",
    "from models_motif_blood import LongRangeDNN_FC\n",
    "from utils import  concat_motifs, concat_motifs_w_indx, get_features, get_labels, subsample_data, normalize_features, reconstruct_2d, printMatrix, binarize, zscore, get_2D, plot_prediction, change_scale \n",
    "#from sklearn.preprocessing import MinMaxScaler, StandardScaler\n",
    "#from dragonn.models import Model, SequenceDNN\n",
    "#from keras.models import Sequential\n",
    "#from keras.callbacks import Callback, EarlyStopping\n",
    "#from keras.layers.core import (\n",
    "#    Activation, Dense, Dropout, Flatten,\n",
    "#    Permute, Reshape, TimeDistributedDense\n",
    "#)\n",
    "#from keras.layers.convolutional import Convolution2D, MaxPooling2D\n",
    "#from keras.layers.recurrent import GRU\n",
    "#from keras.regularizers import l1\n",
    "\n",
    "#from deeplift import keras_conversion as kc\n",
    "#from deeplift.blobs import MxtsMode"
   ]
  },
  {
   "cell_type": "code",
   "execution_count": 3,
   "metadata": {
    "collapsed": false
   },
   "outputs": [],
   "source": [
    "path='/users/mtaranov/datasets_captureC_blood/'\n",
    "\n",
    "X_train_node1 = path+'motifs/train_out_node1_3_0.0001/mat.npy'\n",
    "X_train_node2 = path+'motifs/train_out_node2_3_0.0001/mat.npy'\n",
    "X_train_window = path+'motifs/train_out_btw_nodes_3_0.0001/mat.npy'\n",
    "\n",
    "X_test_node1 = path+'motifs/test_out_node1_3_0.0001/mat.npy'\n",
    "X_test_node2 = path+'motifs/test_out_node2_3_0.0001/mat.npy'\n",
    "X_test_window = path+'motifs/test_out_btw_nodes_3_0.0001/mat.npy'\n",
    "\n",
    "X_valid_node1 = path+'motifs/valid_out_node1_3_0.0001/mat.npy'\n",
    "X_valid_node2 = path+'motifs/valid_out_node2_3_0.0001/mat.npy'\n",
    "X_valid_window = path+'motifs/valid_out_btw_nodes_3_0.0001/mat.npy'\n",
    "\n",
    "y_train = np.load(path+'labels/y_train_all.npy')\n",
    "y_test = np.load(path+'labels/y_test_all.npy')\n",
    "y_valid = np.load(path+'labels/y_valid_all.npy')\n"
   ]
  },
  {
   "cell_type": "code",
   "execution_count": null,
   "metadata": {
    "collapsed": false
   },
   "outputs": [],
   "source": [
    "X_train=concat_motifs([X_train_node1, X_train_node2])\n",
    "X_valid=concat_motifs([X_valid_node1, X_valid_node2])\n",
    "X_test=concat_motifs([X_test_node1, X_test_node2])\n",
    "    \n",
    "X_train_normalized, X_valid_normalized, X_test_normalized = normalize_features(X_train, X_valid, X_test)\n",
    "    \n",
    "X_train_pairs = X_train_normalized.reshape(X_train_normalized.shape[0],X_train_normalized.shape[2]*X_train_normalized.shape[3])\n",
    "X_valid_pairs = X_valid_normalized.reshape(X_valid_normalized.shape[0],X_valid_normalized.shape[2]*X_valid_normalized.shape[3])\n",
    "X_test_pairs = X_test_normalized.reshape(X_test_normalized.shape[0],X_test_normalized.shape[2]*X_test_normalized.shape[3])\n",
    "\n",
    "print 'data'\n",
    "print X_train_pairs.shape, X_valid_pairs.shape, X_test_pairs.shape\n",
    "\n",
    "    "
   ]
  },
  {
   "cell_type": "code",
   "execution_count": null,
   "metadata": {
    "collapsed": true
   },
   "outputs": [],
   "source": [
    "from models_motif_blood import LongRangeDNN_FC\n",
    "dnn_normalized = LongRangeDNN_FC(num_features=3840, use_deep_CNN=True)\n",
    "validation_data = (X_valid_pairs, y_valid)\n",
    "dnn_normalized.train(X_train_pairs, y_train, validation_data)\n"
   ]
  },
  {
   "cell_type": "code",
   "execution_count": null,
   "metadata": {
    "collapsed": true
   },
   "outputs": [],
   "source": [
    "print(dnn_normalized.test(X_test_pairs, y_test))\n",
    "print(dnn_normalized.test(X_train_pairs, y_train))\n",
    "print(dnn_normalized.test(X_valid_pairs, y_valid))"
   ]
  }
 ],
 "metadata": {
  "anaconda-cloud": {},
  "kernelspec": {
   "display_name": "Python [default]",
   "language": "python",
   "name": "python2"
  },
  "language_info": {
   "codemirror_mode": {
    "name": "ipython",
    "version": 2
   },
   "file_extension": ".py",
   "mimetype": "text/x-python",
   "name": "python",
   "nbconvert_exporter": "python",
   "pygments_lexer": "ipython2",
   "version": "2.7.12"
  }
 },
 "nbformat": 4,
 "nbformat_minor": 0
}
