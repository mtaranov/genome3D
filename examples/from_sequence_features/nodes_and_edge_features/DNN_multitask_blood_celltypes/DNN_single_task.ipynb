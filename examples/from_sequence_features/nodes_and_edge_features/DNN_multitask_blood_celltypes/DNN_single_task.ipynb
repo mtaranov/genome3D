{
 "cells": [
  {
   "cell_type": "code",
   "execution_count": 6,
   "metadata": {
    "collapsed": false
   },
   "outputs": [
    {
     "name": "stdout",
     "output_type": "stream",
     "text": [
      "The autoreload extension is already loaded. To reload it, use:\n",
      "  %reload_ext autoreload\n"
     ]
    }
   ],
   "source": [
    "%matplotlib inline\n",
    "%load_ext autoreload\n",
    "%autoreload 2\n",
    "\n",
    "import sys\n",
    "import numpy as np\n",
    "import matplotlib.pyplot as plt\n",
    "import pickle\n",
    "from sklearn.preprocessing import MinMaxScaler, StandardScaler\n",
    "sys.path.append('/users/mtaranov/genome3D/')\n",
    "from models_3d import Genome3D_DNN_FC\n",
    "from utils import concat_motifs_w_indx, normalize_features_sampl_by_f, concat_motifs, get_features, get_labels, subsample_data, normalize_features, reconstruct_2d, printMatrix, binarize, zscore, get_2D, plot_prediction, change_scale\n",
    "#from sklearn.preprocessing import MinMaxScaler, StandardScaler"
   ]
  },
  {
   "cell_type": "code",
   "execution_count": 4,
   "metadata": {
    "collapsed": true
   },
   "outputs": [],
   "source": [
    "path='/users/mtaranov/datasets_captureC_blood/'\n",
    "\n",
    "X_train_node1 = path+'motifs/train_out_node1_3_0.0001/mat.npy'\n",
    "X_train_node2 = path+'motifs/train_out_node2_3_0.0001/mat.npy'\n",
    "X_train_window = path+'motifs/train_out_btw_nodes_3_0.0001/mat.npy'\n",
    "\n",
    "X_test_node1 = path+'motifs/test_out_node1_3_0.0001/mat.npy'\n",
    "X_test_node2 = path+'motifs/test_out_node2_3_0.0001/mat.npy'\n",
    "X_test_window = path+'motifs/test_out_btw_nodes_3_0.0001/mat.npy'\n",
    "\n",
    "X_valid_node1 = path+'motifs/valid_out_node1_3_0.0001/mat.npy'\n",
    "X_valid_node2 = path+'motifs/valid_out_node2_3_0.0001/mat.npy'\n",
    "X_valid_window = path+'motifs/valid_out_btw_nodes_3_0.0001/mat.npy'\n"
   ]
  },
  {
   "cell_type": "code",
   "execution_count": null,
   "metadata": {
    "collapsed": false
   },
   "outputs": [
    {
     "name": "stdout",
     "output_type": "stream",
     "text": [
      "labels\n",
      "(11232, 1) (4589, 1) (2990, 1)\n",
      "data\n",
      "(11232, 5760) (4589, 5760) (2990, 5760)\n",
      "Training model...\n",
      "Train on 11232 samples, validate on 4589 samples\n",
      "Epoch 1/100\n",
      "11000/11232 [============================>.] - ETA: 0s - loss: 1.1950Epoch 0: validation loss: 11.441\n",
      "Balanced Accuracy: 50.00%\tauROC: 0.506\t auPRC: 0.564\n",
      "Positve Accuracy: 0.00%\t Negative Accuracy: 100.00%\n",
      "Recall at 5% | 10% | 25% | 50% FDR: 0.0% | 0.0% | 0.0% | 0.0%\tNum Positives: 1214\t Num Negatives: 3375\n",
      "\n",
      "\n",
      "11232/11232 [==============================] - 4s - loss: 1.1951 - val_loss: 11.4411\n",
      "Epoch 2/100\n",
      "11000/11232 [============================>.] - ETA: 0s - loss: 0.9553Epoch 1: validation loss: 3.104\n",
      "Balanced Accuracy: 49.92%\tauROC: 0.498\t auPRC: 0.263\n",
      "Positve Accuracy: 0.00%\t Negative Accuracy: 99.84%\n",
      "Recall at 5% | 10% | 25% | 50% FDR: 0.0% | 0.0% | 0.0% | 0.0%\tNum Positives: 1214\t Num Negatives: 3375\n",
      "\n",
      "\n",
      "11232/11232 [==============================] - 3s - loss: 0.9534 - val_loss: 3.1042\n",
      "Epoch 3/100\n",
      "11000/11232 [============================>.] - ETA: 0s - loss: 0.8219Epoch 2: validation loss: 3.600\n",
      "Balanced Accuracy: 49.93%\tauROC: 0.529\t auPRC: 0.283\n",
      "Positve Accuracy: 0.08%\t Negative Accuracy: 99.84%\n",
      "Recall at 5% | 10% | 25% | 50% FDR: 0.0% | 0.1% | 0.1% | 0.1%\tNum Positives: 1214\t Num Negatives: 3375\n",
      "\n",
      "\n"
     ]
    }
   ],
   "source": [
    "cell_types = ['Mon', 'Mac0', 'Mac1', 'Mac2', 'Neu', 'MK', 'EP', 'Ery', 'FoeT', 'nCD4', 'tCD4', 'aCD4', 'naCD4', 'nCD8', 'tCD8', 'nB', 'tB']\n",
    "\n",
    "for cell_type in cell_types:\n",
    "    y_train = get_labels(path+'labels/y_train_'+cell_type+'.npy')\n",
    "    y_test = get_labels(path+'labels/y_test_'+cell_type+'.npy')\n",
    "    y_valid = get_labels(path+'labels/y_valid_'+cell_type+'.npy')\n",
    "    print 'labels'\n",
    "    print y_train.shape,  y_valid.shape,  y_test.shape\n",
    "    \n",
    "    indx_train = np.load(path+'labels/y_train_'+cell_type+'_indx.npy')\n",
    "    indx_test = np.load(path+'labels/y_test_'+cell_type+'_indx.npy')\n",
    "    indx_valid = np.load(path+'labels/y_valid_'+cell_type+'_indx.npy')\n",
    "\n",
    "    X_train=concat_motifs_w_indx([X_train_node1, X_train_node2, X_train_window], indx_train)\n",
    "    X_valid=concat_motifs_w_indx([X_valid_node1, X_valid_node2, X_valid_window], indx_valid)\n",
    "    X_test=concat_motifs_w_indx([X_test_node1, X_test_node2, X_test_window], indx_test)\n",
    "    \n",
    "    X_train_normalized, X_valid_normalized, X_test_normalized = normalize_features(X_train, X_valid, X_test)\n",
    "    \n",
    "    X_train_pairs = X_train_normalized.reshape(X_train_normalized.shape[0],X_train_normalized.shape[2]*X_train_normalized.shape[3])\n",
    "    X_valid_pairs = X_valid_normalized.reshape(X_valid_normalized.shape[0],X_valid_normalized.shape[2]*X_valid_normalized.shape[3])\n",
    "    X_test_pairs = X_test_normalized.reshape(X_test_normalized.shape[0],X_test_normalized.shape[2]*X_test_normalized.shape[3])\n",
    "\n",
    "    print 'data'\n",
    "    print X_train_pairs.shape, X_valid_pairs.shape, X_test_pairs.shape\n",
    "\n",
    "    \n",
    "    dnn_normalized = Genome3D_DNN_FC(num_features=5760, use_deep_CNN=True)\n",
    "    validation_data = (X_valid_pairs, y_valid)\n",
    "    dnn_normalized.train(X_train_pairs, y_train, validation_data)\n",
    "    \n",
    "    print 'PREDICTION IN', cell_type\n",
    "    print(dnn_normalized.test(X_test_pairs, y_test))\n",
    "    print(dnn_normalized.test(X_train_pairs, y_train))\n",
    "    print(dnn_normalized.test(X_valid_pairs, y_valid))"
   ]
  },
  {
   "cell_type": "code",
   "execution_count": null,
   "metadata": {
    "collapsed": true
   },
   "outputs": [],
   "source": []
  }
 ],
 "metadata": {
  "anaconda-cloud": {},
  "kernelspec": {
   "display_name": "Python [default]",
   "language": "python",
   "name": "python2"
  },
  "language_info": {
   "codemirror_mode": {
    "name": "ipython",
    "version": 2
   },
   "file_extension": ".py",
   "mimetype": "text/x-python",
   "name": "python",
   "nbconvert_exporter": "python",
   "pygments_lexer": "ipython2",
   "version": "2.7.12"
  }
 },
 "nbformat": 4,
 "nbformat_minor": 0
}
