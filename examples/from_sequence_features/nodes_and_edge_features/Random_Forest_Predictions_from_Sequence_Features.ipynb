{
 "cells": [
  {
   "cell_type": "code",
   "execution_count": 7,
   "metadata": {
    "collapsed": false
   },
   "outputs": [
    {
     "name": "stdout",
     "output_type": "stream",
     "text": [
      "The autoreload extension is already loaded. To reload it, use:\n",
      "  %reload_ext autoreload\n"
     ]
    }
   ],
   "source": [
    "%matplotlib inline\n",
    "%load_ext autoreload\n",
    "%autoreload 2\n",
    "\n",
    "import pickle\n",
    "import sys\n",
    "import numpy as np\n",
    "import copy\n",
    "import matplotlib.pyplot as plt\n",
    "from sklearn.preprocessing import MinMaxScaler, StandardScaler\n",
    "sys.path.append('/users/mtaranov/genome3D/')\n",
    "from models_3d import Genome3D_RandomForest\n",
    "from metrics import ClassificationResult\n",
    "from utils import normalize_features_sampl_by_f, concat_motifs, get_features, get_labels, subsample_data, normalize_features, reconstruct_2d, printMatrix, binarize, zscore, get_2D, plot_prediction, change_scale "
   ]
  },
  {
   "cell_type": "code",
   "execution_count": 2,
   "metadata": {
    "collapsed": false
   },
   "outputs": [],
   "source": [
    "contacts='pe'\n",
    "path='/users/mtaranov/datasets_3d/by_chr_dist_matched_'+contacts+'/'\n",
    "day='d0'\n",
    "thres='10'\n",
    "\n",
    "X_train_node1 = path+'motifs/'+day+'_thres_'+thres+'_train_'+contacts+'_out_node1_3_0.0001/mat.npy'\n",
    "X_train_node2 = path+'motifs/'+day+'_thres_'+thres+'_train_'+contacts+'_out_node2_3_0.0001/mat.npy'\n",
    "X_train_window = path+'motifs/'+day+'_thres_'+thres+'_train_'+contacts+'_out_btw_nodes_3_0.0001/mat.npy'\n",
    "\n",
    "\n",
    "X_test_node1 = path+'motifs/'+day+'_thres_'+thres+'_test_'+contacts+'_out_node1_3_0.0001/mat.npy'\n",
    "X_test_node2 = path+'motifs/'+day+'_thres_'+thres+'_test_'+contacts+'_out_node2_3_0.0001/mat.npy'\n",
    "X_test_window = path+'motifs/'+day+'_thres_'+thres+'_test_'+contacts+'_out_btw_nodes_3_0.0001/mat.npy'\n",
    "\n",
    "X_valid_node1 = path+'motifs/'+day+'_thres_'+thres+'_valid_'+contacts+'_out_node1_3_0.0001/mat.npy'\n",
    "X_valid_node2 = path+'motifs/'+day+'_thres_'+thres+'_valid_'+contacts+'_out_node2_3_0.0001/mat.npy'\n",
    "X_valid_window = path+'motifs/'+day+'_thres_'+thres+'_valid_'+contacts+'_out_btw_nodes_3_0.0001/mat.npy'\n",
    "\n",
    "y_train = get_labels(path+day+'_y_train_thres_'+thres+'.npy')\n",
    "y_test = get_labels(path+day+'_y_test_thres_'+thres+'.npy')\n",
    "y_valid = get_labels(path+day+'_y_valid_thres_'+thres+'.npy')\n",
    "\n",
    "X_train=concat_motifs([X_train_node1, X_train_node2, X_train_window])\n",
    "X_test=concat_motifs([X_test_node1, X_test_node2, X_test_window])\n",
    "X_valid=concat_motifs([X_valid_node1, X_valid_node2, X_valid_window])"
   ]
  },
  {
   "cell_type": "code",
   "execution_count": 4,
   "metadata": {
    "collapsed": false
   },
   "outputs": [],
   "source": [
    "X_train_pairs = X_train.reshape(X_train.shape[0],X_train.shape[2]*X_train.shape[3])\n",
    "X_valid_pairs = X_valid.reshape(X_valid.shape[0],X_valid.shape[2]*X_valid.shape[3])\n",
    "X_test_pairs = X_test.reshape(X_test.shape[0],X_test.shape[2]*X_test.shape[3])"
   ]
  },
  {
   "cell_type": "code",
   "execution_count": 5,
   "metadata": {
    "collapsed": false
   },
   "outputs": [],
   "source": [
    "X_train_normalized, X_valid_normalized, X_test_normalized = normalize_features_sampl_by_f(X_train_pairs, X_valid_pairs, X_test_pairs)"
   ]
  },
  {
   "cell_type": "markdown",
   "metadata": {},
   "source": [
    "# Random Forest"
   ]
  },
  {
   "cell_type": "markdown",
   "metadata": {},
   "source": [
    "### with motifs only"
   ]
  },
  {
   "cell_type": "markdown",
   "metadata": {},
   "source": [
    "# Estimating hyper-parameter using held out validation set"
   ]
  },
  {
   "cell_type": "code",
   "execution_count": 6,
   "metadata": {
    "collapsed": true
   },
   "outputs": [],
   "source": [
    "# X_train_valid = np.concatenate((X_train_normalized, X_valid_normalized), axis=0)\n",
    "# y_train_valid = np.concatenate((y_train, y_valid), axis=0)\n",
    "# test_fold to 0 for all samples that are part of the validation set, and to -1 for all other samples.\n",
    "# valid_index=[-1 for i in range(X_train_normalized.shape[0])]+[0 for i in range(X_valid_normalized.shape[0])]\n",
    "# param_grid = {'n_estimators': [100, 200, 500], 'criterion': ['gini', 'entropy'], 'max_features': ['auto', 'log2' ], 'max_depth': [None, 2, 3, 5], 'min_samples_split': [2, 3, 4], 'min_samples_leaf': [1, 2, 3], 'min_impurity_split': [0.0 , 0.1, 0.2]}\n",
    "# best_param={}\n",
    "# rf = Genome3D_RandomForest(best_param)\n",
    "# best_param = rf.train_cross_val(X_train_valid[:,:], [i for i in y_train_valid[:,0]], valid_index, param_grid)"
   ]
  },
  {
   "cell_type": "markdown",
   "metadata": {},
   "source": [
    "# Random Forest Predictions"
   ]
  },
  {
   "cell_type": "code",
   "execution_count": 8,
   "metadata": {
    "collapsed": true
   },
   "outputs": [],
   "source": [
    "best_param = pickle.load(open( '/users/mtaranov/genome3D/examples/from_sequence_features/nodes_and_edge_features/best_param_rf.pkl', 'rb' ) )"
   ]
  },
  {
   "cell_type": "code",
   "execution_count": 9,
   "metadata": {
    "collapsed": true
   },
   "outputs": [],
   "source": [
    "rf = Genome3D_RandomForest(best_param)"
   ]
  },
  {
   "cell_type": "code",
   "execution_count": 10,
   "metadata": {
    "collapsed": false
   },
   "outputs": [
    {
     "name": "stderr",
     "output_type": "stream",
     "text": [
      "/users/mtaranov/genome3D/models_3d.py:269: DataConversionWarning: A column-vector y was passed when a 1d array was expected. Please change the shape of y to (n_samples,), for example using ravel().\n",
      "  self.classifier.fit(X, y)\n"
     ]
    },
    {
     "name": "stdout",
     "output_type": "stream",
     "text": [
      "On Test:\n",
      "Balanced Accuracy: 64.27%\t auROC: 0.667\t auPRC: 0.638\t auPRG: 0.370\n",
      "Positve Accuracy: 76.32%\t Negative Accuracy: 52.23%\n",
      "Recall at 5%|10%|20% FDR: 2.4%|2.8%|7.3%\t Num Positives: 494\t Num Negatives: 494\t \n",
      "\n",
      "On Train:\n",
      "Balanced Accuracy: 100.00%\t auROC: 1.000\t auPRC: 1.000\t auPRG: 1.000\n",
      "Positve Accuracy: 100.00%\t Negative Accuracy: 100.00%\n",
      "Recall at 5%|10%|20% FDR: 100.0%|100.0%|100.0%\t Num Positives: 3355\t Num Negatives: 3355\t \n",
      "\n"
     ]
    }
   ],
   "source": [
    "rf.train(X_train_normalized, y_train)\n",
    "preds_test = rf.predict(X_test_normalized)\n",
    "preds_train = rf.predict(X_train_normalized)\n",
    "print ('On Test:\\n{}\\n'.format(ClassificationResult(y_test, preds_test)))\n",
    "print ('On Train:\\n{}\\n'.format(ClassificationResult(y_train, preds_train)))"
   ]
  },
  {
   "cell_type": "markdown",
   "metadata": {},
   "source": [
    "# Random Forest Feature Selection"
   ]
  },
  {
   "cell_type": "code",
   "execution_count": 11,
   "metadata": {
    "collapsed": true
   },
   "outputs": [],
   "source": [
    "scores=rf.ImportanceSelect()"
   ]
  },
  {
   "cell_type": "code",
   "execution_count": 12,
   "metadata": {
    "collapsed": false
   },
   "outputs": [
    {
     "data": {
      "text/plain": [
       "(5760,)"
      ]
     },
     "execution_count": 12,
     "metadata": {},
     "output_type": "execute_result"
    }
   ],
   "source": [
    "scores.shape"
   ]
  },
  {
   "cell_type": "code",
   "execution_count": 13,
   "metadata": {
    "collapsed": true
   },
   "outputs": [],
   "source": [
    "motif_names=np.loadtxt('/users/mtaranov/datasets_3d/dist_matched_PE/motifs/train_PE_out_btw_nodes_3_0.0001/motif_names.txt', dtype=str, delimiter='/')[:,6:].reshape(640,)\n",
    "top_3_hits_names=[]\n",
    "for i in motif_names:\n",
    "    for j in range(3):\n",
    "        top_3_hits_names.append(i)\n",
    "top_3_hits_names = np.array(top_3_hits_names)"
   ]
  },
  {
   "cell_type": "code",
   "execution_count": 14,
   "metadata": {
    "collapsed": false
   },
   "outputs": [],
   "source": [
    "score_per_feature_node1=scores[0:5760:3]\n",
    "score_per_feature_node2=scores[1:5761:3]\n",
    "score_per_feature_window=scores[2:5762:3]"
   ]
  },
  {
   "cell_type": "code",
   "execution_count": 15,
   "metadata": {
    "collapsed": true
   },
   "outputs": [],
   "source": [
    "RF_Importance_Motifs_node1=top_3_hits_names[score_per_feature_node1.argsort()[::-1]]\n",
    "RF_Importance_Motifs_node2=top_3_hits_names[score_per_feature_node2.argsort()[::-1]]\n",
    "RF_Importance_Motifs_window=top_3_hits_names[score_per_feature_window.argsort()[::-1]]"
   ]
  },
  {
   "cell_type": "code",
   "execution_count": 16,
   "metadata": {
    "collapsed": false
   },
   "outputs": [
    {
     "name": "stdout",
     "output_type": "stream",
     "text": [
      "(array([ 384, 1138, 1394]),)\n",
      "(array([233, 400, 741]),)\n"
     ]
    }
   ],
   "source": [
    "print np.where(RF_Importance_Motifs_node1=='CTCF_HUMAN')\n",
    "print np.where(RF_Importance_Motifs_node1=='CTCFL_HUMAN')"
   ]
  },
  {
   "cell_type": "code",
   "execution_count": 17,
   "metadata": {
    "collapsed": false
   },
   "outputs": [
    {
     "name": "stdout",
     "output_type": "stream",
     "text": [
      "(array([ 239,  252, 1017]),)\n",
      "(array([ 112,  187, 1105]),)\n"
     ]
    }
   ],
   "source": [
    "print np.where(RF_Importance_Motifs_node2=='CTCF_HUMAN')\n",
    "print np.where(RF_Importance_Motifs_node2=='CTCFL_HUMAN')"
   ]
  },
  {
   "cell_type": "code",
   "execution_count": 18,
   "metadata": {
    "collapsed": false
   },
   "outputs": [
    {
     "name": "stdout",
     "output_type": "stream",
     "text": [
      "(array([ 460,  917, 1366]),)\n",
      "(array([161, 168, 467]),)\n"
     ]
    }
   ],
   "source": [
    "print np.where(RF_Importance_Motifs_window=='CTCF_HUMAN')\n",
    "print np.where(RF_Importance_Motifs_window=='CTCFL_HUMAN')"
   ]
  },
  {
   "cell_type": "code",
   "execution_count": 19,
   "metadata": {
    "collapsed": false
   },
   "outputs": [
    {
     "data": {
      "text/plain": [
       "array(['HXB6_HUMAN', 'ELF3_HUMAN', 'SOX15_HUMAN', 'ARI5B_HUMAN',\n",
       "       'HMX3_HUMAN', 'RFX2_HUMAN', 'SMAD2_HUMAN', 'ARI5B_HUMAN',\n",
       "       'P5F1B_HUMAN', 'FOXJ2_HUMAN', 'TBX15_HUMAN', 'SOX15_HUMAN',\n",
       "       'ISX_HUMAN', 'VSX2_HUMAN', 'TBX15_HUMAN', 'RFX2_HUMAN',\n",
       "       'VAX2_HUMAN', 'SP4_HUMAN', 'HMBX1_HUMAN', 'IRF5_HUMAN',\n",
       "       'P5F1B_HUMAN', 'ARI5B_HUMAN', 'HXA1_HUMAN', 'ZN282_HUMAN',\n",
       "       'SMAD2_HUMAN', 'NFAC3_HUMAN', 'NFIA_HUMAN', 'IRX2_HUMAN',\n",
       "       'HMX3_HUMAN', 'MEOX2_HUMAN', 'TBP_HUMAN', 'SP4_HUMAN', 'SOX5_HUMAN',\n",
       "       'TAL1_HUMAN', 'IKZF1_HUMAN', 'NKX28_HUMAN', 'DLX4_HUMAN',\n",
       "       'MEIS2_HUMAN', 'GCR_HUMAN', 'HXA1_HUMAN', 'HLTF_HUMAN',\n",
       "       'IRF5_HUMAN', 'PLAG1_HUMAN', 'HXC10_HUMAN', 'TBX20_HUMAN',\n",
       "       'HXA1_HUMAN', 'NKX28_HUMAN', 'SOX21_HUMAN', 'GATA1_HUMAN',\n",
       "       'HIC1_HUMAN', 'DLX4_HUMAN', 'ETV3_HUMAN', 'IRF5_HUMAN', 'SP1_HUMAN',\n",
       "       'RFX1_HUMAN', 'HXB7_HUMAN', 'FOXD2_HUMAN', 'TAL1_HUMAN',\n",
       "       'ZBTB4_HUMAN', 'IRF4_HUMAN', 'GCR_HUMAN', 'RARB_HUMAN',\n",
       "       'TAL1_HUMAN', 'IRF8_HUMAN', 'IRF4_HUMAN', 'PEBB_HUMAN',\n",
       "       'HLTF_HUMAN', 'HXC10_HUMAN', 'HXD3_HUMAN', 'MEIS2_HUMAN',\n",
       "       'ISL1_HUMAN', 'TWST1_HUMAN', 'TBX15_HUMAN', 'HLTF_HUMAN',\n",
       "       'FOXA1_HUMAN', 'HMBX1_HUMAN', 'SUH_HUMAN', 'PO5F1_HUMAN',\n",
       "       'HXC10_HUMAN', 'PKNX2_HUMAN', 'ONEC2_HUMAN', 'IRX2_HUMAN',\n",
       "       'HXB6_HUMAN', 'SMAD2_HUMAN', 'E2F4_HUMAN', 'STF1_HUMAN',\n",
       "       'VSX2_HUMAN', 'BHA15_HUMAN', 'HNF1A_HUMAN', 'E2F4_HUMAN',\n",
       "       'HMBX1_HUMAN', 'MEIS2_HUMAN', 'VSX2_HUMAN', 'MYCN_HUMAN',\n",
       "       'ELF3_HUMAN', 'GATA1_HUMAN', 'FOXK1_HUMAN', 'RUNX3_HUMAN',\n",
       "       'PROP1_HUMAN', 'SP2_HUMAN'],\n",
       "      dtype='|S11')"
      ]
     },
     "execution_count": 19,
     "metadata": {},
     "output_type": "execute_result"
    }
   ],
   "source": [
    "RF_Importance_Motifs_node1[:100]"
   ]
  },
  {
   "cell_type": "code",
   "execution_count": 20,
   "metadata": {
    "collapsed": false
   },
   "outputs": [
    {
     "data": {
      "text/plain": [
       "array(['MAFG_HUMAN', 'TBP_HUMAN', 'IRF5_HUMAN', 'EOMES_HUMAN', 'TBP_HUMAN',\n",
       "       'TBX15_HUMAN', 'KLF4_HUMAN', 'TBX15_HUMAN', 'ZBED1_HUMAN',\n",
       "       'KLF4_HUMAN', 'ZBED1_HUMAN', 'TAL1_HUMAN', 'ZBTB4_HUMAN',\n",
       "       'P5F1B_HUMAN', 'MEIS2_HUMAN', 'SP1_HUMAN', 'GCR_HUMAN', 'TBP_HUMAN',\n",
       "       'TBX4_HUMAN', 'MAFG_HUMAN', 'PO3F3_HUMAN', 'PRGR_HUMAN',\n",
       "       'IRF4_HUMAN', 'ARI5B_HUMAN', 'LEF1_HUMAN', 'P5F1B_HUMAN',\n",
       "       'ARI5B_HUMAN', 'HMBX1_HUMAN', 'SMAD2_HUMAN', 'RFX4_HUMAN',\n",
       "       'IRF8_HUMAN', 'ZBTB4_HUMAN', 'ZN350_HUMAN', 'EOMES_HUMAN',\n",
       "       'BACH1_HUMAN', 'TAL1_HUMAN', 'IRF4_HUMAN', 'ZN350_HUMAN',\n",
       "       'IRF4_HUMAN', 'HNF1A_HUMAN', 'ZSC16_HUMAN', 'TAL1_HUMAN',\n",
       "       'E2F4_HUMAN', 'HXA1_HUMAN', 'PAX5_HUMAN', 'MZF1_HUMAN',\n",
       "       'HXA1_HUMAN', 'PO3F3_HUMAN', 'OLIG3_HUMAN', 'NKX28_HUMAN',\n",
       "       'ARI5B_HUMAN', 'MAZ_HUMAN', 'NOBOX_HUMAN', 'TBX1_HUMAN',\n",
       "       'PO5F1_HUMAN', 'ZBED1_HUMAN', 'NFAC3_HUMAN', 'ZBTB4_HUMAN',\n",
       "       'SRBP2_HUMAN', 'MAFG_HUMAN', 'TBX1_HUMAN', 'TBX20_HUMAN',\n",
       "       'GRHL1_HUMAN', 'FOXJ2_HUMAN', 'ETV3_HUMAN', 'IRF5_HUMAN',\n",
       "       'BHA15_HUMAN', 'GATA1_HUMAN', 'E2F4_HUMAN', 'HIC2_HUMAN',\n",
       "       'ONEC2_HUMAN', 'PKNX2_HUMAN', 'HMBX1_HUMAN', 'STAT4_HUMAN',\n",
       "       'NDF2_HUMAN', 'ETV3_HUMAN', 'E2F4_HUMAN', 'RARB_HUMAN',\n",
       "       'IRF5_HUMAN', 'MEIS2_HUMAN', 'PO2F2_HUMAN', 'STA5A_HUMAN',\n",
       "       'SMRC1_HUMAN', 'RORG_HUMAN', 'GATA6_HUMAN', 'SOX15_HUMAN',\n",
       "       'ZBTB4_HUMAN', 'ETV3_HUMAN', 'VSX2_HUMAN', 'ZSC16_HUMAN',\n",
       "       'ISL1_HUMAN', 'SMAD2_HUMAN', 'HXA9_HUMAN', 'VAX2_HUMAN',\n",
       "       'HME1_HUMAN', 'SNAI1_HUMAN', 'ZSCA4_HUMAN', 'ZBTB6_HUMAN',\n",
       "       'IKZF1_HUMAN', 'RXRG_HUMAN'],\n",
       "      dtype='|S11')"
      ]
     },
     "execution_count": 20,
     "metadata": {},
     "output_type": "execute_result"
    }
   ],
   "source": [
    "RF_Importance_Motifs_node2[:100]"
   ]
  },
  {
   "cell_type": "code",
   "execution_count": 21,
   "metadata": {
    "collapsed": false
   },
   "outputs": [
    {
     "data": {
      "text/plain": [
       "array(['P63_HUMAN', 'HXB6_HUMAN', 'FOXD3_HUMAN', 'ELF3_HUMAN',\n",
       "       'HXB6_HUMAN', 'LHX8_HUMAN', 'LHX2_HUMAN', 'E2F8_HUMAN',\n",
       "       'ZBT18_HUMAN', 'CRX_HUMAN', 'FOXD3_HUMAN', 'NFYA_HUMAN',\n",
       "       'HXA7_HUMAN', 'BARX2_HUMAN', 'GLI1_HUMAN', 'GLI1_HUMAN',\n",
       "       'ALX4_HUMAN', 'HXB6_HUMAN', 'P63_HUMAN', 'SRY_HUMAN', 'PKNX2_HUMAN',\n",
       "       'GRHL1_HUMAN', 'HXA7_HUMAN', 'ELK1_HUMAN', 'ETV3_HUMAN',\n",
       "       'OLIG3_HUMAN', 'ETV3_HUMAN', 'ZN423_HUMAN', 'EMX1_HUMAN',\n",
       "       'FLI1_HUMAN', 'CREB3_HUMAN', 'ALX4_HUMAN', 'DUXA_HUMAN',\n",
       "       'LHX8_HUMAN', 'SOX13_HUMAN', 'SPIC_HUMAN', 'HXD8_HUMAN',\n",
       "       'ELK1_HUMAN', 'ZN589_HUMAN', 'PKNX2_HUMAN', 'SRY_HUMAN',\n",
       "       'ELF3_HUMAN', 'PAX3_HUMAN', 'CREB3_HUMAN', 'ELF3_HUMAN',\n",
       "       'HXD12_HUMAN', 'ERR1_HUMAN', 'MAFA_HUMAN', 'FOXC1_HUMAN',\n",
       "       'RARG_HUMAN', 'EMX1_HUMAN', 'HXC8_HUMAN', 'ARI5B_HUMAN',\n",
       "       'NFAC1_HUMAN', 'DUXA_HUMAN', 'HXC8_HUMAN', 'FOXK1_HUMAN',\n",
       "       'RARG_HUMAN', 'TFDP1_HUMAN', 'HMGA2_HUMAN', 'THAP1_HUMAN',\n",
       "       'TEAD1_HUMAN', 'FLI1_HUMAN', 'ZN524_HUMAN', 'HSFY1_HUMAN',\n",
       "       'MEF2B_HUMAN', 'SRY_HUMAN', 'ESR1_HUMAN', 'BHE40_HUMAN',\n",
       "       'TF7L1_HUMAN', 'NFAC1_HUMAN', 'NF2L1_HUMAN', 'MEF2C_HUMAN',\n",
       "       'GLI1_HUMAN', 'PO4F1_HUMAN', 'RARG_HUMAN', 'NANOG_HUMAN',\n",
       "       'SMAD1_HUMAN', 'FOXI1_HUMAN', 'P63_HUMAN', 'KLF12_HUMAN',\n",
       "       'BARX2_HUMAN', 'DLX5_HUMAN', 'ZN384_HUMAN', 'OLIG3_HUMAN',\n",
       "       'NKX62_HUMAN', 'ZN423_HUMAN', 'FOXC2_HUMAN', 'DDIT3_HUMAN',\n",
       "       'HXD12_HUMAN', 'NFAC1_HUMAN', 'PLAG1_HUMAN', 'EVX2_HUMAN',\n",
       "       'PAX6_HUMAN', 'MEOX1_HUMAN', 'CEBPG_HUMAN', 'MYBA_HUMAN',\n",
       "       'NANOG_HUMAN', 'E2F8_HUMAN', 'GABPA_HUMAN'],\n",
       "      dtype='|S11')"
      ]
     },
     "execution_count": 21,
     "metadata": {},
     "output_type": "execute_result"
    }
   ],
   "source": [
    "RF_Importance_Motifs_window[:100]"
   ]
  },
  {
   "cell_type": "code",
   "execution_count": 22,
   "metadata": {
    "collapsed": false
   },
   "outputs": [
    {
     "name": "stderr",
     "output_type": "stream",
     "text": [
      "/users/mtaranov/local/anaconda2/lib/python2.7/site-packages/ipykernel/__main__.py:1: DeprecationWarning: the sets module is deprecated\n",
      "  if __name__ == '__main__':\n"
     ]
    }
   ],
   "source": [
    "from sets import Set\n",
    "uniq_RF_Importance_Motifs_node1 = Set(RF_Importance_Motifs_node1[:100])\n",
    "uniq_RF_Importance_Motifs_node2 = Set(RF_Importance_Motifs_node2[:100])\n",
    "uniq_RF_Importance_Motifs_window = Set(RF_Importance_Motifs_window[:100])\n"
   ]
  },
  {
   "cell_type": "code",
   "execution_count": 23,
   "metadata": {
    "collapsed": false
   },
   "outputs": [
    {
     "data": {
      "text/plain": [
       "Set(['PKNX2_HUMAN', 'ARI5B_HUMAN', 'ETV3_HUMAN'])"
      ]
     },
     "execution_count": 23,
     "metadata": {},
     "output_type": "execute_result"
    }
   ],
   "source": [
    "uniq_RF_Importance_Motifs_node1 & uniq_RF_Importance_Motifs_node2 & uniq_RF_Importance_Motifs_window\n"
   ]
  },
  {
   "cell_type": "code",
   "execution_count": null,
   "metadata": {
    "collapsed": true
   },
   "outputs": [],
   "source": []
  }
 ],
 "metadata": {
  "anaconda-cloud": {},
  "kernelspec": {
   "display_name": "Python [default]",
   "language": "python",
   "name": "python2"
  },
  "language_info": {
   "codemirror_mode": {
    "name": "ipython",
    "version": 2
   },
   "file_extension": ".py",
   "mimetype": "text/x-python",
   "name": "python",
   "nbconvert_exporter": "python",
   "pygments_lexer": "ipython2",
   "version": "2.7.12"
  }
 },
 "nbformat": 4,
 "nbformat_minor": 0
}
