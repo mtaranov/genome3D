{
 "cells": [
  {
   "cell_type": "code",
   "execution_count": 16,
   "metadata": {
    "collapsed": false
   },
   "outputs": [
    {
     "name": "stdout",
     "output_type": "stream",
     "text": [
      "The autoreload extension is already loaded. To reload it, use:\n",
      "  %reload_ext autoreload\n"
     ]
    }
   ],
   "source": [
    "%matplotlib inline\n",
    "%load_ext autoreload\n",
    "%autoreload 2\n",
    "\n",
    "import pickle\n",
    "import sys\n",
    "import numpy as np\n",
    "import matplotlib.pyplot as plt\n",
    "from sklearn.preprocessing import MinMaxScaler, StandardScaler\n",
    "import copy\n",
    "sys.path.append('/users/mtaranov/genome3D/')\n",
    "from models_3d import Genome3D_RandomForest\n",
    "from metrics import ClassificationResult\n",
    "from utils import normalize_features_sampl_by_f, concat_motifs,get_features, get_labels, subsample_data, normalize_features, reconstruct_2d, printMatrix, binarize, zscore, get_2D, plot_prediction, change_scale "
   ]
  },
  {
   "cell_type": "code",
   "execution_count": 5,
   "metadata": {
    "collapsed": false
   },
   "outputs": [],
   "source": [
    "contacts='pe'\n",
    "path='/users/mtaranov/datasets_3d/by_chr_dist_matched_'+contacts+'/'\n",
    "day='d0'\n",
    "thres='10'\n",
    "\n",
    "X_train = np.load(path+'motifs/'+day+'_thres_'+thres+'_train_'+contacts+'_out_btw_nodes_3_0.0001/mat.npy')\n",
    "X_test = np.load(path+'motifs/'+day+'_thres_'+thres+'_test_'+contacts+'_out_btw_nodes_3_0.0001/mat.npy')\n",
    "X_valid = np.load(path+'motifs/'+day+'_thres_'+thres+'_valid_'+contacts+'_out_btw_nodes_3_0.0001/mat.npy')\n",
    "\n",
    "y_train = get_labels(path+day+'_y_train_thres_'+thres+'.npy')\n",
    "y_test = get_labels(path+day+'_y_test_thres_'+thres+'.npy')\n",
    "y_valid = get_labels(path+day+'_y_valid_thres_'+thres+'.npy')\n"
   ]
  },
  {
   "cell_type": "code",
   "execution_count": 10,
   "metadata": {
    "collapsed": false
   },
   "outputs": [],
   "source": [
    "X_train_normalized, X_valid_normalized, X_test_normalized = normalize_features_sampl_by_f(X_train, X_valid, X_test)"
   ]
  },
  {
   "cell_type": "markdown",
   "metadata": {},
   "source": [
    "# Random Forest Predictions"
   ]
  },
  {
   "cell_type": "code",
   "execution_count": 11,
   "metadata": {
    "collapsed": true
   },
   "outputs": [],
   "source": [
    "best_param = pickle.load(open( '/users/mtaranov/genome3D/examples/from_sequence_features/edge_features/best_param_rf.pkl', 'rb' ) )"
   ]
  },
  {
   "cell_type": "code",
   "execution_count": 14,
   "metadata": {
    "collapsed": false
   },
   "outputs": [],
   "source": [
    "rf = Genome3D_RandomForest(best_param)"
   ]
  },
  {
   "cell_type": "code",
   "execution_count": 17,
   "metadata": {
    "collapsed": false
   },
   "outputs": [
    {
     "name": "stdout",
     "output_type": "stream",
     "text": [
      "On Test:\n",
      "Balanced Accuracy: 58.81%\t auROC: 0.595\t auPRC: 0.608\t auPRG: 0.204\n",
      "Positve Accuracy: 67.00%\t Negative Accuracy: 50.61%\n",
      "Recall at 5%|10%|20% FDR: 6.7%|7.7%|9.3%\t Num Positives: 494\t Num Negatives: 494\t \n",
      "\n",
      "On Train:\n",
      "Balanced Accuracy: 99.81%\t auROC: 1.000\t auPRC: 1.000\t auPRG: 1.000\n",
      "Positve Accuracy: 99.85%\t Negative Accuracy: 99.76%\n",
      "Recall at 5%|10%|20% FDR: 100.0%|100.0%|100.0%\t Num Positives: 3355\t Num Negatives: 3355\t \n",
      "\n"
     ]
    }
   ],
   "source": [
    "rf.train(X_train_normalized, y_train)\n",
    "preds_test = rf.predict(X_test_normalized)\n",
    "preds_train = rf.predict(X_train_normalized)\n",
    "print ('On Test:\\n{}\\n'.format(ClassificationResult(y_test, preds_test)))\n",
    "print ('On Train:\\n{}\\n'.format(ClassificationResult(y_train, preds_train)))"
   ]
  },
  {
   "cell_type": "code",
   "execution_count": null,
   "metadata": {
    "collapsed": true
   },
   "outputs": [],
   "source": []
  }
 ],
 "metadata": {
  "anaconda-cloud": {},
  "kernelspec": {
   "display_name": "Python [default]",
   "language": "python",
   "name": "python2"
  },
  "language_info": {
   "codemirror_mode": {
    "name": "ipython",
    "version": 2
   },
   "file_extension": ".py",
   "mimetype": "text/x-python",
   "name": "python",
   "nbconvert_exporter": "python",
   "pygments_lexer": "ipython2",
   "version": "2.7.12"
  }
 },
 "nbformat": 4,
 "nbformat_minor": 0
}
